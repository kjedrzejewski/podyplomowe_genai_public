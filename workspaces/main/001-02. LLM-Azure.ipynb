{
 "cells": [
  {
   "cell_type": "markdown",
   "metadata": {},
   "source": [
    "## Korzystanie z API Open AI w Azure używając pakietu _openai_\n",
    "\n"
   ]
  },
  {
   "cell_type": "markdown",
   "metadata": {},
   "source": [
    "W przykładzie poniżej pokazujemy, jak korzystać z modeli OpenAI wdrożonych w Azure. W tym przypadku również używamy pakietu **openai**, ale zamiast standardowej klasy OpenAI, korzystamy z klasy **AzureOpenAI**, która jest przeznaczona do komunikacji z modelami wdrożonymi w chmurze Azure.\n",
    "\n",
    "Ta metoda wymaga dodatkowych parametrów konfiguracyjnych, takich jak endpoint Azure oraz wersja API, ale zapewnia te same funkcjonalności co bezpośrednie API OpenAI, z korzyściami wynikającymi z hostowania w chmurze Azure (zgodność z politykami bezpieczeństwa, regionalność danych, integracja z innymi usługami Azure)."
   ]
  },
  {
   "cell_type": "code",
   "execution_count": null,
   "metadata": {},
   "outputs": [],
   "source": [
    "from openai import AzureOpenAI\n",
    "import os\n",
    "\n",
    "# Inicjalizacja klienta\n",
    "azure_key = os.getenv('AZURE_OPENAI_API_KEY')\n",
    "azure_openai_url = \"https://bigdata-genai.openai.azure.com/\"\n",
    "client = AzureOpenAI(\n",
    "    api_key=azure_key,\n",
    "    azure_endpoint=azure_openai_url,\n",
    "    api_version=\"2024-08-01-preview\"\n",
    ")\n",
    "\n",
    "# Wysłanie zapytania\n",
    "response = client.chat.completions.create(\n",
    "    model=\"gpt-4o\", # nazwa deploymentu w Azure AI Foundry\n",
    "    messages=[\n",
    "        {\"role\": \"system\", \"content\": \"Jesteś pomocnym asystentem.\"}, # system prompt - konfiguracja roli jaką model ma pełnić\n",
    "        {\"role\": \"user\", \"content\": \"Napisz wiersz o Gen AI\"}, # konkretne polecenie do wykonania\n",
    "    ],\n",
    "    temperature=0.7,\n",
    "    max_tokens=1000\n",
    ")\n",
    "\n",
    "# Wyświetlenie odpowiedzi\n",
    "print(response.choices[0].message.content)"
   ]
  },
  {
   "cell_type": "markdown",
   "metadata": {},
   "source": [
    "## Korzystanie z API Open AI w Azure używając pakietu _langchain_"
   ]
  },
  {
   "cell_type": "markdown",
   "metadata": {},
   "source": [
    "W przykładzie poniżej korzystamy z modeli OpenAI wdrożonych w Azure za pomocą biblioteki **langchain**. Langchain zapewnia warstwę abstrakcji ponad API, co ułatwia tworzenie złożonych łańcuchów prompta i integrację z innymi komponentami.\n",
    "\n",
    "Przy korzystaniu z Azure OpenAI przez langchain używamy klasy **AzureChatOpenAI**, która pozwala na komunikację z modelami wdrożonymi w Azure. Podobnie jak w przypadku bezpośredniego API Azure, musimy podać dodatkowe parametry konfiguracyjne, takie jak endpoint i wersja API."
   ]
  },
  {
   "cell_type": "code",
   "execution_count": null,
   "metadata": {},
   "outputs": [],
   "source": [
    "from langchain_openai import AzureChatOpenAI\n",
    "from langchain_core.prompts import ChatPromptTemplate\n",
    "import os\n",
    "\n",
    "# Inicjalizacja klienta\n",
    "azure_key = os.getenv('AZURE_OPENAI_API_KEY')\n",
    "azure_openai_url = \"https://bigdata-genai.openai.azure.com/\"\n",
    "\n",
    "chat_model = AzureChatOpenAI(\n",
    "    openai_api_key=azure_key,\n",
    "    azure_deployment=\"gpt-4o\",\n",
    "    azure_endpoint=azure_openai_url,\n",
    "    api_version=\"2024-08-01-preview\",\n",
    "    temperature=0.7,\n",
    "    max_tokens=1000\n",
    ")\n",
    "\n",
    "# Wysłanie zapytania\n",
    "prompt = ChatPromptTemplate.from_messages([\n",
    "    (\"system\", \"Jesteś pomocnym asystentem.\"),\n",
    "    (\"human\", \"{prompt}\")\n",
    "])\n",
    "\n",
    "chain = prompt | chat_model\n",
    "\n",
    "result = chain.invoke({\n",
    "    \"prompt\": \"Napisz wiersz o Gen AI\"\n",
    "})\n",
    "\n",
    "# Wyświetlenie odpowiedzi\n",
    "print(result.content)"
   ]
  },
  {
   "cell_type": "code",
   "execution_count": null,
   "metadata": {},
   "outputs": [],
   "source": []
  }
 ],
 "metadata": {
  "kernelspec": {
   "display_name": "genai_venv",
   "language": "python",
   "name": "python3"
  },
  "language_info": {
   "codemirror_mode": {
    "name": "ipython",
    "version": 3
   },
   "file_extension": ".py",
   "mimetype": "text/x-python",
   "name": "python",
   "nbconvert_exporter": "python",
   "pygments_lexer": "ipython3",
   "version": "3.11.2"
  }
 },
 "nbformat": 4,
 "nbformat_minor": 2
}
