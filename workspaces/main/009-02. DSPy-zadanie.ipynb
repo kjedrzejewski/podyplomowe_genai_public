{
 "cells": [
  {
   "cell_type": "markdown",
   "id": "ee70659c",
   "metadata": {},
   "source": [
    "# Zadanie - Agent pogodowy z DSPy ReAct - Rozwiązanie"
   ]
  },
  {
   "cell_type": "markdown",
   "id": "cad4d84b",
   "metadata": {},
   "source": [
    "Twoim zadaniem jest stworzenie agenta pogodowego używając DSPy z modułem `dspy.ReAct()`. Agent ma być asystentem odpowiadającym na pytania o pogodę w danym mieście.\n",
    "\n",
    "## Wymagania\n",
    "\n",
    "1. **Wykorzystaj funkcje z przykładu function calling** (003-01. LLM-function_calling.ipynb):\n",
    "   - `get_geolocation(location)` - pobiera współrzędne geograficzne dla danej nazwy\n",
    "   - `get_current_weather(latitude, longitude)` - pobiera aktualne dane pogodowe\n",
    "\n",
    "2. **Skonfiguruj DSPy** zgodnie z przykładem z 009-01. DSPy.ipynb:\n",
    "   - Użyj modelu GPT-4.1\n",
    "\n",
    "3. **Stwórz agenta ReAct** który:\n",
    "   - Przyjmuje pytanie o pogodę jako input\n",
    "   - Zwraca odpowiedź tekstową z informacją o pogodzie\n",
    "   - Używa dostępnych narzędzi do zebrania danych\n",
    "\n",
    "4. **Przetestuj agenta** na przykładowych pytaniach\n",
    "\n",
    "5. Opcjonalnie, **podejrzyj prompty wysłane przez DSPy** używając `dspy.inspect_history(n=4)`\n",
    "\n",
    "\n",
    "## Wskazówki\n",
    "\n",
    "- Dokumentacja DSPy.ReAct(): https://dspy.ai/tutorials/agents\n",
    "- Wykorzystaj sygnaturę DSPy do zdefiniowania wejścia i wyjścia agenta"
   ]
  },
  {
   "cell_type": "markdown",
   "id": "0b2e32f1",
   "metadata": {},
   "source": [
    "## Importy"
   ]
  },
  {
   "cell_type": "code",
   "execution_count": null,
   "id": "9288c49d",
   "metadata": {},
   "outputs": [],
   "source": [
    "# Import bibliotek\n",
    "import dspy\n",
    "import os\n",
    "import requests"
   ]
  },
  {
   "cell_type": "markdown",
   "id": "2460b0d2",
   "metadata": {},
   "source": [
    "## Funkcje narzędzi\n",
    "\n",
    "Te same co w `003-01. LLM-function_calling.ipynb`"
   ]
  },
  {
   "cell_type": "code",
   "execution_count": null,
   "id": "4ea4a341",
   "metadata": {},
   "outputs": [],
   "source": [
    "def get_geolocation(location):\n",
    "    \"\"\"\n",
    "    Pobiera współrzędne geograficzne oraz dane lokalizacyjne.\n",
    "\n",
    "    Args:\n",
    "        location (str): Nazwa lokalizacji, dla której chcemy uzyskać współrzędne geograficzne.\n",
    "\n",
    "    Returns:\n",
    "        dict: Dane lokalizacyjne w formacie JSON.\n",
    "    \"\"\"\n",
    "    # Definiowanie endpointu i parametrów dla API OpenStreetMap Nominatim\n",
    "    geocode_endpoint = \"https://nominatim.openstreetmap.org/search\"\n",
    "    geocode_params = {\n",
    "        \"q\": location,\n",
    "        \"format\": \"json\"\n",
    "    }\n",
    "\n",
    "    # Nagłówek User-Agent jest wymagany do korzystania z tego API\n",
    "    headers = {\n",
    "        \"User-Agent\": \"Python script\"\n",
    "    }\n",
    "\n",
    "    # Wykonanie zapytania\n",
    "    geocode_response = requests.get(geocode_endpoint, params=geocode_params, headers=headers)\n",
    "\n",
    "    # Wyciągnięcie współrzędnych geograficznych\n",
    "    geocode_data = geocode_response.json()\n",
    "    \n",
    "    # Zwrócenie tylko nazwy miejsca, szerokości i długości geograficznej\n",
    "    simplified_data = {\n",
    "        \"name\": geocode_data[0][\"display_name\"],\n",
    "        \"latitude\": geocode_data[0][\"lat\"],\n",
    "        \"longitude\": geocode_data[0][\"lon\"]\n",
    "    }\n",
    "    return simplified_data"
   ]
  },
  {
   "cell_type": "code",
   "execution_count": null,
   "id": "7eb91de8",
   "metadata": {},
   "outputs": [],
   "source": [
    "def get_wind_direction(degrees):\n",
    "    \"\"\"\n",
    "    Konwertuje kierunek wiatru z stopni na nazwy kierunków.\n",
    "\n",
    "    Args:\n",
    "        degrees (float): Kierunek wiatru w stopniach.\n",
    "\n",
    "    Returns:\n",
    "        str: Nazwa kierunku wiatru.\n",
    "    \"\"\"\n",
    "    directions = ['N', 'NNE', 'NE', 'ENE', 'E', 'ESE', 'SE', 'SSE',\n",
    "                  'S', 'SSW', 'SW', 'WSW', 'W', 'WNW', 'NW', 'NNW']\n",
    "    index = int((degrees + 11.25) // 22.5) % 16\n",
    "    return directions[index]\n",
    "\n",
    "def get_current_weather(latitude, longitude):\n",
    "    \"\"\"\n",
    "    Pobiera aktualne dane pogodowe dla podanych współrzędnych geograficznych.\n",
    "\n",
    "    Args:\n",
    "        latitude (float): Szerokość geograficzna.\n",
    "        longitude (float): Długość geograficzna.\n",
    "\n",
    "    Returns:\n",
    "        dict: Dane pogodowe w formacie JSON.\n",
    "    \"\"\"\n",
    "    # Zdefiniowanie endpointu i parametrów dla Open Meteo API\n",
    "    weather_endpoint = \"https://api.open-meteo.com/v1/forecast\"\n",
    "    weather_params = {\n",
    "        \"latitude\": latitude,\n",
    "        \"longitude\": longitude,\n",
    "        \"current_weather\": True\n",
    "    }\n",
    "\n",
    "    # Wykonanie requestu\n",
    "    weather_response = requests.get(weather_endpoint, params=weather_params)\n",
    "\n",
    "    # Wyciągnięcie informacji o pogodzie\n",
    "    weather_data = weather_response.json()\n",
    "\n",
    "    simplified_weather = {\n",
    "        \"temperature\": f\"{weather_data['current_weather']['temperature']} °C\",\n",
    "        \"wind_speed\": f\"{weather_data['current_weather']['windspeed']} km/h\",\n",
    "        \"wind_direction\": get_wind_direction(weather_data['current_weather']['winddirection']),\n",
    "        \"is_day\": \"day\" if weather_data['current_weather']['is_day'] else \"night\"\n",
    "    }\n",
    "\n",
    "    return simplified_weather"
   ]
  },
  {
   "cell_type": "markdown",
   "id": "8a30e134",
   "metadata": {},
   "source": [
    "## Rozwiązanie zadania"
   ]
  },
  {
   "cell_type": "code",
   "execution_count": null,
   "id": "d5b5b3bc",
   "metadata": {},
   "outputs": [],
   "source": []
  }
 ],
 "metadata": {
  "kernelspec": {
   "display_name": "genai_venv",
   "language": "python",
   "name": "python3"
  },
  "language_info": {
   "codemirror_mode": {
    "name": "ipython",
    "version": 3
   },
   "file_extension": ".py",
   "mimetype": "text/x-python",
   "name": "python",
   "nbconvert_exporter": "python",
   "pygments_lexer": "ipython3",
   "version": "3.11.2"
  }
 },
 "nbformat": 4,
 "nbformat_minor": 5
}
