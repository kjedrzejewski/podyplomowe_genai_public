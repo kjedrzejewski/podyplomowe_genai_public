{
 "cells": [
  {
   "cell_type": "markdown",
   "id": "d34659c2",
   "metadata": {},
   "source": [
    "# Zadanie: Implementacja RAG z bazą SQL biura podróży\n",
    "\n",
    "## Opis zadania\n",
    "\n",
    "Stwórz system RAG (Retrieval-Augmented Generation) wykorzystujący bazę danych SQL biura podróży. System ma analizować zapytanie użytkownika, określać jakie informacje musi pobrać z bazy danych, a następnie wykorzystywać te informacje do wygenerowania odpowiedzi.\n",
    "\n",
    "Wykorzystaj bazę danych biura podróży w SQLite (`008-03. RAG data/biuro_podrozy.db`)\n",
    "\n",
    "Działaj z perspektywy __2025-05-01__ (przekaż tę datę modeli w system prompcie jako aktualną).\n",
    "\n",
    "## Potencjalne podejście 1\n",
    "\n",
    "1. Wykorzystanie LLM do przeanalizowania zapytania użytkownika, i stworzenia zapytania SQL, które wyciągnie z bazy potrzebne informacje.\n",
    "2. Wykonanie zapytań na bazie danych.\n",
    "3. Wykorzystanie LLM do sformułowania finalnej odpowiedzi, w oparciu o pytanie użytkownika i wynik zapytań.\n",
    "\n",
    "## Potencjalne podejście 2\n",
    "\n",
    "1. Wykorzystanie LLM do obsługi zapytania użytkownika.\n",
    "2. Udostępnienie mu narzędzia do wysyłania SELECTów do bazy danych.\n",
    "    + więcej w temacie Function Callingu robiliśmy w [tym notebooku](004-01.%20LLM-structured_outputs.ipynb)\n",
    "\n",
    "## Schemat bazy danych\n",
    "\n",
    "```{sql}\n",
    "CREATE TABLE clients (\n",
    "      client_id INTEGER PRIMARY KEY,\n",
    "      first_name TEXT NOT NULL,\n",
    "      last_name TEXT NOT NULL,\n",
    "      email TEXT NOT NULL UNIQUE,\n",
    "      phone TEXT,\n",
    "      address TEXT,\n",
    "      city TEXT,\n",
    "      postal_code TEXT,\n",
    "      date_of_birth DATE,\n",
    "      registration_date DATE NOT NULL,\n",
    "      preferred_payment_method TEXT,\n",
    "      loyalty_points INTEGER DEFAULT 0\n",
    "   )\n",
    "\n",
    "   CREATE TABLE destinations (\n",
    "      destination_id INTEGER PRIMARY KEY,\n",
    "      name TEXT NOT NULL,\n",
    "      country TEXT NOT NULL,\n",
    "      description TEXT,\n",
    "      climate TEXT,\n",
    "      best_time_to_visit TEXT,\n",
    "      language TEXT,\n",
    "      currency TEXT,\n",
    "      popular_score INTEGER,\n",
    "      average_temperature REAL\n",
    "   )\n",
    "\n",
    "   CREATE TABLE hotels (\n",
    "      hotel_id INTEGER PRIMARY KEY,\n",
    "      destination_id INTEGER NOT NULL,\n",
    "      name TEXT NOT NULL,\n",
    "      stars INTEGER CHECK (stars BETWEEN 1 AND 5),\n",
    "      description TEXT,\n",
    "      amenities TEXT,\n",
    "      room_types TEXT,\n",
    "      distance_to_center REAL,\n",
    "      price_per_night REAL,\n",
    "      FOREIGN KEY (destination_id) REFERENCES destinations (destination_id)\n",
    "   )\n",
    "\n",
    "   CREATE TABLE tours (\n",
    "      tour_id INTEGER PRIMARY KEY,\n",
    "      destination_id INTEGER NOT NULL,\n",
    "      name TEXT NOT NULL,\n",
    "      description TEXT,\n",
    "      duration_days INTEGER,\n",
    "      included_services TEXT,\n",
    "      activities TEXT,\n",
    "      difficulty_level TEXT,\n",
    "      base_price REAL,\n",
    "      availability_start DATE,\n",
    "      availability_end DATE,\n",
    "      FOREIGN KEY (destination_id) REFERENCES destinations (destination_id)\n",
    "   )\n",
    "\n",
    "   CREATE TABLE employees (\n",
    "      employee_id INTEGER PRIMARY KEY,\n",
    "      first_name TEXT NOT NULL,\n",
    "      last_name TEXT NOT NULL,\n",
    "      position TEXT NOT NULL,\n",
    "      department TEXT,\n",
    "      email TEXT NOT NULL UNIQUE,\n",
    "      phone TEXT,\n",
    "      hire_date DATE,\n",
    "      salary REAL\n",
    "   )\n",
    "\n",
    "   CREATE TABLE bookings (\n",
    "      booking_id INTEGER PRIMARY KEY,\n",
    "      client_id INTEGER NOT NULL,\n",
    "      tour_id INTEGER,\n",
    "      hotel_id INTEGER,\n",
    "      employee_id INTEGER,\n",
    "      booking_date DATE NOT NULL,\n",
    "      travel_start_date DATE NOT NULL,\n",
    "      travel_end_date DATE NOT NULL,\n",
    "      num_adults INTEGER NOT NULL,\n",
    "      num_children INTEGER DEFAULT 0,\n",
    "      total_price REAL NOT NULL,\n",
    "      status TEXT NOT NULL,\n",
    "      special_requirements TEXT,\n",
    "      FOREIGN KEY (client_id) REFERENCES clients (client_id),\n",
    "      FOREIGN KEY (tour_id) REFERENCES tours (tour_id),\n",
    "      FOREIGN KEY (hotel_id) REFERENCES hotels (hotel_id),\n",
    "      FOREIGN KEY (employee_id) REFERENCES employees (employee_id)\n",
    "   )\n",
    "\n",
    "   CREATE TABLE payments (\n",
    "      payment_id INTEGER PRIMARY KEY,\n",
    "      booking_id INTEGER NOT NULL,\n",
    "      payment_date DATE NOT NULL,\n",
    "      amount REAL NOT NULL,\n",
    "      payment_method TEXT NOT NULL,\n",
    "      status TEXT NOT NULL,\n",
    "      transaction_id TEXT,\n",
    "      FOREIGN KEY (booking_id) REFERENCES bookings (booking_id)\n",
    "   )\n",
    "\n",
    "   CREATE TABLE reviews (\n",
    "      review_id INTEGER PRIMARY KEY,\n",
    "      booking_id INTEGER NOT NULL,\n",
    "      client_id INTEGER NOT NULL,\n",
    "      title TEXT,\n",
    "      content TEXT,\n",
    "      rating INTEGER CHECK (rating BETWEEN 1 AND 10),\n",
    "      review_date DATE NOT NULL,\n",
    "      positive_aspects TEXT,\n",
    "      negative_aspects TEXT,\n",
    "      FOREIGN KEY (booking_id) REFERENCES bookings (booking_id),\n",
    "      FOREIGN KEY (client_id) REFERENCES clients (client_id)\n",
    "   )\n",
    "```"
   ]
  },
  {
   "cell_type": "markdown",
   "id": "623c1b00",
   "metadata": {},
   "source": [
    "## Importowanie niezbędnych bibliotek"
   ]
  },
  {
   "cell_type": "code",
   "execution_count": null,
   "id": "1dd71e4e",
   "metadata": {},
   "outputs": [],
   "source": [
    "import sqlite3\n",
    "import pandas as pd"
   ]
  },
  {
   "cell_type": "markdown",
   "id": "ca0292bc",
   "metadata": {},
   "source": [
    "## Połączenie z bazą danych SQLite\n",
    "\n",
    "Łączymy się z bazą danych biura podróży i wyświetlamy dostępne tabele."
   ]
  },
  {
   "cell_type": "code",
   "execution_count": null,
   "id": "ad9ab6b5",
   "metadata": {},
   "outputs": [],
   "source": [
    "# Ścieżka do bazy danych\n",
    "db_path = \"008-03. RAG data/biuro_podrozy.db\"\n",
    "# Łączenie z bazą danych w trybie tylko do odczytu\n",
    "conn = sqlite3.connect(f\"file:{db_path}?mode=ro\", uri=True)"
   ]
  },
  {
   "cell_type": "code",
   "execution_count": null,
   "id": "02638f7f",
   "metadata": {},
   "outputs": [],
   "source": [
    "# Przykładwego zapytania do bazy danych\n",
    "random_hotels_query = \"\"\"SELECT h.name AS hotel_name, h.stars, d.name AS destination, d.country, h.price_per_night \n",
    "                      FROM hotels h \n",
    "                      JOIN destinations d ON h.destination_id = d.destination_id \n",
    "                      ORDER BY RANDOM() \n",
    "                      LIMIT 3;\"\"\"\n",
    "\n",
    "random_hotels = pd.read_sql_query(random_hotels_query, conn)\n",
    "\n",
    "random_hotels"
   ]
  },
  {
   "cell_type": "markdown",
   "id": "73e65289",
   "metadata": {},
   "source": [
    "--- WASZ KOD ---"
   ]
  },
  {
   "cell_type": "code",
   "execution_count": null,
   "id": "8fe174ac",
   "metadata": {},
   "outputs": [],
   "source": []
  },
  {
   "cell_type": "markdown",
   "id": "c568e290",
   "metadata": {},
   "source": [
    "--- WASZ KOD ---"
   ]
  },
  {
   "cell_type": "markdown",
   "id": "c0aed380",
   "metadata": {},
   "source": [
    "## Przetestujmy nasz system RAG\n",
    "\n",
    "Zadajmy kilka przykładowych pytań, aby sprawdzić działanie systemu."
   ]
  },
  {
   "cell_type": "code",
   "execution_count": null,
   "id": "b6acf3f3",
   "metadata": {},
   "outputs": [],
   "source": [
    "# Przykładowe pytanie 1\n",
    "question = \"Jakie są najpopularniejsze destynacje w naszej ofercie?\"\n",
    "answer = answer_travel_query(question)\n",
    "print(\"\\nOdpowiedź:\")\n",
    "print(answer)"
   ]
  },
  {
   "cell_type": "code",
   "execution_count": null,
   "id": "9a311860",
   "metadata": {},
   "outputs": [],
   "source": [
    "# Przykładowe pytanie 2\n",
    "question = \"Które hotele mają najwyższe oceny i gdzie się znajdują?\"\n",
    "answer = answer_travel_query(question)\n",
    "print(\"\\nOdpowiedź:\")\n",
    "print(answer)"
   ]
  },
  {
   "cell_type": "code",
   "execution_count": null,
   "id": "c75558f4",
   "metadata": {},
   "outputs": [],
   "source": [
    "# Przykładowe pytanie 3\n",
    "question = \"Jakie wycieczki są dostępne w lecie i ile kosztują?\"\n",
    "answer = answer_travel_query(question)\n",
    "print(\"\\nOdpowiedź:\")\n",
    "print(answer)"
   ]
  },
  {
   "cell_type": "code",
   "execution_count": null,
   "id": "d0d4cce4",
   "metadata": {},
   "outputs": [],
   "source": [
    "# Zamknięcie połączenia z bazą danych\n",
    "conn.close()"
   ]
  }
 ],
 "metadata": {
  "kernelspec": {
   "display_name": "genai_venv",
   "language": "python",
   "name": "python3"
  },
  "language_info": {
   "codemirror_mode": {
    "name": "ipython",
    "version": 3
   },
   "file_extension": ".py",
   "mimetype": "text/x-python",
   "name": "python",
   "nbconvert_exporter": "python",
   "pygments_lexer": "ipython3",
   "version": "3.11.2"
  }
 },
 "nbformat": 4,
 "nbformat_minor": 5
}
