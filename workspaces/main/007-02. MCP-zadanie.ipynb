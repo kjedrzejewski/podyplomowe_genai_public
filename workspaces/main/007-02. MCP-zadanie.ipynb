{
 "cells": [
  {
   "cell_type": "markdown",
   "id": "c9d54f60",
   "metadata": {},
   "source": [
    "# Zadanie MCP - operowanie na plikach serwerem MCP\n",
    "\n",
    "Twoim zadaniem jest dodać do serwera MCP w pliku `mcp_scripts/007-02. MCP-zadanie-server.py` narzędzia, dzięki którym agent z tego notebooka będzie mógł operować na plikach w folderze roboczym (`007-02. MCP-working_dir`). W szczególności ma móc:\n",
    "- listować dostępne pliki\n",
    "- odczytywać zawartość plików\n",
    "- zmieniać zawartość plików\n",
    "- tworzyć nowe pliki i foldery\n",
    "- usuwać pliki i foldery\n"
   ]
  },
  {
   "cell_type": "markdown",
   "id": "79bc6aa8",
   "metadata": {},
   "source": [
    "## Importowanie potrzebnych bibliotek"
   ]
  },
  {
   "cell_type": "code",
   "execution_count": null,
   "id": "3a22e173",
   "metadata": {},
   "outputs": [],
   "source": [
    "import os\n",
    "from pydantic_ai import Agent\n",
    "from pydantic_ai.models.openai import OpenAIModel\n",
    "from pydantic_ai.providers.openai import OpenAIProvider\n",
    "from pydantic_ai.mcp import MCPServerStdio\n",
    "\n",
    "import nest_asyncio\n",
    "nest_asyncio.apply()"
   ]
  },
  {
   "cell_type": "markdown",
   "id": "95b5041e",
   "metadata": {},
   "source": [
    "## Połączenie z serwerem MCP\n",
    "\n",
    "Tworzymy agenta łączącego się z serwerem MCP zdefiniowanym w pliku `mcp_scripts/007-02. MCP-zadanie-server.py`."
   ]
  },
  {
   "cell_type": "code",
   "execution_count": null,
   "id": "e9b011f2",
   "metadata": {},
   "outputs": [],
   "source": [
    "# dane połączeniowe\n",
    "command=\"python\"\n",
    "args=[\"mcp_scripts/007-02. MCP-zadanie-server.py\"]"
   ]
  },
  {
   "cell_type": "code",
   "execution_count": null,
   "id": "6a1f109c",
   "metadata": {},
   "outputs": [],
   "source": [
    "# połączenie z serwerem MCP\n",
    "mcp_server = MCPServerStdio(\n",
    "    command=command,\n",
    "    args=args\n",
    ")"
   ]
  },
  {
   "cell_type": "code",
   "execution_count": null,
   "id": "c3664182",
   "metadata": {},
   "outputs": [],
   "source": [
    "# połączenie z modelem GPT-4.1\n",
    "api_key = os.getenv('OPENAI_API_KEY')\n",
    "provider = OpenAIProvider(api_key=api_key)\n",
    "model = OpenAIModel('gpt-4.1', provider=provider)"
   ]
  },
  {
   "cell_type": "code",
   "execution_count": null,
   "id": "57d6f94c",
   "metadata": {},
   "outputs": [],
   "source": [
    "# utworzenie agenta\n",
    "agent = Agent(\n",
    "    model = model,\n",
    "    system_prompt='Jesteś pomocnym asystentem operującym na plikach przy pomocy narzędzi.',\n",
    "    mcp_servers=[mcp_server],\n",
    ")"
   ]
  },
  {
   "cell_type": "markdown",
   "id": "c0b6c937",
   "metadata": {},
   "source": [
    "# ... i przesłanie do niego poleceń"
   ]
  },
  {
   "cell_type": "code",
   "execution_count": null,
   "id": "93061ab5",
   "metadata": {},
   "outputs": [],
   "source": [
    "# funkcja z której będziemy korzystać\n",
    "async def call_agent(prompt: str) -> str:\n",
    "    async with agent.run_mcp_servers():\n",
    "        result = agent.run_sync(prompt)\n",
    "\n",
    "    return result.output"
   ]
  },
  {
   "cell_type": "code",
   "execution_count": null,
   "id": "66facd78",
   "metadata": {},
   "outputs": [],
   "source": [
    "print(await call_agent('Do jakich narzędzi masz dostęp? Opisz ich szczegółowe specyfikacje.'))"
   ]
  },
  {
   "cell_type": "code",
   "execution_count": null,
   "id": "28fe1726",
   "metadata": {},
   "outputs": [],
   "source": [
    "print(await call_agent(\"\"\"\n",
    "                       Utwórz w folder \"zagadki\" i umieść w nim 10 plików tekstowych. Każdy plik ma zawierać jedną zagadkę w markdownie (rozszerzenie .md).\n",
    "                       \n",
    "                       Nazwa pliku ma być tytułem zagadki odnoszącym się do jej treści, ale nie wiązać się z oczekiwaną odpowiedzią.\n",
    "                       \n",
    "                       Zagadki mają być różne i nie mogą się powtarzać.\n",
    "                       \"\"\"))"
   ]
  },
  {
   "cell_type": "code",
   "execution_count": null,
   "id": "eb905e55",
   "metadata": {},
   "outputs": [],
   "source": [
    "print(await call_agent(\"Jakie pliki są w folderze głównym?\"))"
   ]
  },
  {
   "cell_type": "code",
   "execution_count": null,
   "id": "291dd2dd",
   "metadata": {},
   "outputs": [],
   "source": [
    "print(await call_agent(\"Pokaż mi drzewiastą strukturę plików do których masz dostęp.\"))"
   ]
  },
  {
   "cell_type": "code",
   "execution_count": null,
   "id": "f90bc3c1",
   "metadata": {},
   "outputs": [],
   "source": [
    "print(await call_agent(\"Rozwiąż zagadki znajdujące się w folderze zagadki\"))"
   ]
  },
  {
   "cell_type": "code",
   "execution_count": null,
   "id": "90b868d8",
   "metadata": {},
   "outputs": [],
   "source": [
    "print(await call_agent(\"\"\"\n",
    "                       W folderze roboczym utwórz plik 'odpowiedzi.html'.\n",
    "                       \n",
    "                       Umieść w nim wszytskie zagadaki z folderu zagadki, ścieżki rozumowania prowadzącego do odpowiedzi oraz same odpowiedzi.\n",
    "                       \n",
    "                       Opracowany dokument ma być estetyczny i czytelny. Wykorzystaj CSS do stylizacji.\n",
    "                       \"\"\"))"
   ]
  },
  {
   "cell_type": "code",
   "execution_count": null,
   "id": "0fb7b2c6",
   "metadata": {},
   "outputs": [],
   "source": []
  }
 ],
 "metadata": {
  "kernelspec": {
   "display_name": "genai_venv",
   "language": "python",
   "name": "python3"
  },
  "language_info": {
   "codemirror_mode": {
    "name": "ipython",
    "version": 3
   },
   "file_extension": ".py",
   "mimetype": "text/x-python",
   "name": "python",
   "nbconvert_exporter": "python",
   "pygments_lexer": "ipython3",
   "version": "3.11.2"
  }
 },
 "nbformat": 4,
 "nbformat_minor": 5
}
