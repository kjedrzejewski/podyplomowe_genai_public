{
 "cells": [
  {
   "cell_type": "markdown",
   "metadata": {},
   "source": [
    "## Korzystanie z API Open AI z użyciem _structured outputs_\n",
    "\n",
    "**Structured outputs** to funkcjonalność LLM, która pozwala na otrzymywanie odpowiedzi w ściśle określonej strukturze. Zamiast otrzymywać tekst w formie swobodnej, możemy zdefiniować dokładny format odpowiedzi (np. JSON), co ułatwia dalsze przetwarzanie danych przez aplikację.\n",
    "\n",
    "**Główne zalety:**\n",
    "- Przewidywalny format odpowiedzi\n",
    "- Łatwiejsze przetwarzanie przez aplikację\n",
    "- Mniejsze ryzyko błędów przy parsowaniu odpowiedzi\n",
    "- Możliwość wymuszenia konkretnej struktury danych\n",
    "\n",
    "[Dokumentacja OpenAI - Structured Outputs](https://platform.openai.com/docs/guides/structured-outputs)"
   ]
  },
  {
   "cell_type": "markdown",
   "metadata": {},
   "source": [
    "### Generowanie informacji w postacji JSON\n",
    "\n",
    "Przykład w którym jako oczekiwaną strukturę odpowiedzi podajemy klasę Pydantica"
   ]
  },
  {
   "cell_type": "code",
   "execution_count": null,
   "metadata": {},
   "outputs": [],
   "source": [
    "from openai import OpenAI\n",
    "import os\n",
    "from pydantic import BaseModel"
   ]
  },
  {
   "cell_type": "code",
   "execution_count": null,
   "metadata": {},
   "outputs": [],
   "source": [
    "# tworzymy klasę pydantica opisującą strukturę informacji do zwrócenia\n",
    "# w tym przypadku jest to postać w grze RPG\n",
    "class RPGCharacter(BaseModel):\n",
    "    genre: str\n",
    "    name: str\n",
    "    race: str\n",
    "    class_type: str\n",
    "    skills: list[str]"
   ]
  },
  {
   "cell_type": "code",
   "execution_count": null,
   "metadata": {},
   "outputs": [],
   "source": [
    "api_key = os.getenv('OPENAI_API_KEY')\n",
    "client = OpenAI(api_key=api_key)\n",
    "\n",
    "response = client.beta.chat.completions.parse( # uwaga tym razem 'parse' zamiast 'create'\n",
    "    model=\"gpt-4o\",\n",
    "    messages=[\n",
    "        {\"role\": \"system\", \"content\": \"Jesteś ekspertem od gier RPG. Zawsze tworzysz postacie w języku polskim.\"},\n",
    "        #{\"role\": \"user\", \"content\": \"Przygotuj postać do gry RPG.\"},\n",
    "        {\"role\": \"user\", \"content\": \"Przygotuj postać do gry RPG Warhammer 40k.\"},\n",
    "    ],\n",
    "    response_format = RPGCharacter,\n",
    "    temperature=0.7,\n",
    "    max_tokens=1000\n",
    ")\n",
    "\n",
    "res = response.choices[0].message.parsed # pobieramy wynik z odpowiedzi, od razu sprasowany do obiektu"
   ]
  },
  {
   "cell_type": "code",
   "execution_count": null,
   "metadata": {},
   "outputs": [],
   "source": [
    "json_data = res.model_dump_json(indent=4)\n",
    "print(json_data)"
   ]
  },
  {
   "cell_type": "markdown",
   "metadata": {},
   "source": [
    "### Generowanie informacji w postacji JSON (tym razem podając JSON Schema)\n",
    "\n",
    "Przykład w którym jako oczekiwaną strukturę odpowiedzi podajemy bezpośrednio schemę JSONa"
   ]
  },
  {
   "cell_type": "code",
   "execution_count": null,
   "metadata": {},
   "outputs": [],
   "source": [
    "from openai import OpenAI\n",
    "import os\n",
    "import json"
   ]
  },
  {
   "cell_type": "code",
   "execution_count": null,
   "metadata": {},
   "outputs": [],
   "source": [
    "#tym razem posłużymy się schematem JSON Schema (wczytamy go z pliku)\n",
    "with open('004. RPGCharacter.schema', 'r') as file:\n",
    "    json_schema = file.read()\n",
    "\n",
    "json_schema = json.loads(json_schema)\n",
    "\n",
    "#print(json.dumps(json_schema, indent=4))"
   ]
  },
  {
   "cell_type": "code",
   "execution_count": null,
   "metadata": {},
   "outputs": [],
   "source": [
    "api_key = os.getenv('OPENAI_API_KEY')\n",
    "client = OpenAI(api_key=api_key)\n",
    "\n",
    "response = client.chat.completions.create(\n",
    "    model=\"gpt-4o\",\n",
    "    messages=[\n",
    "        {\"role\": \"system\", \"content\": \"Jesteś ekspertem od gier RPG. Zawsze tworzysz postacie w języku polskim.\"},\n",
    "        {\"role\": \"user\", \"content\": \"Przygotuj postać do gry RPG.\"},\n",
    "    ],\n",
    "    response_format={\n",
    "        \"type\": \"json_schema\", \n",
    "        \"json_schema\": json_schema\n",
    "    },\n",
    "    temperature=0.7,\n",
    "    max_tokens=1000\n",
    ")"
   ]
  },
  {
   "cell_type": "code",
   "execution_count": null,
   "metadata": {},
   "outputs": [],
   "source": [
    "# podejrzyjmy, co dostaliśmy\n",
    "json_string = response.choices[0].message.content\n",
    "formatted_json = json.dumps(json.loads(json_string), indent=4, ensure_ascii=False)\n",
    "print(formatted_json)"
   ]
  },
  {
   "cell_type": "markdown",
   "metadata": {},
   "source": [
    "### Generowanie informacji w postacji JSON (bardziej szczegółowo opisanego)\n",
    "\n",
    "Ponownie operaujemy klasami pydantica, tym razem robimy to w sposób bardziej zaawansowany:\n",
    "- dodajemy opisy do każdego pola\n",
    "- mamy strukturę wielopoziomową - część pól klasy `RPGCharacter` jest innymi obiektami "
   ]
  },
  {
   "cell_type": "code",
   "execution_count": null,
   "metadata": {},
   "outputs": [],
   "source": [
    "from openai import OpenAI\n",
    "import os\n",
    "from pydantic import BaseModel, Field"
   ]
  },
  {
   "cell_type": "code",
   "execution_count": null,
   "metadata": {},
   "outputs": [],
   "source": [
    "# tworzymy sobie klasę pydantica opisującą strukturę informacji do zwrócenia\n",
    "# w tym przypadku jest to postać w grze RPG\n",
    "# tym razem dodatkowo tworzyny osobne klasy na atrybuty postaci oraz informacje o umiejętnościach\n",
    "class CharacterAttributes(BaseModel):\n",
    "    strength: int = Field(description=\"Siła postaci\") # w ten sposób dodajemy opis do pola\n",
    "    dexterity: int = Field(description=\"Zręczność postaci\")\n",
    "    constitution: int = Field(description=\"Wytrzymałość postaci\")\n",
    "    intelligence: int = Field(description=\"Inteligencja postaci\")\n",
    "    wisdom: int = Field(description=\"Mądrość postaci\")\n",
    "    charisma: int = Field(description=\"Charyzma postaci\")\n",
    "\n",
    "class Skill(BaseModel):\n",
    "    name: str = Field(description=\"Nazwa umiejętności\")\n",
    "    description: str = Field(description=\"Opis umiejętności\")\n",
    "\n",
    "class RPGCharacter(BaseModel):\n",
    "    genre: str = Field(description=\"Gatunek gry RPG (np. fantasy, sci-fi)\")\n",
    "    name: str = Field(description=\"Imię postaci\")\n",
    "    race: str = Field(description=\"Rasa postaci (np. człowiek, elf, krasnolud)\")\n",
    "    class_type: str = Field(description=\"Klasa lub profesja postaci (np. wojownik, mag)\")\n",
    "    skills: list[Skill] = Field(description=\"Lista umiejętności specjalnych postaci\")\n",
    "    attributes: CharacterAttributes = Field(description=\"Atrybuty postaci\")"
   ]
  },
  {
   "cell_type": "code",
   "execution_count": null,
   "metadata": {},
   "outputs": [],
   "source": [
    "api_key = os.getenv('OPENAI_API_KEY')\n",
    "client = OpenAI(api_key=api_key)\n",
    "\n",
    "response = client.beta.chat.completions.parse( # uwaga tym razem 'parse' zamiast 'create'\n",
    "    model=\"gpt-4o\",\n",
    "    messages=[\n",
    "        {\"role\": \"system\", \"content\": \"Jesteś ekspertem od gier RPG. Zawsze tworzysz postacie w języku polskim.\"},\n",
    "        #{\"role\": \"user\", \"content\": \"Przygotuj postać do gry RPG.\"},\n",
    "        #{\"role\": \"user\", \"content\": \"Przygotuj postać do D&D w świecie Planescape.\"},\n",
    "        #{\"role\": \"user\", \"content\": \"Przygotuj postać do gry RPG Warhammer 40k. To ma być prawdziwy brutal\"},\n",
    "        #{\"role\": \"user\", \"content\": \"Przygotuj postać do gry post-apo. Chcę postać posługującą się psioniką\"},\n",
    "        {\"role\": \"user\", \"content\": \"Przygotuj postać do gry RPG w świecie Gwiezdnych Wojen. Chcę postać posługującą się zarówno jasną jak i ciemną stroną Mocy\"},\n",
    "        #{\"role\": \"user\", \"content\": \"Przygotuj postać do gry RPG w świecie łączącym elementy fantasy i sci-fi. Chcę postać posługującą się zarówno magiczną technologią\"},\n",
    "    ],\n",
    "    response_format = RPGCharacter,\n",
    "    temperature=0.7,\n",
    "    max_tokens=1000\n",
    ")\n",
    "\n",
    "res = response.choices[0].message.parsed"
   ]
  },
  {
   "cell_type": "code",
   "execution_count": null,
   "metadata": {},
   "outputs": [],
   "source": [
    "json_data = res.model_dump_json(indent=4)\n",
    "print(json_data)"
   ]
  },
  {
   "cell_type": "markdown",
   "metadata": {},
   "source": [
    "### Ekstrakcja informacji z tekstu\n",
    "\n",
    "A teraz przykład z ekstrakcją informacji o postaciach historycznych (z Wikipedii) lub fantastycznych (z Fandomu) z tekstów o nich mówiących"
   ]
  },
  {
   "cell_type": "code",
   "execution_count": null,
   "metadata": {},
   "outputs": [],
   "source": [
    "from openai import OpenAI\n",
    "import os\n",
    "import wikipediaapi\n",
    "from pydantic import BaseModel, Field\n",
    "import fandom"
   ]
  },
  {
   "cell_type": "code",
   "execution_count": null,
   "metadata": {},
   "outputs": [],
   "source": [
    "# tworzymy sobie klasę pydantica opisującą strukturę informacji do zwrócenia\n",
    "# w tym przypadku jest to postać historyczna\n",
    "class Education(BaseModel):\n",
    "    institution: str = Field(description=\"Nazwa instytucji edukacyjnej\")\n",
    "    field_of_study: str = Field(description=\"Obszar wykształcenia\")\n",
    "    degree: str = Field(description=\"Tytuł lub stopień którego dotyczy wykształcenie\")\n",
    "    graduated: bool = Field(description=\"Czy postać ukończyła studia\")\n",
    "\n",
    "class Figure(BaseModel):\n",
    "    name: str = Field(description=\"Pełne imię i nazwisko postaci historycznej\")\n",
    "    birth_date: str = Field(description=\"Data urodzenia\")\n",
    "    death_date: str = Field(description=\"Data śmierci. Puste jeśli postać żyje\")\n",
    "    places_of_residence: list[str] = Field(description=\"Lista miejsc zamieszkania\")\n",
    "    birth_place: str = Field(description=\"Miejsce urodzenia\")\n",
    "    death_place: str = Field(description=\"Miejsce śmierci. Puste jeśli postać żyje\")\n",
    "    occupation: list[str] = Field(description=\"Lista zawodów i funkcji\")\n",
    "    major_achievements: list[str] = Field(description=\"Lista najważniejszych osiągnięć\")\n",
    "    education: list[Education] = Field(description=\"Wykształcenie i miejsca studiów\")\n",
    "    nationality: list[str] = Field(description=\"Narodowość lub narodowości postaci\")\n",
    "    historical_period: str = Field(description=\"Okres historyczny, w którym żyła postać\")"
   ]
  },
  {
   "cell_type": "markdown",
   "metadata": {},
   "source": [
    "Uruchom jedną z dwóch poniższych komórek - zależnie czy chcesz pobierać informacje z Wikipedii czy z Fandomu"
   ]
  },
  {
   "cell_type": "code",
   "execution_count": null,
   "metadata": {},
   "outputs": [],
   "source": [
    "# pobieramy informacjie z wikipedii\n",
    "wiki = wikipediaapi.Wikipedia(language='pl', user_agent='Python Script')\n",
    "page = wiki.page(\"Mikołaj_Kopernik\")\n",
    "#page = wiki.page(\"Aleksander_Kwaśniewski\")\n",
    "#page = wiki.page(\"Gandalf\")\n",
    "\n",
    "text = page.text\n",
    "\n",
    "#print(text)"
   ]
  },
  {
   "cell_type": "code",
   "execution_count": null,
   "metadata": {},
   "outputs": [],
   "source": [
    "# pobieramy informacjie z Fandomu (dawniej Wikia)\n",
    "fandom.set_wiki(\"starwars\")\n",
    "page = fandom.page(\"Luke_Skywalker\")\n",
    "\n",
    "#fandom.set_wiki(\"lotr\")\n",
    "#page = fandom.page(\"Gandalf\")\n",
    "#page = fandom.page(\"Aragorn_II\")\n",
    "\n",
    "text = f\"\"\"\n",
    "Title: {page.content['title']}\n",
    "---\n",
    "Summary:\n",
    "{page.content['content']}\n",
    "---\n",
    "Infobox:\n",
    "{page.content['infobox']}\n",
    "\"\"\"\n",
    "\n",
    "#print(text)"
   ]
  },
  {
   "cell_type": "markdown",
   "metadata": {},
   "source": [
    "Prompt, którym będziemy wyciągać informacje"
   ]
  },
  {
   "cell_type": "code",
   "execution_count": null,
   "metadata": {},
   "outputs": [],
   "source": [
    "# przygotowanie prompta z tekstem do przetworzenia\n",
    "prompt = f\"\"\" Wyekstrahuj informacje o omawianej postaci z poniszego tekstu. Jeśli jest w innym języku niż polski, przetłumacz go na polski.\n",
    "---\n",
    "{text}\n",
    "\"\"\""
   ]
  },
  {
   "cell_type": "markdown",
   "metadata": {},
   "source": [
    "... i strzał do modelu"
   ]
  },
  {
   "cell_type": "code",
   "execution_count": null,
   "metadata": {},
   "outputs": [],
   "source": [
    "api_key = os.getenv('OPENAI_API_KEY')\n",
    "client = OpenAI(api_key=api_key)\n",
    "\n",
    "response = client.beta.chat.completions.parse( # uwaga tym razem 'parse' zamiast 'create'\n",
    "    model=\"gpt-4o\",\n",
    "    messages=[\n",
    "        {\"role\": \"system\", \"content\": \"\"\"\n",
    "            Jesteś ekspertem od ekstrakcji informacji z tekstów.\n",
    "            Opierasz się tylko na dostarczonych danych.\n",
    "            Jeśli czegoś nie ma w tekście, odpowiadające pole zostawiasz puste.\n",
    "            Jeśli tekst źródłowy jest w innym języku, tłumacz wyekstrahowane informacje na polski.\n",
    "            \"\"\"},\n",
    "        {\"role\": \"user\", \"content\": prompt},\n",
    "    ],\n",
    "    response_format = Figure,\n",
    "    temperature=0, # nie chemy aby model wykazał się kreatywnością\n",
    "    max_tokens=16000\n",
    ")\n",
    "\n",
    "res = response.choices[0].message.parsed"
   ]
  },
  {
   "cell_type": "code",
   "execution_count": null,
   "metadata": {},
   "outputs": [],
   "source": [
    "json_data = res.model_dump_json(indent=4)\n",
    "print(json_data)"
   ]
  },
  {
   "cell_type": "code",
   "execution_count": null,
   "metadata": {},
   "outputs": [],
   "source": []
  }
 ],
 "metadata": {
  "kernelspec": {
   "display_name": "genai_venv",
   "language": "python",
   "name": "python3"
  },
  "language_info": {
   "codemirror_mode": {
    "name": "ipython",
    "version": 3
   },
   "file_extension": ".py",
   "mimetype": "text/x-python",
   "name": "python",
   "nbconvert_exporter": "python",
   "pygments_lexer": "ipython3",
   "version": "3.11.2"
  }
 },
 "nbformat": 4,
 "nbformat_minor": 2
}
