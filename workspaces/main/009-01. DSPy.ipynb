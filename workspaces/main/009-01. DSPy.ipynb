{
 "cells": [
  {
   "cell_type": "markdown",
   "id": "6faeaea7",
   "metadata": {},
   "source": [
    "# DSPy - **D**eclarative **S**elf-improving **Py**thon\n",
    "\n",
    "## Wprowadzenie do DSPy\n",
    "\n",
    "DSPy to framework do tworzenia, optymalizacji i wdrażania złożonych aplikacji wykorzystujących LLM (Large Language Models). W przeciwieństwie do tradycyjnych podejść opartych na ręcznym tworzeniu promptów, DSPy pozwala na **programowanie** zachowań modeli językowych w sposób systematyczny i modułowy."
   ]
  },
  {
   "cell_type": "markdown",
   "id": "ca917add",
   "metadata": {},
   "source": [
    "## Importy"
   ]
  },
  {
   "cell_type": "code",
   "execution_count": 1,
   "id": "aa2d3abb",
   "metadata": {},
   "outputs": [],
   "source": [
    "# Import bibliotek\n",
    "import dspy\n",
    "import os"
   ]
  },
  {
   "cell_type": "code",
   "execution_count": 2,
   "id": "37b8c9c0",
   "metadata": {},
   "outputs": [],
   "source": [
    "# Konfiguracja klucza API\n",
    "api_key = os.getenv('OPENAI_API_KEY')\n",
    "\n",
    "# Konfiguracja modelu nauczyciela (GPT-4.1)\n",
    "gpt4_1_teacher = dspy.LM(\n",
    "    model=\"openai/gpt-4.1\",\n",
    "    api_key=api_key,\n",
    "    temperature=1.0,\n",
    "    max_tokens=32000\n",
    ")\n",
    "\n",
    "# Konfiguracja modelu docelowego (GPT-4.1-nano)\n",
    "gpt4_1_nano = dspy.LM(\n",
    "    model=\"openai/gpt-4.1-nano\",\n",
    "    api_key=api_key,\n",
    "    temperature=0.0,\n",
    "    max_tokens=32000\n",
    ")\n",
    "\n",
    "# Główna konfiguracja DSPy\n",
    "dspy.configure(\n",
    "    lm=gpt4_1_teacher,       # Domyślny model dla generacji instrukcji\n",
    "    task_lm=gpt4_1_nano,     # Model dla wykonywania zadań\n",
    "    cache=False              # Wyłączenie cache dla dynamicznych wyników\n",
    ")"
   ]
  },
  {
   "cell_type": "markdown",
   "id": "b8211c83",
   "metadata": {},
   "source": [
    "## Podstawowe koncepcje DSPy\n",
    "\n",
    "DSPy opiera się na kilku kluczowych koncepcjach:\n",
    "\n",
    "1. **Moduły (Modules)** - komponenty definiujące zadania dla LLM\n",
    "2. **Sygnatura (Signature)** - definicja wejść i wyjść modułów\n",
    "3. **Teleprompter** - mechanizm optymalizacji promptów\n",
    "4. **Program** - połączenie modułów w potok przetwarzania\n",
    "\n",
    "Poniżej przedstawimy praktyczne przykłady wykorzystania tych koncepcji."
   ]
  },
  {
   "cell_type": "markdown",
   "id": "3828ded9",
   "metadata": {},
   "source": [
    "## Przykład 1: Podstawowe moduły DSPy - Klasyfikacja sentymentu"
   ]
  },
  {
   "cell_type": "code",
   "execution_count": 3,
   "id": "3accb59d",
   "metadata": {},
   "outputs": [
    {
     "name": "stdout",
     "output_type": "stream",
     "text": [
      "Tekst: Dzisiaj jest piękny dzień, świeci słońce i jestem szczęśliwy.\n",
      "Sentyment: pozytywny\n",
      "Wyjaśnienie: Tekst wyraża radość i zadowolenie, opisuje ładną pogodę oraz szczęśliwy nastrój autora.\n",
      "--------------------------------------------------------------------------------\n",
      "Tekst: Niestety, mój pociąg się spóźnił i spóźniłem się na ważne spotkanie.\n",
      "Sentyment: negatywny\n",
      "Wyjaśnienie: Tekst opisuje nieprzyjemną sytuację – spóźnienie pociągu, które skutkowało spóźnieniem na ważne spotkanie. Wskazuje to na negatywne emocje i rozczarowanie.\n",
      "--------------------------------------------------------------------------------\n",
      "Tekst: W Polsce jest 16 województw.\n",
      "Sentyment: neutralny\n",
      "Wyjaśnienie: Tekst zawiera jedynie obiektywną informację geograficzną bez wyrażania emocji ani opinii.\n",
      "--------------------------------------------------------------------------------\n"
     ]
    }
   ],
   "source": [
    "# Definiujemy sygnaturę dla klasyfikatora sentymentu\n",
    "class SentimentClassifier(dspy.Signature):\n",
    "    \"\"\"Określ sentyment tekstu jako pozytywny, negatywny lub neutralny.\"\"\"\n",
    "    \n",
    "    text = dspy.InputField()\n",
    "    sentiment = dspy.OutputField(desc=\"Sentyment tekstu: pozytywny, negatywny lub neutralny\")\n",
    "    explanation = dspy.OutputField(desc=\"Krótkie wyjaśnienie przypisanego sentymentu\")\n",
    "\n",
    "# Tworzymy moduł bazujący na zdefiniowanej sygnaturze\n",
    "sentiment_predictor = dspy.Predict(SentimentClassifier)\n",
    "\n",
    "# Przykładowe teksty do analizy\n",
    "texts = [\n",
    "    \"Dzisiaj jest piękny dzień, świeci słońce i jestem szczęśliwy.\",\n",
    "    \"Niestety, mój pociąg się spóźnił i spóźniłem się na ważne spotkanie.\",\n",
    "    \"W Polsce jest 16 województw.\"\n",
    "]\n",
    "\n",
    "# Analiza sentymentu dla każdego tekstu\n",
    "for text in texts:\n",
    "    result = sentiment_predictor(text=text)\n",
    "    print(f\"Tekst: {text}\")\n",
    "    print(f\"Sentyment: {result.sentiment}\")\n",
    "    print(f\"Wyjaśnienie: {result.explanation}\")\n",
    "    print(\"-\" * 80)"
   ]
  },
  {
   "cell_type": "code",
   "execution_count": 4,
   "id": "79b8d541",
   "metadata": {},
   "outputs": [
    {
     "name": "stdout",
     "output_type": "stream",
     "text": [
      "\n",
      "\n",
      "\n",
      "\n",
      "\u001b[34m[2025-05-03T22:29:31.999841]\u001b[0m\n",
      "\n",
      "\u001b[31mSystem message:\u001b[0m\n",
      "\n",
      "Your input fields are:\n",
      "1. `text` (str)\n",
      "Your output fields are:\n",
      "1. `sentiment` (str): Sentyment tekstu: pozytywny, negatywny lub neutralny\n",
      "2. `explanation` (str): Krótkie wyjaśnienie przypisanego sentymentu\n",
      "All interactions will be structured in the following way, with the appropriate values filled in.\n",
      "\n",
      "[[ ## text ## ]]\n",
      "{text}\n",
      "\n",
      "[[ ## sentiment ## ]]\n",
      "{sentiment}\n",
      "\n",
      "[[ ## explanation ## ]]\n",
      "{explanation}\n",
      "\n",
      "[[ ## completed ## ]]\n",
      "In adhering to this structure, your objective is: \n",
      "        Określ sentyment tekstu jako pozytywny, negatywny lub neutralny.\n",
      "\n",
      "\n",
      "\u001b[31mUser message:\u001b[0m\n",
      "\n",
      "[[ ## text ## ]]\n",
      "W Polsce jest 16 województw.\n",
      "\n",
      "Respond with the corresponding output fields, starting with the field `[[ ## sentiment ## ]]`, then `[[ ## explanation ## ]]`, and then ending with the marker for `[[ ## completed ## ]]`.\n",
      "\n",
      "\n",
      "\u001b[31mResponse:\u001b[0m\n",
      "\n",
      "\u001b[32m[[ ## sentiment ## ]]\n",
      "neutralny\n",
      "\n",
      "[[ ## explanation ## ]]\n",
      "Tekst zawiera jedynie obiektywną informację geograficzną bez wyrażania emocji ani opinii.\n",
      "\n",
      "[[ ## completed ## ]]\u001b[0m\n",
      "\n",
      "\n",
      "\n",
      "\n",
      "\n"
     ]
    }
   ],
   "source": [
    "# wyświetlmy przykładowy prompt\n",
    "dspy.inspect_history(n=1)"
   ]
  },
  {
   "cell_type": "markdown",
   "id": "449d3a10",
   "metadata": {},
   "source": [
    "## Przykład 2: Łańcuchy modułów - Analiza i streszczenie artykułów"
   ]
  },
  {
   "cell_type": "code",
   "execution_count": 5,
   "id": "4bc253ab",
   "metadata": {},
   "outputs": [
    {
     "name": "stdout",
     "output_type": "stream",
     "text": [
      "Tematy:\n",
      "1. Postęp i możliwości współczesnych modeli językowych AI\n",
      "2. Historia i rozwój sztucznej inteligencji, w tym architektura Transformer\n",
      "3. Etyczne i społeczne wyzwania oraz regulacje dotyczące AI\n",
      "4. Zastosowania sztucznej inteligencji w różnych dziedzinach życia i gospodarki\n",
      "\n",
      "Kluczowe punkty:\n",
      "1. Nowoczesne modele językowe AI, takie jak GPT-4.1 czy LLaMA 4, potrafią generować zaawansowane teksty i odpowiadać na pytania na poziomie zbliżonym do ludzkiego.\n",
      "2. Przełomem w rozwoju AI była publikacja architektury Transformer w 2017 roku, która umożliwiła stworzenie dużych, skutecznych modeli językowych.\n",
      "3. Z szerokim zastosowaniem AI wiążą się poważne wyzwania, takie jak kwestie prywatności, bezpieczeństwa, stronniczości oraz wpływu na rynek pracy, co prowadzi do tworzenia nowych regulacji.\n",
      "4. Sztuczna inteligencja znajduje zastosowanie m.in. w medycynie, przemyśle, edukacji, finansach, technologii rozpoznawania obrazu i dźwięku, transporcie oraz branży kreatywnej.\n",
      "\n",
      "Podsumowanie:\n",
      "Artykuł opisuje dynamiczny rozwój sztucznej inteligencji, ze szczególnym uwzględnieniem przełomów związanych z modelami językowymi i architekturą Transformer. Podkreśla szerokie zastosowania AI w różnych branżach oraz wskazuje na rosnące wyzwania etyczne i społeczne, które prowadzą do wdrażania nowych regulacji w celu zapewnienia odpowiedzialnego rozwoju tej technologii.\n"
     ]
    }
   ],
   "source": [
    "# Definiujemy sygnaturę dla analizy artykułu\n",
    "class ArticleAnalyzer(dspy.Signature):\n",
    "    \"\"\"Analizuj artykuł i wyodrębnij kluczowe informacje.\"\"\"\n",
    "    \n",
    "    article = dspy.InputField()\n",
    "    topics = dspy.OutputField(desc=\"Lista 3-5 głównych tematów poruszanych w artykule\")\n",
    "    key_points = dspy.OutputField(desc=\"Lista 3-5 najważniejszych punktów z artykułu\")\n",
    "\n",
    "# Definiujemy sygnaturę dla generowania podsumowania\n",
    "class ArticleSummarizer(dspy.Signature):\n",
    "    \"\"\"Stwórz zwięzłe podsumowanie artykułu na podstawie analizy.\"\"\"\n",
    "    \n",
    "    article = dspy.InputField()\n",
    "    topics = dspy.InputField()\n",
    "    key_points = dspy.InputField()\n",
    "    summary = dspy.OutputField(desc=\"Zwięzłe podsumowanie artykułu w 2-3 zdaniach\")\n",
    "\n",
    "# Tworzymy program łączący analizę i podsumowanie\n",
    "class ArticleProcessor(dspy.Module):\n",
    "    def __init__(self):\n",
    "        super().__init__()\n",
    "        self.analyzer = dspy.Predict(ArticleAnalyzer)\n",
    "        self.summarizer = dspy.Predict(ArticleSummarizer)\n",
    "    \n",
    "    def forward(self, article):\n",
    "        # Analiza artykułu\n",
    "        analysis = self.analyzer(article=article)\n",
    "        \n",
    "        # Generowanie podsumowania na podstawie analizy\n",
    "        summary = self.summarizer(\n",
    "            article=article,\n",
    "            topics=analysis.topics,\n",
    "            key_points=analysis.key_points\n",
    "        )\n",
    "        \n",
    "        return dspy.Prediction(\n",
    "            topics=analysis.topics,\n",
    "            key_points=analysis.key_points,\n",
    "            summary=summary.summary\n",
    "        )\n",
    "\n",
    "# Przykładowy artykuł\n",
    "article = \"\"\"\n",
    "Sztuczna inteligencja (AI) w ostatnich latach dokonała ogromnego postępu, szczególnie w dziedzinie modeli językowych. \n",
    "Modele takie jak GPT-4.1, Claude 3.7 czy LLaMA 4 potrafią generować tekst, tłumaczyć języki, pisać różne rodzaje kreatywnych \n",
    "treści i odpowiadać na pytania w sposób, który wydaje się niemal ludzki. Te osiągnięcia są wynikiem rozwoju architektury \n",
    "Transformer oraz zwiększenia ilości danych i mocy obliczeniowej dostępnej do treningu modeli. Jednocześnie, \n",
    "wraz z rosnącymi możliwościami AI, pojawiają się nowe wyzwania etyczne i społeczne związane z jej wykorzystaniem. \n",
    "Kwestie prywatności danych, bezpieczeństwa, potencjalnej stronniczości algorytmów oraz wpływu automatyzacji na rynek pracy \n",
    "stają się coraz bardziej istotne w dyskusjach o przyszłości technologii AI. Rządy i organizacje na całym świecie \n",
    "zaczynają wprowadzać regulacje mające na celu zapewnienie odpowiedzialnego rozwoju i wdrażania sztucznej inteligencji.\n",
    "\n",
    "Historia rozwoju sztucznej inteligencji sięga połowy XX wieku, kiedy to powstały pierwsze koncepcje teoretyczne i proste \n",
    "programy AI. Jednak dopiero w ostatniej dekadzie nastąpił przełom związany z uczeniem głębokim i sieciami neuronowymi. \n",
    "Kluczowym momentem był rok 2017, kiedy to opublikowano pracę \"Attention is All You Need\", która wprowadzała architekturę \n",
    "Transformer, będącą podstawą dzisiejszych dużych modeli językowych (LLM). Kolejne lata przyniosły modele takie jak BERT, \n",
    "GPT-2 i GPT-3. Pojawiły się też systemy text-to-image jak DALL-E czy Midjourney, które potrafią generować obrazy na podstawie \n",
    "opisów tekstowych. W 2023 roku upowszechnienie ChatGPT spowodowało masową adopcję technologii AI wśród zwykłych użytkowników, \n",
    "otwierając nową erę w interakcji człowiek-komputer.\n",
    "\n",
    "Zastosowania sztucznej inteligencji obejmują obecnie niemal każdą dziedzinę życia i gospodarki. W medycynie AI wspomaga \n",
    "diagnostykę, analizując obrazy medyczne i przewidując potencjalne schorzenia z dokładnością często przewyższającą ludzkich \n",
    "specjalistów. W przemyśle systemy AI optymalizują procesy produkcyjne, redukując koszty i zwiększając wydajność. W edukacji \n",
    "personalizują doświadczenia uczenia się, dostosowując materiały do indywidualnych potrzeb uczniów. W finansach algorytmy AI \n",
    "wykrywają oszustwa, oceniają ryzyko kredytowe i dokonują transakcji giełdowych w milisekundach. Technologie rozpoznawania \n",
    "mowy i obrazu rewolucjonizują interfejsy użytkownika, podczas gdy autonomiczne pojazdy zmieniają transport i logistykę. \n",
    "Jednocześnie branża kreatywna wykorzystuje AI do generowania muzyki, sztuki i treści literackich, otwierając nowe możliwości \n",
    "ekspresji artystycznej, ale też stawiając pytania o granice kreatywności i oryginalności.\n",
    "\"\"\"\n",
    "\n",
    "# Przetwarzanie artykułu\n",
    "processor = ArticleProcessor()\n",
    "result = processor(article)\n",
    "\n",
    "print(\"Tematy:\")\n",
    "print(result.topics)\n",
    "print(\"\\nKluczowe punkty:\")\n",
    "print(result.key_points)\n",
    "print(\"\\nPodsumowanie:\")\n",
    "print(result.summary)"
   ]
  },
  {
   "cell_type": "code",
   "execution_count": 7,
   "id": "b0bc7587",
   "metadata": {},
   "outputs": [
    {
     "name": "stdout",
     "output_type": "stream",
     "text": [
      "\n",
      "\n",
      "\n",
      "\n",
      "\u001b[34m[2025-05-03T22:31:24.366290]\u001b[0m\n",
      "\n",
      "\u001b[31mSystem message:\u001b[0m\n",
      "\n",
      "Your input fields are:\n",
      "1. `article` (str)\n",
      "Your output fields are:\n",
      "1. `topics` (str): Lista 3-5 głównych tematów poruszanych w artykule\n",
      "2. `key_points` (str): Lista 3-5 najważniejszych punktów z artykułu\n",
      "All interactions will be structured in the following way, with the appropriate values filled in.\n",
      "\n",
      "[[ ## article ## ]]\n",
      "{article}\n",
      "\n",
      "[[ ## topics ## ]]\n",
      "{topics}\n",
      "\n",
      "[[ ## key_points ## ]]\n",
      "{key_points}\n",
      "\n",
      "[[ ## completed ## ]]\n",
      "In adhering to this structure, your objective is: \n",
      "        Analizuj artykuł i wyodrębnij kluczowe informacje.\n",
      "\n",
      "\n",
      "\u001b[31mUser message:\u001b[0m\n",
      "\n",
      "[[ ## article ## ]]\n",
      "\n",
      "Sztuczna inteligencja (AI) w ostatnich latach dokonała ogromnego postępu, szczególnie w dziedzinie modeli językowych. \n",
      "Modele takie jak GPT-4.1, Claude 3.7 czy LLaMA 4 potrafią generować tekst, tłumaczyć języki, pisać różne rodzaje kreatywnych \n",
      "treści i odpowiadać na pytania w sposób, który wydaje się niemal ludzki. Te osiągnięcia są wynikiem rozwoju architektury \n",
      "Transformer oraz zwiększenia ilości danych i mocy obliczeniowej dostępnej do treningu modeli. Jednocześnie, \n",
      "wraz z rosnącymi możliwościami AI, pojawiają się nowe wyzwania etyczne i społeczne związane z jej wykorzystaniem. \n",
      "Kwestie prywatności danych, bezpieczeństwa, potencjalnej stronniczości algorytmów oraz wpływu automatyzacji na rynek pracy \n",
      "stają się coraz bardziej istotne w dyskusjach o przyszłości technologii AI. Rządy i organizacje na całym świecie \n",
      "zaczynają wprowadzać regulacje mające na celu zapewnienie odpowiedzialnego rozwoju i wdrażania sztucznej inteligencji.\n",
      "\n",
      "Historia rozwoju sztucznej inteligencji sięga połowy XX wieku, kiedy to powstały pierwsze koncepcje teoretyczne i proste \n",
      "programy AI. Jednak dopiero w ostatniej dekadzie nastąpił przełom związany z uczeniem głębokim i sieciami neuronowymi. \n",
      "Kluczowym momentem był rok 2017, kiedy to opublikowano pracę \"Attention is All You Need\", która wprowadzała architekturę \n",
      "Transformer, będącą podstawą dzisiejszych dużych modeli językowych (LLM). Kolejne lata przyniosły modele takie jak BERT, \n",
      "GPT-2 i GPT-3. Pojawiły się też systemy text-to-image jak DALL-E czy Midjourney, które potrafią generować obrazy na podstawie \n",
      "opisów tekstowych. W 2023 roku upowszechnienie ChatGPT spowodowało masową adopcję technologii AI wśród zwykłych użytkowników, \n",
      "otwierając nową erę w interakcji człowiek-komputer.\n",
      "\n",
      "Zastosowania sztucznej inteligencji obejmują obecnie niemal każdą dziedzinę życia i gospodarki. W medycynie AI wspomaga \n",
      "diagnostykę, analizując obrazy medyczne i przewidując potencjalne schorzenia z dokładnością często przewyższającą ludzkich \n",
      "specjalistów. W przemyśle systemy AI optymalizują procesy produkcyjne, redukując koszty i zwiększając wydajność. W edukacji \n",
      "personalizują doświadczenia uczenia się, dostosowując materiały do indywidualnych potrzeb uczniów. W finansach algorytmy AI \n",
      "wykrywają oszustwa, oceniają ryzyko kredytowe i dokonują transakcji giełdowych w milisekundach. Technologie rozpoznawania \n",
      "mowy i obrazu rewolucjonizują interfejsy użytkownika, podczas gdy autonomiczne pojazdy zmieniają transport i logistykę. \n",
      "Jednocześnie branża kreatywna wykorzystuje AI do generowania muzyki, sztuki i treści literackich, otwierając nowe możliwości \n",
      "ekspresji artystycznej, ale też stawiając pytania o granice kreatywności i oryginalności.\n",
      "\n",
      "\n",
      "Respond with the corresponding output fields, starting with the field `[[ ## topics ## ]]`, then `[[ ## key_points ## ]]`, and then ending with the marker for `[[ ## completed ## ]]`.\n",
      "\n",
      "\n",
      "\u001b[31mResponse:\u001b[0m\n",
      "\n",
      "\u001b[32m[[ ## topics ## ]]\n",
      "1. Postęp i możliwości współczesnych modeli językowych AI\n",
      "2. Historia i rozwój sztucznej inteligencji, w tym architektura Transformer\n",
      "3. Etyczne i społeczne wyzwania oraz regulacje dotyczące AI\n",
      "4. Zastosowania sztucznej inteligencji w różnych dziedzinach życia i gospodarki\n",
      "\n",
      "[[ ## key_points ## ]]\n",
      "1. Nowoczesne modele językowe AI, takie jak GPT-4.1 czy LLaMA 4, potrafią generować zaawansowane teksty i odpowiadać na pytania na poziomie zbliżonym do ludzkiego.\n",
      "2. Przełomem w rozwoju AI była publikacja architektury Transformer w 2017 roku, która umożliwiła stworzenie dużych, skutecznych modeli językowych.\n",
      "3. Z szerokim zastosowaniem AI wiążą się poważne wyzwania, takie jak kwestie prywatności, bezpieczeństwa, stronniczości oraz wpływu na rynek pracy, co prowadzi do tworzenia nowych regulacji.\n",
      "4. Sztuczna inteligencja znajduje zastosowanie m.in. w medycynie, przemyśle, edukacji, finansach, technologii rozpoznawania obrazu i dźwięku, transporcie oraz branży kreatywnej.\n",
      "\n",
      "[[ ## completed ## ]]\u001b[0m\n",
      "\n",
      "\n",
      "\n",
      "\n",
      "\n",
      "\u001b[34m[2025-05-03T22:31:27.709503]\u001b[0m\n",
      "\n",
      "\u001b[31mSystem message:\u001b[0m\n",
      "\n",
      "Your input fields are:\n",
      "1. `article` (str)\n",
      "2. `topics` (str)\n",
      "3. `key_points` (str)\n",
      "Your output fields are:\n",
      "1. `summary` (str): Zwięzłe podsumowanie artykułu w 2-3 zdaniach\n",
      "All interactions will be structured in the following way, with the appropriate values filled in.\n",
      "\n",
      "[[ ## article ## ]]\n",
      "{article}\n",
      "\n",
      "[[ ## topics ## ]]\n",
      "{topics}\n",
      "\n",
      "[[ ## key_points ## ]]\n",
      "{key_points}\n",
      "\n",
      "[[ ## summary ## ]]\n",
      "{summary}\n",
      "\n",
      "[[ ## completed ## ]]\n",
      "In adhering to this structure, your objective is: \n",
      "        Stwórz zwięzłe podsumowanie artykułu na podstawie analizy.\n",
      "\n",
      "\n",
      "\u001b[31mUser message:\u001b[0m\n",
      "\n",
      "[[ ## article ## ]]\n",
      "\n",
      "Sztuczna inteligencja (AI) w ostatnich latach dokonała ogromnego postępu, szczególnie w dziedzinie modeli językowych. \n",
      "Modele takie jak GPT-4.1, Claude 3.7 czy LLaMA 4 potrafią generować tekst, tłumaczyć języki, pisać różne rodzaje kreatywnych \n",
      "treści i odpowiadać na pytania w sposób, który wydaje się niemal ludzki. Te osiągnięcia są wynikiem rozwoju architektury \n",
      "Transformer oraz zwiększenia ilości danych i mocy obliczeniowej dostępnej do treningu modeli. Jednocześnie, \n",
      "wraz z rosnącymi możliwościami AI, pojawiają się nowe wyzwania etyczne i społeczne związane z jej wykorzystaniem. \n",
      "Kwestie prywatności danych, bezpieczeństwa, potencjalnej stronniczości algorytmów oraz wpływu automatyzacji na rynek pracy \n",
      "stają się coraz bardziej istotne w dyskusjach o przyszłości technologii AI. Rządy i organizacje na całym świecie \n",
      "zaczynają wprowadzać regulacje mające na celu zapewnienie odpowiedzialnego rozwoju i wdrażania sztucznej inteligencji.\n",
      "\n",
      "Historia rozwoju sztucznej inteligencji sięga połowy XX wieku, kiedy to powstały pierwsze koncepcje teoretyczne i proste \n",
      "programy AI. Jednak dopiero w ostatniej dekadzie nastąpił przełom związany z uczeniem głębokim i sieciami neuronowymi. \n",
      "Kluczowym momentem był rok 2017, kiedy to opublikowano pracę \"Attention is All You Need\", która wprowadzała architekturę \n",
      "Transformer, będącą podstawą dzisiejszych dużych modeli językowych (LLM). Kolejne lata przyniosły modele takie jak BERT, \n",
      "GPT-2 i GPT-3. Pojawiły się też systemy text-to-image jak DALL-E czy Midjourney, które potrafią generować obrazy na podstawie \n",
      "opisów tekstowych. W 2023 roku upowszechnienie ChatGPT spowodowało masową adopcję technologii AI wśród zwykłych użytkowników, \n",
      "otwierając nową erę w interakcji człowiek-komputer.\n",
      "\n",
      "Zastosowania sztucznej inteligencji obejmują obecnie niemal każdą dziedzinę życia i gospodarki. W medycynie AI wspomaga \n",
      "diagnostykę, analizując obrazy medyczne i przewidując potencjalne schorzenia z dokładnością często przewyższającą ludzkich \n",
      "specjalistów. W przemyśle systemy AI optymalizują procesy produkcyjne, redukując koszty i zwiększając wydajność. W edukacji \n",
      "personalizują doświadczenia uczenia się, dostosowując materiały do indywidualnych potrzeb uczniów. W finansach algorytmy AI \n",
      "wykrywają oszustwa, oceniają ryzyko kredytowe i dokonują transakcji giełdowych w milisekundach. Technologie rozpoznawania \n",
      "mowy i obrazu rewolucjonizują interfejsy użytkownika, podczas gdy autonomiczne pojazdy zmieniają transport i logistykę. \n",
      "Jednocześnie branża kreatywna wykorzystuje AI do generowania muzyki, sztuki i treści literackich, otwierając nowe możliwości \n",
      "ekspresji artystycznej, ale też stawiając pytania o granice kreatywności i oryginalności.\n",
      "\n",
      "\n",
      "[[ ## topics ## ]]\n",
      "1. Postęp i możliwości współczesnych modeli językowych AI\n",
      "2. Historia i rozwój sztucznej inteligencji, w tym architektura Transformer\n",
      "3. Etyczne i społeczne wyzwania oraz regulacje dotyczące AI\n",
      "4. Zastosowania sztucznej inteligencji w różnych dziedzinach życia i gospodarki\n",
      "\n",
      "[[ ## key_points ## ]]\n",
      "1. Nowoczesne modele językowe AI, takie jak GPT-4.1 czy LLaMA 4, potrafią generować zaawansowane teksty i odpowiadać na pytania na poziomie zbliżonym do ludzkiego.\n",
      "2. Przełomem w rozwoju AI była publikacja architektury Transformer w 2017 roku, która umożliwiła stworzenie dużych, skutecznych modeli językowych.\n",
      "3. Z szerokim zastosowaniem AI wiążą się poważne wyzwania, takie jak kwestie prywatności, bezpieczeństwa, stronniczości oraz wpływu na rynek pracy, co prowadzi do tworzenia nowych regulacji.\n",
      "4. Sztuczna inteligencja znajduje zastosowanie m.in. w medycynie, przemyśle, edukacji, finansach, technologii rozpoznawania obrazu i dźwięku, transporcie oraz branży kreatywnej.\n",
      "\n",
      "Respond with the corresponding output fields, starting with the field `[[ ## summary ## ]]`, and then ending with the marker for `[[ ## completed ## ]]`.\n",
      "\n",
      "\n",
      "\u001b[31mResponse:\u001b[0m\n",
      "\n",
      "\u001b[32m[[ ## summary ## ]]\n",
      "Artykuł opisuje dynamiczny rozwój sztucznej inteligencji, ze szczególnym uwzględnieniem przełomów związanych z modelami językowymi i architekturą Transformer. Podkreśla szerokie zastosowania AI w różnych branżach oraz wskazuje na rosnące wyzwania etyczne i społeczne, które prowadzą do wdrażania nowych regulacji w celu zapewnienia odpowiedzialnego rozwoju tej technologii.\n",
      "\n",
      "[[ ## completed ## ]]\u001b[0m\n",
      "\n",
      "\n",
      "\n",
      "\n",
      "\n"
     ]
    }
   ],
   "source": [
    "# wyświetlmy przykładowy prompt\n",
    "dspy.inspect_history(n=2)"
   ]
  },
  {
   "cell_type": "markdown",
   "id": "624486c0",
   "metadata": {},
   "source": [
    "## Przykład 3: Zastosowanie DSPy w RAGu"
   ]
  },
  {
   "cell_type": "code",
   "execution_count": 8,
   "id": "c6757487",
   "metadata": {},
   "outputs": [
    {
     "name": "stdout",
     "output_type": "stream",
     "text": [
      "Pytanie: Kiedy założono Uniwersytet Warszawski?\n",
      "Odpowiedź: Uniwersytet Warszawski założono 19 listopada 1816 roku.\n",
      "--------------------------------------------------------------------------------\n",
      "Pytanie: Ile wydziałów ma UW?\n",
      "Odpowiedź: Uniwersytet Warszawski ma 21 wydziałów.\n",
      "--------------------------------------------------------------------------------\n",
      "Pytanie: Ilu studentów kształciło się na UW w roku 2018/2019?\n",
      "Odpowiedź: W roku akademickim 2018/2019 na Uniwersytecie Warszawskim kształciło się 42,5 tys. studentów.\n",
      "--------------------------------------------------------------------------------\n"
     ]
    }
   ],
   "source": [
    "# Definiujemy sygnaturę dla generowania odpowiedzi na pytania\n",
    "class RAG(dspy.Signature):\n",
    "    \"\"\"Odpowiadaj na pytania na podstawie dostępnych informacji.\"\"\"\n",
    "    \n",
    "    context = dspy.InputField(desc=\"Kontekst zawierający informacje\")\n",
    "    question = dspy.InputField()\n",
    "    answer = dspy.OutputField(desc=\"Odpowiedź na pytanie oparta wyłącznie na dostarczonym kontekście\")\n",
    "\n",
    "# Tworzymy moduł QA\n",
    "qa_model = dspy.Predict(RAG)\n",
    "\n",
    "# Przykładowy kontekst i pytanie\n",
    "context = \"\"\"\n",
    "Uniwersytet Warszawski (UW) – polska publiczna uczelnia wyższa założona 19 listopada 1816 roku w Warszawie. \n",
    "Największy uniwersytet w Polsce, od lat zajmujący pierwsze miejsce w krajowych rankingach szkół wyższych. \n",
    "W 2016 roku Uniwersytet Warszawski obchodził jubileusz 200-lecia istnienia. \n",
    "W skład uczelni wchodzi 21 wydziałów, 30 innych jednostek dydaktycznych oraz ponad 100 kierunków studiów. \n",
    "W roku akademickim 2018/2019 zatrudnionych było 3,8 tys. nauczycieli akademickich, a kształciło się 42,5 tys. studentów, \n",
    "3 tys. doktorantów i 2,5 tys. słuchaczy studiów podyplomowych.\n",
    "\"\"\"\n",
    "\n",
    "questions = [\n",
    "    \"Kiedy założono Uniwersytet Warszawski?\",\n",
    "    \"Ile wydziałów ma UW?\",\n",
    "    \"Ilu studentów kształciło się na UW w roku 2018/2019?\"\n",
    "]\n",
    "\n",
    "for question in questions:\n",
    "    answer = qa_model(context=context, question=question)\n",
    "    print(f\"Pytanie: {question}\")\n",
    "    print(f\"Odpowiedź: {answer.answer}\")\n",
    "    print(\"-\" * 80)"
   ]
  },
  {
   "cell_type": "code",
   "execution_count": 9,
   "id": "77d62676",
   "metadata": {},
   "outputs": [
    {
     "name": "stdout",
     "output_type": "stream",
     "text": [
      "\n",
      "\n",
      "\n",
      "\n",
      "\u001b[34m[2025-05-03T22:35:25.411589]\u001b[0m\n",
      "\n",
      "\u001b[31mSystem message:\u001b[0m\n",
      "\n",
      "Your input fields are:\n",
      "1. `context` (str): Kontekst zawierający informacje\n",
      "2. `question` (str)\n",
      "Your output fields are:\n",
      "1. `answer` (str): Odpowiedź na pytanie oparta wyłącznie na dostarczonym kontekście\n",
      "All interactions will be structured in the following way, with the appropriate values filled in.\n",
      "\n",
      "[[ ## context ## ]]\n",
      "{context}\n",
      "\n",
      "[[ ## question ## ]]\n",
      "{question}\n",
      "\n",
      "[[ ## answer ## ]]\n",
      "{answer}\n",
      "\n",
      "[[ ## completed ## ]]\n",
      "In adhering to this structure, your objective is: \n",
      "        Odpowiadaj na pytania na podstawie dostępnych informacji.\n",
      "\n",
      "\n",
      "\u001b[31mUser message:\u001b[0m\n",
      "\n",
      "[[ ## context ## ]]\n",
      "\n",
      "Uniwersytet Warszawski (UW) – polska publiczna uczelnia wyższa założona 19 listopada 1816 roku w Warszawie. \n",
      "Największy uniwersytet w Polsce, od lat zajmujący pierwsze miejsce w krajowych rankingach szkół wyższych. \n",
      "W 2016 roku Uniwersytet Warszawski obchodził jubileusz 200-lecia istnienia. \n",
      "W skład uczelni wchodzi 21 wydziałów, 30 innych jednostek dydaktycznych oraz ponad 100 kierunków studiów. \n",
      "W roku akademickim 2018/2019 zatrudnionych było 3,8 tys. nauczycieli akademickich, a kształciło się 42,5 tys. studentów, \n",
      "3 tys. doktorantów i 2,5 tys. słuchaczy studiów podyplomowych.\n",
      "\n",
      "\n",
      "[[ ## question ## ]]\n",
      "Ilu studentów kształciło się na UW w roku 2018/2019?\n",
      "\n",
      "Respond with the corresponding output fields, starting with the field `[[ ## answer ## ]]`, and then ending with the marker for `[[ ## completed ## ]]`.\n",
      "\n",
      "\n",
      "\u001b[31mResponse:\u001b[0m\n",
      "\n",
      "\u001b[32m[[ ## answer ## ]]\n",
      "W roku akademickim 2018/2019 na Uniwersytecie Warszawskim kształciło się 42,5 tys. studentów.\n",
      "\n",
      "[[ ## completed ## ]]\u001b[0m\n",
      "\n",
      "\n",
      "\n",
      "\n",
      "\n"
     ]
    }
   ],
   "source": [
    "# wyświetlmy przykładowy prompt\n",
    "dspy.inspect_history(n=1)"
   ]
  },
  {
   "cell_type": "markdown",
   "id": "76a918ae",
   "metadata": {},
   "source": [
    "## Przykład 4: Chain-of-Thought z DSPy"
   ]
  },
  {
   "cell_type": "code",
   "execution_count": 14,
   "id": "6ed853e2",
   "metadata": {},
   "outputs": [
    {
     "name": "stdout",
     "output_type": "stream",
     "text": [
      "Problem:\n",
      "\n",
      "W sklepie spożywczym jabłka kosztują 3,50 zł za kilogram, a gruszki 4,75 zł za kilogram. \n",
      "Pani Kowalska kupiła 2,5 kg jabłek i 1,8 kg gruszek. Ile zapłaciła za wszystkie owoce?\n",
      "\n",
      "\n",
      "Rozumowanie:\n",
      "Najpierw obliczam koszt zakupu jabłek: 2,5 kg × 3,50 zł/kg = 8,75 zł.  \n",
      "Następnie obliczam koszt zakupu gruszek: 1,8 kg × 4,75 zł/kg = 8,55 zł.  \n",
      "Teraz sumuję te dwie kwoty, aby uzyskać łączny koszt zakupu wszystkich owoców: 8,75 zł + 8,55 zł = 17,30 zł.\n",
      "\n",
      "Odpowiedź:\n",
      "17,30 zł\n"
     ]
    }
   ],
   "source": [
    "# Definiujemy sygnaturę dla rozumowania krok po kroku\n",
    "class MathProblemSolver(dspy.Signature):\n",
    "    \"\"\"Rozwiązuj problemy matematyczne krok po kroku.\"\"\"\n",
    "    \n",
    "    problem = dspy.InputField(desc=\"Problem obliczeniowy do rozwiązania\")\n",
    "    reasoning = dspy.OutputField(desc=\"Szczegółowe rozumowanie krok po kroku\")\n",
    "    answer = dspy.OutputField(desc=\"Końcowa odpowiedź na problem. Format to liczba z jednostką (w przypadku jednostek odmienialnych musi być podana w formie poprawnej gramatycznie, np. '2 kg jabłek', '5%' lub '8 zł').\")\n",
    "\n",
    "# Tworzymy moduł CoT (Chain of Thought)\n",
    "math_solver = dspy.ChainOfThought(MathProblemSolver)\n",
    "\n",
    "# Przykładowy problem matematyczny\n",
    "problem = \"\"\"\n",
    "W sklepie spożywczym jabłka kosztują 3,50 zł za kilogram, a gruszki 4,75 zł za kilogram. \n",
    "Pani Kowalska kupiła 2,5 kg jabłek i 1,8 kg gruszek. Ile zapłaciła za wszystkie owoce?\n",
    "\"\"\"\n",
    "\n",
    "# Rozwiązanie problemu\n",
    "solution = math_solver(problem=problem)\n",
    "\n",
    "print(\"Problem:\")\n",
    "print(problem)\n",
    "print(\"\\nRozumowanie:\")\n",
    "print(solution.reasoning)\n",
    "print(\"\\nOdpowiedź:\")\n",
    "print(solution.answer)"
   ]
  },
  {
   "cell_type": "markdown",
   "id": "0705a725",
   "metadata": {},
   "source": [
    "## Przykład 5: Optymalizacja promptów\n",
    "\n",
    "Optymalizujemy program MathProblemSolver z poprzedniego przykładu"
   ]
  },
  {
   "cell_type": "code",
   "execution_count": 15,
   "id": "6f1f0f73",
   "metadata": {},
   "outputs": [],
   "source": [
    "# Przygotowanie zestawu treningowego\n",
    "train_data = [\n",
    "    dspy.Example(\n",
    "        problem=\"Jeśli 5 koszy zawiera po 8 jabłek każdy, to ile jest wszystkich jabłek?\",\n",
    "        reasoning=\"Aby obliczyć całkowitą liczbę jabłek, mnożę liczbę koszy przez liczbę jabłek w każdym koszu: 5 koszy × 8 jabłek = 40 jabłek.\",\n",
    "        answer=\"40 jabłek\"\n",
    "    ).with_inputs(\"problem\"),\n",
    "    dspy.Example(\n",
    "        problem=\"Bilet do kina kosztuje 22 zł dla osoby dorosłej i 14 zł dla dziecka. Ile zapłaci rodzina składająca się z 2 dorosłych i 3 dzieci?\",\n",
    "        reasoning=\"Obliczam koszt dla dorosłych: 2 × 22 zł = 44 zł. Obliczam koszt dla dzieci: 3 × 14 zł = 42 zł. Całkowity koszt to: 44 zł + 42 zł = 86 zł.\",\n",
    "        answer=\"86 zł\"\n",
    "    ).with_inputs(\"problem\"),\n",
    "    dspy.Example(\n",
    "        problem=\"Samochód przejechał 240 km w 3 godziny. Jaka była jego średnia prędkość?\",\n",
    "        reasoning=\"Aby obliczyć średnią prędkość, dzielę przebytą odległość przez czas: 240 km ÷ 3 h = 80 km/h.\",\n",
    "        answer=\"80 km/h\"\n",
    "    ).with_inputs(\"problem\"),\n",
    "    dspy.Example(\n",
    "        problem=\"Na przyjęciu było 12 osób. Każda osoba zjadła 3 kawałki tortu. Ile kawałków tortu zjedzono łącznie?\",\n",
    "        reasoning=\"Obliczam całkowitą liczbę kawałków tortu: 12 osób × 3 kawałki = 36 kawałków.\",\n",
    "        answer=\"36 kawałków\"\n",
    "    ).with_inputs(\"problem\"),\n",
    "    dspy.Example(\n",
    "        problem=\"Na placu zabaw bawi się 15 dzieci. Jeśli 5 z nich poszło do domu, ile dzieci zostało na placu zabaw?\",\n",
    "        reasoning=\"Obliczam liczbę dzieci, które zostały: 15 dzieci - 5 dzieci = 10 dzieci.\",\n",
    "        answer=\"10 dzieci\"\n",
    "    ).with_inputs(\"problem\"),\n",
    "    dspy.Example(\n",
    "        problem=\"W klasie jest 20 uczniów. Jeśli 4 uczniów nie przyszło do szkoły, ilu uczniów jest w klasie?\",\n",
    "        reasoning=\"Obliczam liczbę uczniów w klasie: 20 uczniów - 4 uczniów = 16 uczniów.\",\n",
    "        answer=\"16 uczniów\"\n",
    "    ).with_inputs(\"problem\"),\n",
    "    dspy.Example(\n",
    "        problem=\"Na stole leży 10 jabłek. Jeśli 3 z nich są zielone, a reszta czerwona, ile jabłek jest czerwonych?\",\n",
    "        reasoning=\"Obliczam liczbę czerwonych jabłek: 10 jabłek - 3 zielone = 7 czerwonych.\",\n",
    "        answer=\"7 czerwonych jabłek\"\n",
    "    ).with_inputs(\"problem\"),\n",
    "    dspy.Example(\n",
    "        problem=\"W parku rośnie 8 drzew. Jeśli każde drzewo ma 5 gałęzi, ile gałęzi jest łącznie?\",\n",
    "        reasoning=\"Obliczam całkowitą liczbę gałęzi: 8 drzew × 5 gałęzi = 40 gałęzi.\",\n",
    "        answer=\"40 gałęzi\"\n",
    "    ).with_inputs(\"problem\"),\n",
    "    dspy.Example(\n",
    "        problem=\"Na boisku gra 11 zawodników w jednej drużynie. Ile zawodników gra w dwóch drużynach?\",\n",
    "        reasoning=\"Obliczam całkowitą liczbę zawodników: 11 zawodników × 2 drużyny = 22 zawodników.\",\n",
    "        answer=\"22 zawodników\"\n",
    "    ).with_inputs(\"problem\"),\n",
    "    dspy.Example(\n",
    "        problem=\"W pudełku jest 24 cukierków. Jeśli podzielę je równo między 6 dzieci, ile cukierków dostanie każde dziecko?\",\n",
    "        reasoning=\"Obliczam liczbę cukierków na dziecko: 24 cukierków ÷ 6 dzieci = 4 cukierków.\",\n",
    "        answer=\"4 cukierki\"\n",
    "    ).with_inputs(\"problem\"),\n",
    "    dspy.Example(\n",
    "        problem=\"Siła 150 N działa na powierzchnię 3 m². Jakie jest ciśnienie?\",\n",
    "        reasoning=\"Aby obliczyć ciśnienie, dzielę siłę przez powierzchnię: 150 N ÷ 3 m² = 50 N/m².\",\n",
    "        answer=\"50 N/m²\"\n",
    "    ).with_inputs(\"problem\"),\n",
    "    dspy.Example(\n",
    "        problem=\"Ciało o masie 5 kg porusza się z przyspieszeniem 2 m/s². Jaka siła działa na to ciało?\",\n",
    "        reasoning=\"Korzystam z drugiej zasady dynamiki Newtona: F = m × a. F = 5 kg × 2 m/s² = 10 N.\",\n",
    "        answer=\"10 N\"\n",
    "    ).with_inputs(\"problem\"),\n",
    "    dspy.Example(\n",
    "        problem=\"Samochód poruszający się z prędkością 20 m/s zahamował do zera w ciągu 4 sekund. Jakie było opóźnienie?\",\n",
    "        reasoning=\"Opóźnienie to zmiana prędkości w czasie: a = Δv ÷ t = (0 - 20 m/s) ÷ 4 s = -20 m/s ÷ 4 s = -5 m/s². Wartość bezwzględna opóźnienia wynosi 5 m/s².\",\n",
    "        answer=\"5 m/s²\"\n",
    "    ).with_inputs(\"problem\"),\n",
    "    dspy.Example(\n",
    "        problem=\"Skrzynia o masie 200 kg jest podnoszona na wysokość 5 metrów. Jaką pracę wykonano przeciwko sile grawitacji?\",\n",
    "        reasoning=\"Praca to siła × droga. W tym przypadku siła to ciężar skrzyni: F = m × g = 200 kg × 9,8 m/s² = 1960 N. Praca: W = F × h = 1960 N × 5 m = 9800 J.\",\n",
    "        answer=\"9800 J\"\n",
    "    ).with_inputs(\"problem\"),\n",
    "    dspy.Example(\n",
    "        problem=\"Samochód o masie 1000 kg porusza się z prędkością 72 km/h. Jaką energię kinetyczną posiada?\",\n",
    "        reasoning=\"Najpierw zamieniam jednostki: 72 km/h = 20 m/s. Energia kinetyczna to: Ek = (m × v²) ÷ 2 = (1000 kg × (20 m/s)²) ÷ 2 = (1000 kg × 400 m²/s²) ÷ 2 = 200000 J = 200 kJ.\",\n",
    "        answer=\"200 kJ\"\n",
    "    ).with_inputs(\"problem\"),\n",
    "    dspy.Example(\n",
    "        problem=\"Jeśli 1 metr sześcienny wody waży 1000 kg, ile waży 5 litrów wody?\",\n",
    "        reasoning=\"1 m³ = 1000 litrów, więc 1 litr waży 1 kg. Zatem 5 litrów waży 5 kg.\",\n",
    "        answer=\"5 kg\"\n",
    "    ).with_inputs(\"problem\"),\n",
    "    dspy.Example(\n",
    "        problem=\"Droga z Warszawy do Krakowa wynosi 290 km. Jeśli samochód spala 7 litrów benzyny na 100 km, ile benzyny zużyje na przejazd w obie strony?\",\n",
    "        reasoning=\"Droga w obie strony to: 290 km × 2 = 580 km. Zużycie benzyny: 580 km × (7 l ÷ 100 km) = 580 km × 0,07 l/km = 40,6 l.\",\n",
    "        answer=\"40,6 l\"\n",
    "    ).with_inputs(\"problem\"),\n",
    "    dspy.Example(\n",
    "        problem=\"Ciało o temperaturze 80°C stygnie do temperatury 20°C. O ile stopni obniżyła się temperatura ciała?\",\n",
    "        reasoning=\"Zmiana temperatury to różnica temperatur końcowej i początkowej: ΔT = T_końcowa - T_początkowa = 20°C - 80°C = -60°C. Wartość bezwzględna zmiany to 60°C.\",\n",
    "        answer=\"60°C\"\n",
    "    ).with_inputs(\"problem\"),\n",
    "    dspy.Example(\n",
    "        problem=\"Jeśli 1 kWh energii kosztuje 0,65 zł, ile kosztuje działanie urządzenia o mocy 2000 W przez 5 godzin?\",\n",
    "        reasoning=\"Najpierw obliczam zużytą energię: E = P × t = 2000 W × 5 h = 10000 Wh = 10 kWh. Koszt: 10 kWh × 0,65 zł/kWh = 6,50 zł.\",\n",
    "        answer=\"6,50 zł\"\n",
    "    ).with_inputs(\"problem\"),\n",
    "    dspy.Example(\n",
    "        problem=\"W sklepie kupiłem 2,5 kg ziemniaków po 2,20 zł za kilogram, 1,5 kg cebuli po 3,40 zł za kilogram i 0,75 kg marchwi po 2,80 zł za kilogram. Ile zapłaciłem łącznie?\",\n",
    "        reasoning=\"Koszt ziemniaków: 2,5 kg × 2,20 zł/kg = 5,50 zł. Koszt cebuli: 1,5 kg × 3,40 zł/kg = 5,10 zł. Koszt marchwi: 0,75 kg × 2,80 zł/kg = 2,10 zł. Łączny koszt: 5,50 zł + 5,10 zł + 2,10 zł = 12,70 zł.\",\n",
    "        answer=\"12,70 zł\"\n",
    "    ).with_inputs(\"problem\"),\n",
    "    dspy.Example(\n",
    "        problem=\"W zbiorniku o pojemności 50 litrów jest 30 litrów wody. Dolewamy jeszcze 15 litrów. Jaki procent zbiornika jest pełny?\",\n",
    "        reasoning=\"Łączna ilość wody: 30 l + 15 l = 45 l. Procent wypełnienia: (45 l ÷ 50 l) × 100% = 0,9 × 100% = 90%.\",\n",
    "        answer=\"90%\"\n",
    "    ).with_inputs(\"problem\"),\n",
    "    dspy.Example(\n",
    "        problem=\"Jeśli 30% uczniów w klasie to chłopcy, a w klasie jest 12 chłopców, ilu uczniów liczy cała klasa?\",\n",
    "        reasoning=\"Oznaczmy liczbę wszystkich uczniów jako x. Wiemy, że 30% z x to 12, więc: 0,3x = 12. Stąd: x = 12 ÷ 0,3 = 40.\",\n",
    "        answer=\"40 uczniów\"\n",
    "    ).with_inputs(\"problem\"),\n",
    "    dspy.Example(\n",
    "        problem=\"Cenę produktu podwyższono o 20%, a później obniżono o 10%. Jaką część pierwotnej ceny stanowi końcowa cena?\",\n",
    "        reasoning=\"Jeśli początkowa cena to x, to po podwyżce będzie: 1,2x. Po obniżce o 10%: 1,2x × 0,9 = 1,08x. Końcowa cena stanowi 108% pierwotnej ceny.\",\n",
    "        answer=\"108%\"\n",
    "    ).with_inputs(\"problem\"),\n",
    "    dspy.Example(\n",
    "        problem=\"Pole prostokąta wynosi 24 cm². Jeśli jego szerokość to 4 cm, jaka jest długość?\",\n",
    "        reasoning=\"Pole prostokąta to iloczyn długości i szerokości: P = a × b. Znamy pole P = 24 cm² i szerokość b = 4 cm. Wyznaczam długość: a = P ÷ b = 24 cm² ÷ 4 cm = 6 cm.\",\n",
    "        answer=\"6 cm\"\n",
    "    ).with_inputs(\"problem\"),\n",
    "    dspy.Example(\n",
    "        problem=\"Promień okręgu wynosi 5 cm. Jakie jest pole koła?\",\n",
    "        reasoning=\"Pole koła obliczam ze wzoru: P = π × r². P = 3,14 × (5 cm)² = 3,14 × 25 cm² = 78,5 cm².\",\n",
    "        answer=\"78,5 cm²\"\n",
    "    ).with_inputs(\"problem\"),\n",
    "    dspy.Example(\n",
    "        problem=\"Jeśli sześcian ma krawędź długości 3 cm, jaka jest jego objętość?\",\n",
    "        reasoning=\"Objętość sześcianu obliczam ze wzoru: V = a³, gdzie a to długość krawędzi. V = (3 cm)³ = 27 cm³.\",\n",
    "        answer=\"27 cm³\"\n",
    "    ).with_inputs(\"problem\"),\n",
    "    dspy.Example(\n",
    "        problem=\"Jeśli 1 cal to 2,54 cm, to ile centymetrów ma przedmiot o długości 10 cali?\",\n",
    "        reasoning=\"Zamieniam cale na centymetry: 10 cali × 2,54 cm/cal = 25,4 cm.\",\n",
    "        answer=\"25,4 cm\"\n",
    "    ).with_inputs(\"problem\"),\n",
    "    dspy.Example(\n",
    "        problem=\"Jeśli pH soku cytrynowego wynosi 2, a pH krwi wynosi 7,4, ile razy bardziej kwasowy jest sok cytrynowy od krwi?\",\n",
    "        reasoning=\"Skala pH jest logarytmiczna, więc różnica o 1 oznacza 10-krotną różnicę kwasowości. Różnica pH wynosi: 7,4 - 2 = 5,4. Zatem sok cytrynowy jest 10^5,4 ≈ 251189 razy bardziej kwasowy niż krew.\",\n",
    "        answer=\"251189 razy\"\n",
    "    ).with_inputs(\"problem\"),\n",
    "    dspy.Example(\n",
    "        problem=\"W szkole jest 600 uczniów, z czego 40% to dziewczynki. Ile jest chłopców?\",\n",
    "        reasoning=\"Liczba dziewcząt: 600 uczniów × 0,4 = 240 dziewcząt. Liczba chłopców: 600 uczniów - 240 dziewcząt = 360 chłopców.\",\n",
    "        answer=\"360 chłopców\"\n",
    "    ).with_inputs(\"problem\"),\n",
    "    dspy.Example(\n",
    "        problem=\"Jeśli 3 pracowników może wykonać zadanie w 12 godzin, to ile czasu potrzeba, aby 4 pracowników wykonało to samo zadanie?\",\n",
    "        reasoning=\"Zakładając, że wszyscy pracownicy pracują z taką samą wydajnością, całkowita ilość pracy to: 3 pracowników × 12 godzin = 36 roboczogodzin. Czas potrzebny dla 4 pracowników: 36 roboczogodzin ÷ 4 pracowników = 9 godzin.\",\n",
    "        answer=\"9 godzin\"\n",
    "    ).with_inputs(\"problem\"),\n",
    "    dspy.Example(\n",
    "        problem=\"Jeśli dystans między miastami na mapie wynosi 6 cm, a skala mapy to 1:100000, jaka jest rzeczywista odległość między tymi miastami w kilometrach?\",\n",
    "        reasoning=\"Rzeczywista odległość: 6 cm × 100000 = 600000 cm = 6000 m = 6 km.\",\n",
    "        answer=\"6 km\"\n",
    "    ).with_inputs(\"problem\"),\n",
    "    dspy.Example(\n",
    "        problem=\"Jeśli 200 g substancji zawiera 80 g składnika A, to jaki jest procentowy udział składnika A?\",\n",
    "        reasoning=\"Procentowy udział składnika A: (80 g ÷ 200 g) × 100% = 0,4 × 100% = 40%.\",\n",
    "        answer=\"40%\"\n",
    "    ).with_inputs(\"problem\"),\n",
    "    dspy.Example(\n",
    "        problem=\"Samochód jedzie ze średnią prędkością 60 km/h. Jaką odległość pokona w ciągu 2,5 godziny?\",\n",
    "        reasoning=\"Odległość to prędkość × czas: s = v × t = 60 km/h × 2,5 h = 150 km.\",\n",
    "        answer=\"150 km\"\n",
    "    ).with_inputs(\"problem\"),\n",
    "    dspy.Example(\n",
    "        problem=\"Jeśli 1 mol gazu zajmuje objętość 22,4 litra w warunkach normalnych, to jaką objętość zajmują 3 mole tego gazu?\",\n",
    "        reasoning=\"Objętość 3 moli gazu: 3 mole × 22,4 l/mol = 67,2 l.\",\n",
    "        answer=\"67,2 l\"\n",
    "    ).with_inputs(\"problem\"),\n",
    "    dspy.Example(\n",
    "        problem=\"Przy wymianie walut kurs euro wynosi 4,50 zł. Ile euro otrzymamy za 900 zł?\",\n",
    "        reasoning=\"Ilość euro: 900 zł ÷ 4,50 zł/euro = 200 euro.\",\n",
    "        answer=\"200 euro\"\n",
    "    ).with_inputs(\"problem\"),\n",
    "    dspy.Example(\n",
    "        problem=\"Jeśli autobus wyjeżdża z przystanku co 15 minut, zaczynając od 6:00, to o której godzinie będzie 10-ty autobus?\",\n",
    "        reasoning=\"10-ty autobus wyjedzie po upływie 9 × 15 minut od godziny 6:00 (pierwszy wyjeżdża o 6:00). 9 × 15 minut = 135 minut = 2 godziny i 15 minut. 6:00 + 2:15 = 8:15.\",\n",
    "        answer=\"8:15\"\n",
    "    ).with_inputs(\"problem\"),\n",
    "    dspy.Example(\n",
    "        problem=\"W dwóch pudełkach jest łącznie 50 kredek. Jeśli w pierwszym pudełku jest o 10 kredek więcej niż w drugim, to ile kredek jest w pierwszym pudełku?\",\n",
    "        reasoning=\"Oznaczmy liczbę kredek w drugim pudełku jako x. Wtedy w pierwszym jest x + 10. Razem mają 50 kredek: x + (x + 10) = 50. Stąd: 2x + 10 = 50, 2x = 40, x = 20. W pierwszym pudełku: x + 10 = 20 + 10 = 30 kredek.\",\n",
    "        answer=\"30 kredek\"\n",
    "    ).with_inputs(\"problem\"),\n",
    "    dspy.Example(\n",
    "        problem=\"Jeśli trójkąt ma pole 24 cm² i wysokość 6 cm, to jaka jest długość podstawy?\",\n",
    "        reasoning=\"Pole trójkąta to: P = (a × h) ÷ 2, gdzie a to podstawa, a h to wysokość. Przekształcam wzór: a = (2 × P) ÷ h = (2 × 24 cm²) ÷ 6 cm = 48 cm² ÷ 6 cm = 8 cm.\",\n",
    "        answer=\"8 cm\"\n",
    "    ).with_inputs(\"problem\"),\n",
    "    dspy.Example(\n",
    "        problem=\"Jeśli zmieszamy 300 ml wody o temperaturze 20°C z 200 ml wody o temperaturze 80°C, to jaka będzie temperatura mieszaniny (zakładając brak strat ciepła)?\",\n",
    "        reasoning=\"Temperatura mieszaniny to średnia ważona temperatur: T = (m₁ × T₁ + m₂ × T₂) ÷ (m₁ + m₂) = (300 ml × 20°C + 200 ml × 80°C) ÷ (300 ml + 200 ml) = (6000 ml·°C + 16000 ml·°C) ÷ 500 ml = 22000 ml·°C ÷ 500 ml = 44°C.\",\n",
    "        answer=\"44°C\"\n",
    "    ).with_inputs(\"problem\"),\n",
    "    dspy.Example(\n",
    "        problem=\"Jeśli 1 kg mąki kosztuje 2,50 zł, a 1 kg cukru kosztuje 3,00 zł, to ile zapłacimy za 2 kg mąki i 1 kg cukru?\",\n",
    "        reasoning=\"Koszt mąki: 2 kg × 2,50 zł/kg = 5,00 zł. Koszt cukru: 1 kg × 3,00 zł/kg = 3,00 zł. Łączny koszt: 5,00 zł + 3,00 zł = 8,00 zł.\",\n",
    "        answer=\"8,00 zł\"\n",
    "    ).with_inputs(\"problem\"),\n",
    "]\n"
   ]
  },
  {
   "cell_type": "code",
   "execution_count": 39,
   "id": "026e909f",
   "metadata": {},
   "outputs": [
    {
     "name": "stdout",
     "output_type": "stream",
     "text": [
      "Going to sample between 1 and 4 traces per predictor.\n",
      "Will attempt to bootstrap 16 candidate sets.\n",
      "Average Metric: 32.00 / 40 (80.0%): 100%|██████████| 40/40 [00:00<00:00, 2384.14it/s]"
     ]
    },
    {
     "name": "stderr",
     "output_type": "stream",
     "text": [
      "2025/05/01 20:27:30 INFO dspy.evaluate.evaluate: Average Metric: 32.0 / 40 (80.0%)\n"
     ]
    },
    {
     "name": "stdout",
     "output_type": "stream",
     "text": [
      "\n",
      "New best score: 80.0 for seed -3\n",
      "Scores so far: [80.0]\n",
      "Best score so far: 80.0\n",
      "Average Metric: 33.00 / 40 (82.5%): 100%|██████████| 40/40 [00:00<00:00, 2869.76it/s]"
     ]
    },
    {
     "name": "stderr",
     "output_type": "stream",
     "text": [
      "2025/05/01 20:27:30 INFO dspy.evaluate.evaluate: Average Metric: 33.0 / 40 (82.5%)\n"
     ]
    },
    {
     "name": "stdout",
     "output_type": "stream",
     "text": [
      "\n",
      "New best score: 82.5 for seed -2\n",
      "Scores so far: [80.0, 82.5]\n",
      "Best score so far: 82.5\n"
     ]
    },
    {
     "name": "stderr",
     "output_type": "stream",
     "text": [
      " 12%|█▎        | 5/40 [00:00<00:00, 1638.40it/s]\n"
     ]
    },
    {
     "name": "stdout",
     "output_type": "stream",
     "text": [
      "Bootstrapped 4 full traces after 5 examples for up to 1 rounds, amounting to 5 attempts.\n",
      "Average Metric: 31.00 / 40 (77.5%): 100%|██████████| 40/40 [00:00<00:00, 3033.85it/s]"
     ]
    },
    {
     "name": "stderr",
     "output_type": "stream",
     "text": [
      "2025/05/01 20:27:30 INFO dspy.evaluate.evaluate: Average Metric: 31.0 / 40 (77.5%)\n"
     ]
    },
    {
     "name": "stdout",
     "output_type": "stream",
     "text": [
      "\n",
      "Scores so far: [80.0, 82.5, 77.5]\n",
      "Best score so far: 82.5\n"
     ]
    },
    {
     "name": "stderr",
     "output_type": "stream",
     "text": [
      " 12%|█▎        | 5/40 [00:00<00:00, 1697.27it/s]\n"
     ]
    },
    {
     "name": "stdout",
     "output_type": "stream",
     "text": [
      "Bootstrapped 4 full traces after 5 examples for up to 1 rounds, amounting to 5 attempts.\n",
      "Average Metric: 32.00 / 40 (80.0%): 100%|██████████| 40/40 [00:00<00:00, 3051.62it/s]"
     ]
    },
    {
     "name": "stderr",
     "output_type": "stream",
     "text": [
      "2025/05/01 20:27:30 INFO dspy.evaluate.evaluate: Average Metric: 32.0 / 40 (80.0%)\n"
     ]
    },
    {
     "name": "stdout",
     "output_type": "stream",
     "text": [
      "\n",
      "Scores so far: [80.0, 82.5, 77.5, 80.0]\n",
      "Best score so far: 82.5\n"
     ]
    },
    {
     "name": "stderr",
     "output_type": "stream",
     "text": [
      "  5%|▌         | 2/40 [00:00<00:00, 1353.44it/s]"
     ]
    },
    {
     "name": "stdout",
     "output_type": "stream",
     "text": [
      "Bootstrapped 2 full traces after 2 examples for up to 1 rounds, amounting to 2 attempts.\n"
     ]
    },
    {
     "name": "stderr",
     "output_type": "stream",
     "text": [
      "\n"
     ]
    },
    {
     "name": "stdout",
     "output_type": "stream",
     "text": [
      "Average Metric: 32.00 / 40 (80.0%): 100%|██████████| 40/40 [00:00<00:00, 3268.69it/s]"
     ]
    },
    {
     "name": "stderr",
     "output_type": "stream",
     "text": [
      "2025/05/01 20:27:30 INFO dspy.evaluate.evaluate: Average Metric: 32.0 / 40 (80.0%)\n"
     ]
    },
    {
     "name": "stdout",
     "output_type": "stream",
     "text": [
      "\n",
      "Scores so far: [80.0, 82.5, 77.5, 80.0, 80.0]\n",
      "Best score so far: 82.5\n"
     ]
    },
    {
     "name": "stderr",
     "output_type": "stream",
     "text": [
      "  2%|▎         | 1/40 [00:00<00:00, 1189.54it/s]"
     ]
    },
    {
     "name": "stdout",
     "output_type": "stream",
     "text": [
      "Bootstrapped 1 full traces after 1 examples for up to 1 rounds, amounting to 1 attempts.\n"
     ]
    },
    {
     "name": "stderr",
     "output_type": "stream",
     "text": [
      "\n"
     ]
    },
    {
     "name": "stdout",
     "output_type": "stream",
     "text": [
      "Average Metric: 31.00 / 40 (77.5%): 100%|██████████| 40/40 [00:00<00:00, 3043.10it/s]"
     ]
    },
    {
     "name": "stderr",
     "output_type": "stream",
     "text": [
      "2025/05/01 20:27:30 INFO dspy.evaluate.evaluate: Average Metric: 31.0 / 40 (77.5%)\n"
     ]
    },
    {
     "name": "stdout",
     "output_type": "stream",
     "text": [
      "\n",
      "Scores so far: [80.0, 82.5, 77.5, 80.0, 80.0, 77.5]\n",
      "Best score so far: 82.5\n"
     ]
    },
    {
     "name": "stderr",
     "output_type": "stream",
     "text": [
      "  8%|▊         | 3/40 [00:00<00:00, 1931.67it/s]"
     ]
    },
    {
     "name": "stdout",
     "output_type": "stream",
     "text": [
      "Bootstrapped 2 full traces after 3 examples for up to 1 rounds, amounting to 3 attempts.\n"
     ]
    },
    {
     "name": "stderr",
     "output_type": "stream",
     "text": [
      "\n"
     ]
    },
    {
     "name": "stdout",
     "output_type": "stream",
     "text": [
      "Average Metric: 30.00 / 40 (75.0%): 100%|██████████| 40/40 [00:00<00:00, 3161.40it/s]"
     ]
    },
    {
     "name": "stderr",
     "output_type": "stream",
     "text": [
      "2025/05/01 20:27:30 INFO dspy.evaluate.evaluate: Average Metric: 30.0 / 40 (75.0%)\n"
     ]
    },
    {
     "name": "stdout",
     "output_type": "stream",
     "text": [
      "\n",
      "Scores so far: [80.0, 82.5, 77.5, 80.0, 80.0, 77.5, 75.0]\n",
      "Best score so far: 82.5\n"
     ]
    },
    {
     "name": "stderr",
     "output_type": "stream",
     "text": [
      "  8%|▊         | 3/40 [00:00<00:00, 1455.01it/s]"
     ]
    },
    {
     "name": "stdout",
     "output_type": "stream",
     "text": [
      "Bootstrapped 2 full traces after 3 examples for up to 1 rounds, amounting to 3 attempts.\n"
     ]
    },
    {
     "name": "stderr",
     "output_type": "stream",
     "text": [
      "\n"
     ]
    },
    {
     "name": "stdout",
     "output_type": "stream",
     "text": [
      "Average Metric: 31.00 / 40 (77.5%): 100%|██████████| 40/40 [00:00<00:00, 3266.85it/s]"
     ]
    },
    {
     "name": "stderr",
     "output_type": "stream",
     "text": [
      "2025/05/01 20:27:30 INFO dspy.evaluate.evaluate: Average Metric: 31.0 / 40 (77.5%)\n"
     ]
    },
    {
     "name": "stdout",
     "output_type": "stream",
     "text": [
      "\n",
      "Scores so far: [80.0, 82.5, 77.5, 80.0, 80.0, 77.5, 75.0, 77.5]\n",
      "Best score so far: 82.5\n"
     ]
    },
    {
     "name": "stderr",
     "output_type": "stream",
     "text": [
      "  8%|▊         | 3/40 [00:00<00:00, 1541.27it/s]"
     ]
    },
    {
     "name": "stdout",
     "output_type": "stream",
     "text": [
      "Bootstrapped 3 full traces after 3 examples for up to 1 rounds, amounting to 3 attempts.\n"
     ]
    },
    {
     "name": "stderr",
     "output_type": "stream",
     "text": [
      "\n"
     ]
    },
    {
     "name": "stdout",
     "output_type": "stream",
     "text": [
      "Average Metric: 31.00 / 40 (77.5%): 100%|██████████| 40/40 [00:00<00:00, 3062.09it/s]"
     ]
    },
    {
     "name": "stderr",
     "output_type": "stream",
     "text": [
      "2025/05/01 20:27:30 INFO dspy.evaluate.evaluate: Average Metric: 31.0 / 40 (77.5%)\n"
     ]
    },
    {
     "name": "stdout",
     "output_type": "stream",
     "text": [
      "\n",
      "Scores so far: [80.0, 82.5, 77.5, 80.0, 80.0, 77.5, 75.0, 77.5, 77.5]\n",
      "Best score so far: 82.5\n"
     ]
    },
    {
     "name": "stderr",
     "output_type": "stream",
     "text": [
      "  5%|▌         | 2/40 [00:00<00:00, 1518.03it/s]"
     ]
    },
    {
     "name": "stdout",
     "output_type": "stream",
     "text": [
      "Bootstrapped 1 full traces after 2 examples for up to 1 rounds, amounting to 2 attempts.\n"
     ]
    },
    {
     "name": "stderr",
     "output_type": "stream",
     "text": [
      "\n"
     ]
    },
    {
     "name": "stdout",
     "output_type": "stream",
     "text": [
      "Average Metric: 33.00 / 40 (82.5%): 100%|██████████| 40/40 [00:00<00:00, 3248.13it/s]"
     ]
    },
    {
     "name": "stderr",
     "output_type": "stream",
     "text": [
      "2025/05/01 20:27:30 INFO dspy.evaluate.evaluate: Average Metric: 33.0 / 40 (82.5%)\n"
     ]
    },
    {
     "name": "stdout",
     "output_type": "stream",
     "text": [
      "\n",
      "Scores so far: [80.0, 82.5, 77.5, 80.0, 80.0, 77.5, 75.0, 77.5, 77.5, 82.5]\n",
      "Best score so far: 82.5\n"
     ]
    },
    {
     "name": "stderr",
     "output_type": "stream",
     "text": [
      "  8%|▊         | 3/40 [00:00<00:00, 1545.05it/s]"
     ]
    },
    {
     "name": "stdout",
     "output_type": "stream",
     "text": [
      "Bootstrapped 3 full traces after 3 examples for up to 1 rounds, amounting to 3 attempts.\n"
     ]
    },
    {
     "name": "stderr",
     "output_type": "stream",
     "text": [
      "\n"
     ]
    },
    {
     "name": "stdout",
     "output_type": "stream",
     "text": [
      "Average Metric: 30.00 / 40 (75.0%): 100%|██████████| 40/40 [00:00<00:00, 3864.47it/s]"
     ]
    },
    {
     "name": "stderr",
     "output_type": "stream",
     "text": [
      "2025/05/01 20:27:30 INFO dspy.evaluate.evaluate: Average Metric: 30.0 / 40 (75.0%)\n"
     ]
    },
    {
     "name": "stdout",
     "output_type": "stream",
     "text": [
      "\n",
      "Scores so far: [80.0, 82.5, 77.5, 80.0, 80.0, 77.5, 75.0, 77.5, 77.5, 82.5, 75.0]\n",
      "Best score so far: 82.5\n"
     ]
    },
    {
     "name": "stderr",
     "output_type": "stream",
     "text": [
      "  5%|▌         | 2/40 [00:00<00:00, 1276.80it/s]"
     ]
    },
    {
     "name": "stdout",
     "output_type": "stream",
     "text": [
      "Bootstrapped 2 full traces after 2 examples for up to 1 rounds, amounting to 2 attempts.\n"
     ]
    },
    {
     "name": "stderr",
     "output_type": "stream",
     "text": [
      "\n"
     ]
    },
    {
     "name": "stdout",
     "output_type": "stream",
     "text": [
      "Average Metric: 33.00 / 40 (82.5%): 100%|██████████| 40/40 [00:00<00:00, 2305.86it/s]"
     ]
    },
    {
     "name": "stderr",
     "output_type": "stream",
     "text": [
      "2025/05/01 20:27:30 INFO dspy.evaluate.evaluate: Average Metric: 33.0 / 40 (82.5%)\n"
     ]
    },
    {
     "name": "stdout",
     "output_type": "stream",
     "text": [
      "\n",
      "Scores so far: [80.0, 82.5, 77.5, 80.0, 80.0, 77.5, 75.0, 77.5, 77.5, 82.5, 75.0, 82.5]\n",
      "Best score so far: 82.5\n"
     ]
    },
    {
     "name": "stderr",
     "output_type": "stream",
     "text": [
      " 15%|█▌        | 6/40 [00:00<00:00, 1442.75it/s]"
     ]
    },
    {
     "name": "stdout",
     "output_type": "stream",
     "text": [
      "Bootstrapped 4 full traces after 6 examples for up to 1 rounds, amounting to 6 attempts.\n"
     ]
    },
    {
     "name": "stderr",
     "output_type": "stream",
     "text": [
      "\n"
     ]
    },
    {
     "name": "stdout",
     "output_type": "stream",
     "text": [
      "Average Metric: 33.00 / 40 (82.5%): 100%|██████████| 40/40 [00:00<00:00, 3753.46it/s]\n"
     ]
    },
    {
     "name": "stderr",
     "output_type": "stream",
     "text": [
      "2025/05/01 20:27:30 INFO dspy.evaluate.evaluate: Average Metric: 33.0 / 40 (82.5%)\n"
     ]
    },
    {
     "name": "stdout",
     "output_type": "stream",
     "text": [
      "Scores so far: [80.0, 82.5, 77.5, 80.0, 80.0, 77.5, 75.0, 77.5, 77.5, 82.5, 75.0, 82.5, 82.5]\n",
      "Best score so far: 82.5\n"
     ]
    },
    {
     "name": "stderr",
     "output_type": "stream",
     "text": [
      "  2%|▎         | 1/40 [00:00<00:00, 1354.75it/s]"
     ]
    },
    {
     "name": "stdout",
     "output_type": "stream",
     "text": [
      "Bootstrapped 1 full traces after 1 examples for up to 1 rounds, amounting to 1 attempts.\n"
     ]
    },
    {
     "name": "stderr",
     "output_type": "stream",
     "text": [
      "\n"
     ]
    },
    {
     "name": "stdout",
     "output_type": "stream",
     "text": [
      "Average Metric: 33.00 / 40 (82.5%): 100%|██████████| 40/40 [00:00<00:00, 3348.01it/s]"
     ]
    },
    {
     "name": "stderr",
     "output_type": "stream",
     "text": [
      "2025/05/01 20:27:31 INFO dspy.evaluate.evaluate: Average Metric: 33.0 / 40 (82.5%)\n"
     ]
    },
    {
     "name": "stdout",
     "output_type": "stream",
     "text": [
      "\n",
      "Scores so far: [80.0, 82.5, 77.5, 80.0, 80.0, 77.5, 75.0, 77.5, 77.5, 82.5, 75.0, 82.5, 82.5, 82.5]\n",
      "Best score so far: 82.5\n"
     ]
    },
    {
     "name": "stderr",
     "output_type": "stream",
     "text": [
      " 18%|█▊        | 7/40 [00:00<00:00, 1899.47it/s]"
     ]
    },
    {
     "name": "stdout",
     "output_type": "stream",
     "text": [
      "Bootstrapped 4 full traces after 7 examples for up to 1 rounds, amounting to 7 attempts.\n"
     ]
    },
    {
     "name": "stderr",
     "output_type": "stream",
     "text": [
      "\n"
     ]
    },
    {
     "name": "stdout",
     "output_type": "stream",
     "text": [
      "Average Metric: 33.00 / 40 (82.5%): 100%|██████████| 40/40 [00:00<00:00, 2929.96it/s]"
     ]
    },
    {
     "name": "stderr",
     "output_type": "stream",
     "text": [
      "2025/05/01 20:27:31 INFO dspy.evaluate.evaluate: Average Metric: 33.0 / 40 (82.5%)\n"
     ]
    },
    {
     "name": "stdout",
     "output_type": "stream",
     "text": [
      "\n",
      "Scores so far: [80.0, 82.5, 77.5, 80.0, 80.0, 77.5, 75.0, 77.5, 77.5, 82.5, 75.0, 82.5, 82.5, 82.5, 82.5]\n",
      "Best score so far: 82.5\n"
     ]
    },
    {
     "name": "stderr",
     "output_type": "stream",
     "text": [
      " 10%|█         | 4/40 [00:00<00:00, 1792.25it/s]"
     ]
    },
    {
     "name": "stdout",
     "output_type": "stream",
     "text": [
      "Bootstrapped 4 full traces after 4 examples for up to 1 rounds, amounting to 4 attempts.\n"
     ]
    },
    {
     "name": "stderr",
     "output_type": "stream",
     "text": [
      "\n"
     ]
    },
    {
     "name": "stdout",
     "output_type": "stream",
     "text": [
      "Average Metric: 33.00 / 40 (82.5%): 100%|██████████| 40/40 [00:00<00:00, 3464.79it/s]"
     ]
    },
    {
     "name": "stderr",
     "output_type": "stream",
     "text": [
      "2025/05/01 20:27:31 INFO dspy.evaluate.evaluate: Average Metric: 33.0 / 40 (82.5%)\n"
     ]
    },
    {
     "name": "stdout",
     "output_type": "stream",
     "text": [
      "\n",
      "Scores so far: [80.0, 82.5, 77.5, 80.0, 80.0, 77.5, 75.0, 77.5, 77.5, 82.5, 75.0, 82.5, 82.5, 82.5, 82.5, 82.5]\n",
      "Best score so far: 82.5\n"
     ]
    },
    {
     "name": "stderr",
     "output_type": "stream",
     "text": [
      "  8%|▊         | 3/40 [00:00<00:00, 1619.01it/s]"
     ]
    },
    {
     "name": "stdout",
     "output_type": "stream",
     "text": [
      "Bootstrapped 3 full traces after 3 examples for up to 1 rounds, amounting to 3 attempts.\n"
     ]
    },
    {
     "name": "stderr",
     "output_type": "stream",
     "text": [
      "\n"
     ]
    },
    {
     "name": "stdout",
     "output_type": "stream",
     "text": [
      "Average Metric: 35.00 / 40 (87.5%): 100%|██████████| 40/40 [00:00<00:00, 3397.50it/s]"
     ]
    },
    {
     "name": "stderr",
     "output_type": "stream",
     "text": [
      "2025/05/01 20:27:31 INFO dspy.evaluate.evaluate: Average Metric: 35.0 / 40 (87.5%)\n"
     ]
    },
    {
     "name": "stdout",
     "output_type": "stream",
     "text": [
      "\n",
      "New best score: 87.5 for seed 13\n",
      "Scores so far: [80.0, 82.5, 77.5, 80.0, 80.0, 77.5, 75.0, 77.5, 77.5, 82.5, 75.0, 82.5, 82.5, 82.5, 82.5, 82.5, 87.5]\n",
      "Best score so far: 87.5\n"
     ]
    },
    {
     "name": "stderr",
     "output_type": "stream",
     "text": [
      "  2%|▎         | 1/40 [00:00<00:00, 1322.29it/s]"
     ]
    },
    {
     "name": "stdout",
     "output_type": "stream",
     "text": [
      "Bootstrapped 1 full traces after 1 examples for up to 1 rounds, amounting to 1 attempts.\n"
     ]
    },
    {
     "name": "stderr",
     "output_type": "stream",
     "text": [
      "\n"
     ]
    },
    {
     "name": "stdout",
     "output_type": "stream",
     "text": [
      "Average Metric: 33.00 / 40 (82.5%): 100%|██████████| 40/40 [00:00<00:00, 3248.25it/s]"
     ]
    },
    {
     "name": "stderr",
     "output_type": "stream",
     "text": [
      "2025/05/01 20:27:31 INFO dspy.evaluate.evaluate: Average Metric: 33.0 / 40 (82.5%)\n"
     ]
    },
    {
     "name": "stdout",
     "output_type": "stream",
     "text": [
      "\n",
      "Scores so far: [80.0, 82.5, 77.5, 80.0, 80.0, 77.5, 75.0, 77.5, 77.5, 82.5, 75.0, 82.5, 82.5, 82.5, 82.5, 82.5, 87.5, 82.5]\n",
      "Best score so far: 87.5\n"
     ]
    },
    {
     "name": "stderr",
     "output_type": "stream",
     "text": [
      "  5%|▌         | 2/40 [00:00<00:00, 1549.72it/s]"
     ]
    },
    {
     "name": "stdout",
     "output_type": "stream",
     "text": [
      "Bootstrapped 2 full traces after 2 examples for up to 1 rounds, amounting to 2 attempts.\n"
     ]
    },
    {
     "name": "stderr",
     "output_type": "stream",
     "text": [
      "\n"
     ]
    },
    {
     "name": "stdout",
     "output_type": "stream",
     "text": [
      "Average Metric: 32.00 / 40 (80.0%): 100%|██████████| 40/40 [00:00<00:00, 2932.67it/s]"
     ]
    },
    {
     "name": "stderr",
     "output_type": "stream",
     "text": [
      "2025/05/01 20:27:31 INFO dspy.evaluate.evaluate: Average Metric: 32.0 / 40 (80.0%)\n"
     ]
    },
    {
     "name": "stdout",
     "output_type": "stream",
     "text": [
      "\n",
      "Scores so far: [80.0, 82.5, 77.5, 80.0, 80.0, 77.5, 75.0, 77.5, 77.5, 82.5, 75.0, 82.5, 82.5, 82.5, 82.5, 82.5, 87.5, 82.5, 80.0]\n",
      "Best score so far: 87.5\n",
      "19 candidate programs found.\n",
      "Problem testowy:\n",
      "W sklepie internetowym koszulka kosztuje 79 zł, a dostawa 12 zł. Jeśli kupimy 3 koszulki, to ile zapłacimy łącznie z dostawą?\n",
      "\n",
      "Rozumowanie:\n",
      "Cena za 3 koszulki: 3 × 79 zł = 237 zł. Koszt dostawy wynosi 12 zł. Całkowity koszt to 237 zł + 12 zł = 249 zł.\n",
      "\n",
      "Odpowiedź:\n",
      "249 zł\n"
     ]
    }
   ],
   "source": [
    "# Definiujemy moduł do optymalizacji\n",
    "class SimpleMathSolver(dspy.Module):\n",
    "    def __init__(self):\n",
    "        super().__init__()\n",
    "        self.solver = dspy.ChainOfThought(MathProblemSolver)\n",
    "    \n",
    "    def forward(self, problem):\n",
    "        solution = self.solver(problem=problem)\n",
    "        return solution\n",
    "\n",
    "def validate_answer(example, pred, trace=None):\n",
    "    return 1.0 if pred.answer == example.answer else 0.0\n",
    "\n",
    "# Tworzymy optymalizator ('teleprompter') z wykorzystaniem BootstrapFewShotWithRandomSearch\n",
    "teleprompter = dspy.teleprompt.BootstrapFewShotWithRandomSearch(\n",
    "    metric=validate_answer,\n",
    "    max_bootstrapped_demos=4,\n",
    "    max_labeled_demos=4\n",
    ")\n",
    "\n",
    "# Optymalizujemy moduł na danych treningowych\n",
    "optimized_solver_demos = teleprompter.compile(\n",
    "    SimpleMathSolver(),\n",
    "    trainset=train_data\n",
    ")\n",
    "\n",
    "# Testowanie zoptymalizowanego modelu\n",
    "test_problem = \"W sklepie internetowym koszulka kosztuje 79 zł, a dostawa 12 zł. Jeśli kupimy 3 koszulki, to ile zapłacimy łącznie z dostawą?\"\n",
    "result = optimized_solver_demos(problem=test_problem)\n",
    "\n",
    "print(\"Problem testowy:\")\n",
    "print(test_problem)\n",
    "print(\"\\nRozumowanie:\")\n",
    "print(result.reasoning)\n",
    "print(\"\\nOdpowiedź:\")\n",
    "print(result.answer)"
   ]
  },
  {
   "cell_type": "code",
   "execution_count": 40,
   "id": "87124d58",
   "metadata": {},
   "outputs": [
    {
     "data": {
      "text/plain": [
       "Predict(StringSignature(problem -> reasoning, answer\n",
       "    instructions='Rozwiązuj problemy matematyczne krok po kroku.'\n",
       "    problem = Field(annotation=str required=True json_schema_extra={'desc': 'Problem obliczeniowy do rozwiązania', '__dspy_field_type': 'input', 'prefix': 'Problem:'})\n",
       "    reasoning = Field(annotation=str required=True json_schema_extra={'desc': 'Szczegółowe rozumowanie krok po kroku', '__dspy_field_type': 'output', 'prefix': 'Reasoning:'})\n",
       "    answer = Field(annotation=str required=True json_schema_extra={'desc': \"Końcowa odpowiedź na problem. Format to liczba z jednostką (w przypadku jednostek odmienialnych musi być podana w formie poprawnej gramatycznie, np. '2 kg jabłek', '5%' lub '8 zł').\", '__dspy_field_type': 'output', 'prefix': 'Answer:'})\n",
       "))"
      ]
     },
     "execution_count": 40,
     "metadata": {},
     "output_type": "execute_result"
    }
   ],
   "source": [
    "# Sygnatura dla predyktora\n",
    "optimized_solver_demos.predictors()[0]"
   ]
  },
  {
   "cell_type": "code",
   "execution_count": 41,
   "id": "f8907c7d",
   "metadata": {},
   "outputs": [
    {
     "data": {
      "text/plain": [
       "[Example({'augmented': True, 'problem': 'Bilet do kina kosztuje 22 zł dla osoby dorosłej i 14 zł dla dziecka. Ile zapłaci rodzina składająca się z 2 dorosłych i 3 dzieci?', 'reasoning': 'Koszt biletów dla 2 dorosłych: 2 × 22 zł = 44 zł. Koszt biletów dla 3 dzieci: 3 × 14 zł = 42 zł. Łączny koszt to 44 zł + 42 zł = 86 zł.', 'answer': '86 zł'}) (input_keys=None),\n",
       " Example({'augmented': True, 'problem': 'W zbiorniku o pojemności 50 litrów jest 30 litrów wody. Dolewamy jeszcze 15 litrów. Jaki procent zbiornika jest pełny?', 'reasoning': 'Łączna ilość wody po dolaniu to 30 litrów + 15 litrów = 45 litrów. Procent zapełnienia zbiornika to (45/50) × 100% = 90%.', 'answer': '90%'}) (input_keys=None),\n",
       " Example({'augmented': True, 'problem': 'Jeśli 1 metr sześcienny wody waży 1000 kg, ile waży 5 litrów wody?', 'reasoning': '1 metr sześcienny to 1000 litrów i waży 1000 kg. Zatem 1 litr waży 1 kg. 5 litrów waży 5 × 1 kg = 5 kg.', 'answer': '5 kg'}) (input_keys=None),\n",
       " Example({'problem': 'Jeśli 1 mol gazu zajmuje objętość 22,4 litra w warunkach normalnych, to jaką objętość zajmują 3 mole tego gazu?', 'reasoning': 'Objętość 3 moli gazu: 3 mole × 22,4 l/mol = 67,2 l.', 'answer': '67,2 l'}) (input_keys={'problem'})]"
      ]
     },
     "execution_count": 41,
     "metadata": {},
     "output_type": "execute_result"
    }
   ],
   "source": [
    "# Wybrane przykłady few-shot\n",
    "optimized_solver_demos.predictors()[0].demos"
   ]
  },
  {
   "cell_type": "code",
   "execution_count": 42,
   "id": "4d31b1b0",
   "metadata": {},
   "outputs": [
    {
     "name": "stdout",
     "output_type": "stream",
     "text": [
      "\n",
      "\n",
      "\n",
      "\n",
      "\u001b[34m[2025-05-01T20:27:31.225834]\u001b[0m\n",
      "\n",
      "\u001b[31mSystem message:\u001b[0m\n",
      "\n",
      "Your input fields are:\n",
      "1. `problem` (str): Problem obliczeniowy do rozwiązania\n",
      "Your output fields are:\n",
      "1. `reasoning` (str): Szczegółowe rozumowanie krok po kroku\n",
      "2. `answer` (str): Końcowa odpowiedź na problem. Format to liczba z jednostką (w przypadku jednostek odmienialnych musi być podana w formie poprawnej gramatycznie, np. '2 kg jabłek', '5%' lub '8 zł').\n",
      "All interactions will be structured in the following way, with the appropriate values filled in.\n",
      "\n",
      "[[ ## problem ## ]]\n",
      "{problem}\n",
      "\n",
      "[[ ## reasoning ## ]]\n",
      "{reasoning}\n",
      "\n",
      "[[ ## answer ## ]]\n",
      "{answer}\n",
      "\n",
      "[[ ## completed ## ]]\n",
      "In adhering to this structure, your objective is: \n",
      "        Rozwiązuj problemy matematyczne krok po kroku.\n",
      "\n",
      "\n",
      "\u001b[31mUser message:\u001b[0m\n",
      "\n",
      "[[ ## problem ## ]]\n",
      "Bilet do kina kosztuje 22 zł dla osoby dorosłej i 14 zł dla dziecka. Ile zapłaci rodzina składająca się z 2 dorosłych i 3 dzieci?\n",
      "\n",
      "\n",
      "\u001b[31mAssistant message:\u001b[0m\n",
      "\n",
      "[[ ## reasoning ## ]]\n",
      "Koszt biletów dla 2 dorosłych: 2 × 22 zł = 44 zł. Koszt biletów dla 3 dzieci: 3 × 14 zł = 42 zł. Łączny koszt to 44 zł + 42 zł = 86 zł.\n",
      "\n",
      "[[ ## answer ## ]]\n",
      "86 zł\n",
      "\n",
      "\n",
      "\u001b[31mUser message:\u001b[0m\n",
      "\n",
      "[[ ## problem ## ]]\n",
      "W zbiorniku o pojemności 50 litrów jest 30 litrów wody. Dolewamy jeszcze 15 litrów. Jaki procent zbiornika jest pełny?\n",
      "\n",
      "\n",
      "\u001b[31mAssistant message:\u001b[0m\n",
      "\n",
      "[[ ## reasoning ## ]]\n",
      "Łączna ilość wody po dolaniu to 30 litrów + 15 litrów = 45 litrów. Procent zapełnienia zbiornika to (45/50) × 100% = 90%.\n",
      "\n",
      "[[ ## answer ## ]]\n",
      "90%\n",
      "\n",
      "\n",
      "\u001b[31mUser message:\u001b[0m\n",
      "\n",
      "[[ ## problem ## ]]\n",
      "Jeśli 1 metr sześcienny wody waży 1000 kg, ile waży 5 litrów wody?\n",
      "\n",
      "\n",
      "\u001b[31mAssistant message:\u001b[0m\n",
      "\n",
      "[[ ## reasoning ## ]]\n",
      "1 metr sześcienny to 1000 litrów i waży 1000 kg. Zatem 1 litr waży 1 kg. 5 litrów waży 5 × 1 kg = 5 kg.\n",
      "\n",
      "[[ ## answer ## ]]\n",
      "5 kg\n",
      "\n",
      "\n",
      "\u001b[31mUser message:\u001b[0m\n",
      "\n",
      "[[ ## problem ## ]]\n",
      "Jeśli 1 mol gazu zajmuje objętość 22,4 litra w warunkach normalnych, to jaką objętość zajmują 3 mole tego gazu?\n",
      "\n",
      "\n",
      "\u001b[31mAssistant message:\u001b[0m\n",
      "\n",
      "[[ ## reasoning ## ]]\n",
      "Objętość 3 moli gazu: 3 mole × 22,4 l/mol = 67,2 l.\n",
      "\n",
      "[[ ## answer ## ]]\n",
      "67,2 l\n",
      "\n",
      "\n",
      "\u001b[31mUser message:\u001b[0m\n",
      "\n",
      "[[ ## problem ## ]]\n",
      "W sklepie internetowym koszulka kosztuje 79 zł, a dostawa 12 zł. Jeśli kupimy 3 koszulki, to ile zapłacimy łącznie z dostawą?\n",
      "\n",
      "Respond with the corresponding output fields, starting with the field `[[ ## reasoning ## ]]`, then `[[ ## answer ## ]]`, and then ending with the marker for `[[ ## completed ## ]]`.\n",
      "\n",
      "\n",
      "\u001b[31mResponse:\u001b[0m\n",
      "\n",
      "\u001b[32m[[ ## reasoning ## ]]\n",
      "Cena za 3 koszulki: 3 × 79 zł = 237 zł. Koszt dostawy wynosi 12 zł. Całkowity koszt to 237 zł + 12 zł = 249 zł.\n",
      "\n",
      "[[ ## answer ## ]]\n",
      "249 zł\n",
      "\n",
      "[[ ## completed ## ]]\u001b[0m\n",
      "\n",
      "\n",
      "\n",
      "\n",
      "\n"
     ]
    }
   ],
   "source": [
    "# wyświetlmy przykładowy prompt\n",
    "dspy.inspect_history(n=1)"
   ]
  },
  {
   "cell_type": "markdown",
   "id": "96b09f4b",
   "metadata": {},
   "source": [
    "... i optymalizacja zarówno instrukcji, jak i przykładów few-shot"
   ]
  },
  {
   "cell_type": "code",
   "execution_count": 49,
   "id": "585a6056",
   "metadata": {},
   "outputs": [
    {
     "name": "stderr",
     "output_type": "stream",
     "text": [
      "2025/05/01 20:43:27 INFO dspy.teleprompt.mipro_optimizer_v2: \n",
      "RUNNING WITH THE FOLLOWING HEAVY AUTO RUN SETTINGS:\n",
      "num_trials: 50\n",
      "minibatch: False\n",
      "num_candidates: 38\n",
      "valset size: 32\n",
      "\n",
      "2025/05/01 20:43:28 INFO dspy.teleprompt.mipro_optimizer_v2: \n",
      "==> STEP 1: BOOTSTRAP FEWSHOT EXAMPLES <==\n",
      "2025/05/01 20:43:28 INFO dspy.teleprompt.mipro_optimizer_v2: These will be used as few-shot example candidates for our program and for creating instructions.\n",
      "\n",
      "2025/05/01 20:43:28 INFO dspy.teleprompt.mipro_optimizer_v2: Bootstrapping N=38 sets of demonstrations...\n"
     ]
    },
    {
     "name": "stdout",
     "output_type": "stream",
     "text": [
      "Bootstrapping set 1/38\n",
      "Bootstrapping set 2/38\n",
      "Bootstrapping set 3/38\n"
     ]
    },
    {
     "name": "stderr",
     "output_type": "stream",
     "text": [
      " 62%|██████▎   | 5/8 [00:00<00:00, 370.21it/s]\n"
     ]
    },
    {
     "name": "stdout",
     "output_type": "stream",
     "text": [
      "Bootstrapped 4 full traces after 5 examples for up to 1 rounds, amounting to 5 attempts.\n",
      "Bootstrapping set 4/38\n"
     ]
    },
    {
     "name": "stderr",
     "output_type": "stream",
     "text": [
      " 25%|██▌       | 2/8 [00:00<00:00, 364.75it/s]\n"
     ]
    },
    {
     "name": "stdout",
     "output_type": "stream",
     "text": [
      "Bootstrapped 2 full traces after 2 examples for up to 1 rounds, amounting to 2 attempts.\n",
      "Bootstrapping set 5/38\n"
     ]
    },
    {
     "name": "stderr",
     "output_type": "stream",
     "text": [
      " 62%|██████▎   | 5/8 [00:00<00:00, 1187.58it/s]\n"
     ]
    },
    {
     "name": "stdout",
     "output_type": "stream",
     "text": [
      "Bootstrapped 4 full traces after 5 examples for up to 1 rounds, amounting to 5 attempts.\n",
      "Bootstrapping set 6/38\n"
     ]
    },
    {
     "name": "stderr",
     "output_type": "stream",
     "text": [
      " 12%|█▎        | 1/8 [00:00<00:00, 908.84it/s]\n"
     ]
    },
    {
     "name": "stdout",
     "output_type": "stream",
     "text": [
      "Bootstrapped 1 full traces after 1 examples for up to 1 rounds, amounting to 1 attempts.\n",
      "Bootstrapping set 7/38\n"
     ]
    },
    {
     "name": "stderr",
     "output_type": "stream",
     "text": [
      " 12%|█▎        | 1/8 [00:00<00:00, 436.27it/s]\n"
     ]
    },
    {
     "name": "stdout",
     "output_type": "stream",
     "text": [
      "Bootstrapped 1 full traces after 1 examples for up to 1 rounds, amounting to 1 attempts.\n",
      "Bootstrapping set 8/38\n"
     ]
    },
    {
     "name": "stderr",
     "output_type": "stream",
     "text": [
      " 38%|███▊      | 3/8 [00:00<00:00, 505.78it/s]\n"
     ]
    },
    {
     "name": "stdout",
     "output_type": "stream",
     "text": [
      "Bootstrapped 2 full traces after 3 examples for up to 1 rounds, amounting to 3 attempts.\n",
      "Bootstrapping set 9/38\n"
     ]
    },
    {
     "name": "stderr",
     "output_type": "stream",
     "text": [
      " 25%|██▌       | 2/8 [00:00<00:00, 1380.39it/s]\n"
     ]
    },
    {
     "name": "stdout",
     "output_type": "stream",
     "text": [
      "Bootstrapped 2 full traces after 2 examples for up to 1 rounds, amounting to 2 attempts.\n",
      "Bootstrapping set 10/38\n"
     ]
    },
    {
     "name": "stderr",
     "output_type": "stream",
     "text": [
      " 12%|█▎        | 1/8 [00:00<00:00, 668.52it/s]\n"
     ]
    },
    {
     "name": "stdout",
     "output_type": "stream",
     "text": [
      "Bootstrapped 1 full traces after 1 examples for up to 1 rounds, amounting to 1 attempts.\n",
      "Bootstrapping set 11/38\n"
     ]
    },
    {
     "name": "stderr",
     "output_type": "stream",
     "text": [
      " 38%|███▊      | 3/8 [00:00<00:00, 1112.65it/s]\n"
     ]
    },
    {
     "name": "stdout",
     "output_type": "stream",
     "text": [
      "Bootstrapped 3 full traces after 3 examples for up to 1 rounds, amounting to 3 attempts.\n",
      "Bootstrapping set 12/38\n"
     ]
    },
    {
     "name": "stderr",
     "output_type": "stream",
     "text": [
      " 62%|██████▎   | 5/8 [00:00<00:00, 1575.15it/s]\n"
     ]
    },
    {
     "name": "stdout",
     "output_type": "stream",
     "text": [
      "Bootstrapped 4 full traces after 5 examples for up to 1 rounds, amounting to 5 attempts.\n",
      "Bootstrapping set 13/38\n"
     ]
    },
    {
     "name": "stderr",
     "output_type": "stream",
     "text": [
      " 12%|█▎        | 1/8 [00:00<00:00, 1003.42it/s]\n"
     ]
    },
    {
     "name": "stdout",
     "output_type": "stream",
     "text": [
      "Bootstrapped 1 full traces after 1 examples for up to 1 rounds, amounting to 1 attempts.\n",
      "Bootstrapping set 14/38\n"
     ]
    },
    {
     "name": "stderr",
     "output_type": "stream",
     "text": [
      " 12%|█▎        | 1/8 [00:00<00:00, 1237.26it/s]\n"
     ]
    },
    {
     "name": "stdout",
     "output_type": "stream",
     "text": [
      "Bootstrapped 1 full traces after 1 examples for up to 1 rounds, amounting to 1 attempts.\n",
      "Bootstrapping set 15/38\n"
     ]
    },
    {
     "name": "stderr",
     "output_type": "stream",
     "text": [
      " 62%|██████▎   | 5/8 [00:00<00:00, 1666.13it/s]\n"
     ]
    },
    {
     "name": "stdout",
     "output_type": "stream",
     "text": [
      "Bootstrapped 4 full traces after 5 examples for up to 1 rounds, amounting to 5 attempts.\n",
      "Bootstrapping set 16/38\n"
     ]
    },
    {
     "name": "stderr",
     "output_type": "stream",
     "text": [
      " 12%|█▎        | 1/8 [00:00<00:00, 1093.69it/s]\n"
     ]
    },
    {
     "name": "stdout",
     "output_type": "stream",
     "text": [
      "Bootstrapped 1 full traces after 1 examples for up to 1 rounds, amounting to 1 attempts.\n",
      "Bootstrapping set 17/38\n"
     ]
    },
    {
     "name": "stderr",
     "output_type": "stream",
     "text": [
      " 38%|███▊      | 3/8 [00:00<00:00, 1203.19it/s]\n"
     ]
    },
    {
     "name": "stdout",
     "output_type": "stream",
     "text": [
      "Bootstrapped 2 full traces after 3 examples for up to 1 rounds, amounting to 3 attempts.\n",
      "Bootstrapping set 18/38\n"
     ]
    },
    {
     "name": "stderr",
     "output_type": "stream",
     "text": [
      " 38%|███▊      | 3/8 [00:00<00:00, 1336.19it/s]\n"
     ]
    },
    {
     "name": "stdout",
     "output_type": "stream",
     "text": [
      "Bootstrapped 2 full traces after 3 examples for up to 1 rounds, amounting to 3 attempts.\n",
      "Bootstrapping set 19/38\n"
     ]
    },
    {
     "name": "stderr",
     "output_type": "stream",
     "text": [
      " 12%|█▎        | 1/8 [00:00<00:00, 948.08it/s]\n"
     ]
    },
    {
     "name": "stdout",
     "output_type": "stream",
     "text": [
      "Bootstrapped 1 full traces after 1 examples for up to 1 rounds, amounting to 1 attempts.\n",
      "Bootstrapping set 20/38\n"
     ]
    },
    {
     "name": "stderr",
     "output_type": "stream",
     "text": [
      " 38%|███▊      | 3/8 [00:10<00:17,  3.43s/it]\n"
     ]
    },
    {
     "name": "stdout",
     "output_type": "stream",
     "text": [
      "Bootstrapped 3 full traces after 3 examples for up to 1 rounds, amounting to 3 attempts.\n",
      "Bootstrapping set 21/38\n"
     ]
    },
    {
     "name": "stderr",
     "output_type": "stream",
     "text": [
      " 25%|██▌       | 2/8 [00:10<00:32,  5.35s/it]\n"
     ]
    },
    {
     "name": "stdout",
     "output_type": "stream",
     "text": [
      "Bootstrapped 2 full traces after 2 examples for up to 1 rounds, amounting to 2 attempts.\n",
      "Bootstrapping set 22/38\n"
     ]
    },
    {
     "name": "stderr",
     "output_type": "stream",
     "text": [
      " 12%|█▎        | 1/8 [00:05<00:41,  5.97s/it]\n"
     ]
    },
    {
     "name": "stdout",
     "output_type": "stream",
     "text": [
      "Bootstrapped 1 full traces after 1 examples for up to 1 rounds, amounting to 1 attempts.\n",
      "Bootstrapping set 23/38\n"
     ]
    },
    {
     "name": "stderr",
     "output_type": "stream",
     "text": [
      " 12%|█▎        | 1/8 [00:02<00:18,  2.69s/it]\n"
     ]
    },
    {
     "name": "stdout",
     "output_type": "stream",
     "text": [
      "Bootstrapped 1 full traces after 1 examples for up to 1 rounds, amounting to 1 attempts.\n",
      "Bootstrapping set 24/38\n"
     ]
    },
    {
     "name": "stderr",
     "output_type": "stream",
     "text": [
      " 50%|█████     | 4/8 [00:09<00:09,  2.39s/it]\n"
     ]
    },
    {
     "name": "stdout",
     "output_type": "stream",
     "text": [
      "Bootstrapped 4 full traces after 4 examples for up to 1 rounds, amounting to 4 attempts.\n",
      "Bootstrapping set 25/38\n"
     ]
    },
    {
     "name": "stderr",
     "output_type": "stream",
     "text": [
      " 25%|██▌       | 2/8 [00:05<00:16,  2.81s/it]\n"
     ]
    },
    {
     "name": "stdout",
     "output_type": "stream",
     "text": [
      "Bootstrapped 1 full traces after 2 examples for up to 1 rounds, amounting to 2 attempts.\n",
      "Bootstrapping set 26/38\n"
     ]
    },
    {
     "name": "stderr",
     "output_type": "stream",
     "text": [
      " 62%|██████▎   | 5/8 [00:13<00:07,  2.66s/it]\n"
     ]
    },
    {
     "name": "stdout",
     "output_type": "stream",
     "text": [
      "Bootstrapped 4 full traces after 5 examples for up to 1 rounds, amounting to 5 attempts.\n",
      "Bootstrapping set 27/38\n"
     ]
    },
    {
     "name": "stderr",
     "output_type": "stream",
     "text": [
      " 50%|█████     | 4/8 [00:11<00:11,  2.76s/it]\n"
     ]
    },
    {
     "name": "stdout",
     "output_type": "stream",
     "text": [
      "Bootstrapped 4 full traces after 4 examples for up to 1 rounds, amounting to 4 attempts.\n",
      "Bootstrapping set 28/38\n"
     ]
    },
    {
     "name": "stderr",
     "output_type": "stream",
     "text": [
      " 12%|█▎        | 1/8 [00:03<00:23,  3.29s/it]\n"
     ]
    },
    {
     "name": "stdout",
     "output_type": "stream",
     "text": [
      "Bootstrapped 1 full traces after 1 examples for up to 1 rounds, amounting to 1 attempts.\n",
      "Bootstrapping set 29/38\n"
     ]
    },
    {
     "name": "stderr",
     "output_type": "stream",
     "text": [
      " 12%|█▎        | 1/8 [00:01<00:10,  1.57s/it]\n"
     ]
    },
    {
     "name": "stdout",
     "output_type": "stream",
     "text": [
      "Bootstrapped 1 full traces after 1 examples for up to 1 rounds, amounting to 1 attempts.\n",
      "Bootstrapping set 30/38\n"
     ]
    },
    {
     "name": "stderr",
     "output_type": "stream",
     "text": [
      " 62%|██████▎   | 5/8 [00:12<00:07,  2.55s/it]\n"
     ]
    },
    {
     "name": "stdout",
     "output_type": "stream",
     "text": [
      "Bootstrapped 4 full traces after 5 examples for up to 1 rounds, amounting to 5 attempts.\n",
      "Bootstrapping set 31/38\n"
     ]
    },
    {
     "name": "stderr",
     "output_type": "stream",
     "text": [
      " 62%|██████▎   | 5/8 [00:10<00:06,  2.19s/it]\n"
     ]
    },
    {
     "name": "stdout",
     "output_type": "stream",
     "text": [
      "Bootstrapped 4 full traces after 5 examples for up to 1 rounds, amounting to 5 attempts.\n",
      "Bootstrapping set 32/38\n"
     ]
    },
    {
     "name": "stderr",
     "output_type": "stream",
     "text": [
      " 38%|███▊      | 3/8 [00:05<00:09,  1.95s/it]\n"
     ]
    },
    {
     "name": "stdout",
     "output_type": "stream",
     "text": [
      "Bootstrapped 3 full traces after 3 examples for up to 1 rounds, amounting to 3 attempts.\n",
      "Bootstrapping set 33/38\n"
     ]
    },
    {
     "name": "stderr",
     "output_type": "stream",
     "text": [
      " 12%|█▎        | 1/8 [00:10<01:11, 10.25s/it]\n"
     ]
    },
    {
     "name": "stdout",
     "output_type": "stream",
     "text": [
      "Bootstrapped 1 full traces after 1 examples for up to 1 rounds, amounting to 1 attempts.\n",
      "Bootstrapping set 34/38\n"
     ]
    },
    {
     "name": "stderr",
     "output_type": "stream",
     "text": [
      " 75%|███████▌  | 6/8 [00:17<00:05,  2.95s/it]\n"
     ]
    },
    {
     "name": "stdout",
     "output_type": "stream",
     "text": [
      "Bootstrapped 4 full traces after 6 examples for up to 1 rounds, amounting to 6 attempts.\n",
      "Bootstrapping set 35/38\n"
     ]
    },
    {
     "name": "stderr",
     "output_type": "stream",
     "text": [
      " 25%|██▌       | 2/8 [00:03<00:09,  1.64s/it]\n"
     ]
    },
    {
     "name": "stdout",
     "output_type": "stream",
     "text": [
      "Bootstrapped 2 full traces after 2 examples for up to 1 rounds, amounting to 2 attempts.\n",
      "Bootstrapping set 36/38\n"
     ]
    },
    {
     "name": "stderr",
     "output_type": "stream",
     "text": [
      " 12%|█▎        | 1/8 [00:01<00:13,  1.86s/it]\n"
     ]
    },
    {
     "name": "stdout",
     "output_type": "stream",
     "text": [
      "Bootstrapped 1 full traces after 1 examples for up to 1 rounds, amounting to 1 attempts.\n",
      "Bootstrapping set 37/38\n"
     ]
    },
    {
     "name": "stderr",
     "output_type": "stream",
     "text": [
      " 50%|█████     | 4/8 [00:13<00:13,  3.48s/it]\n"
     ]
    },
    {
     "name": "stdout",
     "output_type": "stream",
     "text": [
      "Bootstrapped 3 full traces after 4 examples for up to 1 rounds, amounting to 4 attempts.\n",
      "Bootstrapping set 38/38\n"
     ]
    },
    {
     "name": "stderr",
     "output_type": "stream",
     "text": [
      " 50%|█████     | 4/8 [00:06<00:06,  1.72s/it]\n",
      "2025/05/01 20:46:06 INFO dspy.teleprompt.mipro_optimizer_v2: \n",
      "==> STEP 2: PROPOSE INSTRUCTION CANDIDATES <==\n",
      "2025/05/01 20:46:06 INFO dspy.teleprompt.mipro_optimizer_v2: We will use the few-shot examples from the previous step, a generated dataset summary, a summary of the program code, and a randomly selected prompting tip to propose instructions.\n",
      "2025/05/01 20:46:06 INFO dspy.teleprompt.mipro_optimizer_v2: \n",
      "Proposing instructions...\n",
      "\n"
     ]
    },
    {
     "name": "stdout",
     "output_type": "stream",
     "text": [
      "Bootstrapped 3 full traces after 4 examples for up to 1 rounds, amounting to 4 attempts.\n"
     ]
    },
    {
     "name": "stderr",
     "output_type": "stream",
     "text": [
      "2025/05/01 20:56:32 INFO dspy.teleprompt.mipro_optimizer_v2: Proposed Instructions for Predictor 0:\n",
      "\n",
      "2025/05/01 20:56:32 INFO dspy.teleprompt.mipro_optimizer_v2: 0: Rozwiązuj problemy matematyczne krok po kroku.\n",
      "\n",
      "2025/05/01 20:56:32 INFO dspy.teleprompt.mipro_optimizer_v2: 1: Przeczytaj uważnie podany problem matematyczny po polsku. Następnie rozwiąż go, przedstawiając szczegółowe rozumowanie krok po kroku, wyjaśniając każdy etap obliczeń i sposób dojścia do wyniku. Na końcu podaj ostateczną odpowiedź w poprawnej formie gramatycznej, uwzględniając odpowiednie jednostki (np. \"5 zł\", \"8 jabłek\", \"3 godziny\"). Upewnij się, że zarówno rozumowanie, jak i odpowiedź są jasne, kompletne i poprawne językowo.\n",
      "\n",
      "2025/05/01 20:56:32 INFO dspy.teleprompt.mipro_optimizer_v2: 2: Wyobraź sobie, że jesteś nauczycielem matematyki, który musi rozwiązać poniższy problem matematyczny na oczach całej klasy podczas ważnego egzaminu próbnego. Twoim zadaniem jest nie tylko podać poprawną odpowiedź, ale również szczegółowo wyjaśnić każdy krok rozwiązania, aby uczniowie zrozumieli tok rozumowania. Rozwiązuj problem krok po kroku, dbając o jasność i poprawność obliczeń, a końcową odpowiedź podaj w poprawnej formie gramatycznej z odpowiednimi jednostkami po polsku.\n",
      "\n",
      "2025/05/01 20:56:32 INFO dspy.teleprompt.mipro_optimizer_v2: 3: Wyobraź sobie, że jesteś nauczycielem matematyki oceniającym prace uczniów podczas ważnego egzaminu. Każdy błąd w obliczeniach może wpłynąć na ich przyszłość! Twoim zadaniem jest rozwiązać podany problem matematyczny po polsku, prezentując szczegółowe rozumowanie krok po kroku oraz podając końcową odpowiedź w odpowiednim formacie z poprawną jednostką. Upewnij się, że każdy etap jest jasno wyjaśniony, a wynik końcowy jest bezbłędny, bo od Twojej odpowiedzi zależy sukces ucznia.\n",
      "\n",
      "2025/05/01 20:56:32 INFO dspy.teleprompt.mipro_optimizer_v2: 4: Przeczytaj uważnie podany problem matematyczny w języku polskim. Rozwiąż go, przedstawiając szczegółowe, logiczne rozumowanie krok po kroku, wyjaśniając każdy etap obliczeń w sposób zrozumiały i uporządkowany. Na końcu podaj ostateczną odpowiedź w formie liczby z odpowiednią jednostką, zapisaną poprawnie gramatycznie po polsku (np. „5 zł”, „12 uczniów”, „8 kg ziemniaków”). Upewnij się, że zarówno rozumowanie, jak i odpowiedź są jasne, kompletne i zgodne z treścią zadania.\n",
      "\n",
      "2025/05/01 20:56:32 INFO dspy.teleprompt.mipro_optimizer_v2: 5: Przeczytaj poniższy problem matematyczny po polsku. Najpierw przedstaw szczegółowe, krok po kroku rozumowanie prowadzące do rozwiązania, wyjaśniając każdy etap obliczeń i logiki. Następnie podaj końcową odpowiedź jako liczbę z odpowiednią jednostką, dbając o poprawną gramatycznie formę w języku polskim.\n",
      "\n",
      "2025/05/01 20:56:32 INFO dspy.teleprompt.mipro_optimizer_v2: 6: Przeczytaj uważnie podany problem matematyczny w języku polskim. Następnie rozwiąż go, przedstawiając szczegółowe rozumowanie krok po kroku, jasno wyjaśniając każdy etap obliczeń i założeń. Na końcu podaj ostateczną odpowiedź w formie liczby z odpowiednią jednostką (jeśli dotyczy), dbając o poprawność gramatyczną i zgodność z treścią zadania. Oddziel część z rozumowaniem od końcowej odpowiedzi.\n",
      "\n",
      "2025/05/01 20:56:32 INFO dspy.teleprompt.mipro_optimizer_v2: 7: Wyobraź sobie, że jesteś nauczycielem matematyki, który musi wyjaśnić uczniom rozwiązanie każdego zadania tak jasno, aby mogli samodzielnie zrozumieć i powtórzyć tok rozumowania. Postępuj krok po kroku, zapisując każdy etap obliczeń oraz logiczne uzasadnienia, a na końcu podaj ostateczną odpowiedź w poprawnej formie gramatycznej z odpowiednią jednostką. Twoja odpowiedź będzie oceniana przez komisję egzaminacyjną – dokładność i przejrzystość są kluczowe!\n",
      "\n",
      "2025/05/01 20:56:32 INFO dspy.teleprompt.mipro_optimizer_v2: 8: Przeczytaj uważnie poniższy problem matematyczny sformułowany po polsku. Następnie rozwiąż go, zapisując szczegółowe rozumowanie krok po kroku w naturalnym języku, pokazując każdy etap obliczeń w sposób jasny i zrozumiały. Na końcu podaj ostateczną odpowiedź jako liczbę wraz z poprawnie odmienioną i dopasowaną do kontekstu jednostką (np. „5 uczniów”, „8 zł”, „3 czerwone jabłka”), zgodnie z zasadami gramatyki języka polskiego. Dbaj zarówno o przejrzystość wyjaśnienia, jak i poprawność językową odpowiedzi końcowej.\n",
      "\n",
      "2025/05/01 20:56:32 INFO dspy.teleprompt.mipro_optimizer_v2: 9: Przeczytaj podany po polsku problem matematyczny osadzony w codziennej sytuacji. Następnie rozwiąż go, prezentując szczegółowe rozumowanie krok po kroku – wyjaśnij każdy etap obliczeń w sposób jasny i logiczny, tak aby czytelnik mógł zrozumieć przebieg rozwiązania. Na końcu podaj ostateczną odpowiedź jako liczbę wraz z odpowiednią jednostką lub opisem, dbając o poprawną formę gramatyczną w języku polskim (np. „5 jabłek”, „80 km/h”, „10 dzieci”). Unikaj pomijania kroków i upewnij się, że zarówno rozumowanie, jak i odpowiedź są kompletne oraz zgodne z treścią zadania.\n",
      "\n",
      "2025/05/01 20:56:32 INFO dspy.teleprompt.mipro_optimizer_v2: 10: Przeczytaj poniższy tekstowy problem matematyczny po polsku. Następnie rozwiąż go, prezentując szczegółowe rozumowanie krok po kroku w polu \"Reasoning\", a w polu \"Answer\" podaj ostateczną odpowiedź w poprawnej formie gramatycznej i z odpowiednimi jednostkami (jeśli są wymagane). Upewnij się, że wyjaśnienia są jasne, a odpowiedź precyzyjna i zgodna z kontekstem zadania.\n",
      "\n",
      "2025/05/01 20:56:32 INFO dspy.teleprompt.mipro_optimizer_v2: 11: Wyobraź sobie, że jesteś nauczycielem matematyki podczas ważnego egzaminu i od twojej poprawnej, szczegółowej odpowiedzi zależy wynik ucznia. Rozwiązuj każdy przedstawiony problem matematyczny krok po kroku, jasno wyjaśniając każdy etap rozumowania, a na końcu podaj ostateczną odpowiedź w poprawnej formie liczbowej i gramatycznej po polsku, z odpowiednią jednostką.\n",
      "\n",
      "2025/05/01 20:56:32 INFO dspy.teleprompt.mipro_optimizer_v2: 12: Przeczytaj uważnie poniższy problem matematyczny po polsku. Rozwiąż go, przedstawiając szczegółowe, logiczne rozumowanie krok po kroku. Na końcu podaj ostateczną odpowiedź jako liczbę wraz z odpowiednią jednostką w poprawnej formie gramatycznej (np. „5 zł”, „3 kilogramy jabłek”, „8%”). Dbaj o przejrzystość wywodu i poprawność językową zarówno w uzasadnieniu, jak i odpowiedzi.\n",
      "\n",
      "2025/05/01 20:56:32 INFO dspy.teleprompt.mipro_optimizer_v2: 13: Jesteś doświadczonym nauczycielem matematyki pomagającym uczniom zrozumieć codzienne zadania rachunkowe po polsku. Dla każdego podanego problemu matematycznego rozwiąż go krok po kroku, wyjaśniając swoje rozumowanie w szczegółowy i logiczny sposób. Następnie podaj końcową odpowiedź jako liczbę z odpowiednią jednostką, dbając o poprawność gramatyczną w języku polskim.\n",
      "\n",
      "2025/05/01 20:56:32 INFO dspy.teleprompt.mipro_optimizer_v2: 14: Jesteś doświadczonym nauczycielem matematyki w polskiej szkole podstawowej. Czytaj uważnie każdy przedstawiony problem matematyczny po polsku i rozwiąż go krok po kroku, wyjaśniając szczegółowo swoje rozumowanie. Na końcu podaj ostateczną odpowiedź w formacie liczbowym z poprawną jednostką i w odpowiedniej formie gramatycznej po polsku.\n",
      "\n",
      "2025/05/01 20:56:32 INFO dspy.teleprompt.mipro_optimizer_v2: 15: Przeczytaj uważnie podany problem matematyczny w języku polskim. Rozwiąż go, prezentując szczegółowe rozumowanie krok po kroku, pokazując każdy etap obliczeń i wyjaśniając swoje myślenie. Na końcu podaj jednoznaczną odpowiedź w formie liczby z odpowiednią jednostką, stosując poprawną gramatykę języka polskiego (np. „5 zł”, „8 jabłek”, „12%”). Upewnij się, że zarówno rozumowanie, jak i odpowiedź są jasne, logiczne i w pełni zgodne z treścią zadania.\n",
      "\n",
      "2025/05/01 20:56:32 INFO dspy.teleprompt.mipro_optimizer_v2: 16: Wyobraź sobie, że jesteś nauczycielem matematyki przygotowującym rozwiązania dla uczniów na ważny egzamin. Musisz rozwiązać podany problem matematyczny krok po kroku, wyjaśniając każdy etap rozumowania w sposób jasny i zrozumiały. Na końcu podaj ostateczną odpowiedź z poprawną jednostką oraz w prawidłowej formie gramatycznej po polsku, tak aby uczniowie mogli się na niej wzorować podczas nauki.\n",
      "\n",
      "2025/05/01 20:56:32 INFO dspy.teleprompt.mipro_optimizer_v2: 17: Jesteś nauczycielem matematyki pomagającym uczniom zrozumieć proste zadania tekstowe po polsku. Przeczytaj uważnie podany problem matematyczny, rozwiąż go krok po kroku, wyjaśniając każdy etap rozumowania, a następnie podaj ostateczną odpowiedź w poprawnej formie liczbowej i gramatycznej (z odpowiednimi jednostkami po polsku).\n",
      "\n",
      "2025/05/01 20:56:32 INFO dspy.teleprompt.mipro_optimizer_v2: 18: Przeczytaj uważnie podany problem matematyczny i rozwiąż go, przedstawiając szczegółowe, logiczne rozumowanie krok po kroku. Na końcu podaj ostateczną odpowiedź zapisaną jako liczba wraz z odpowiednią jednostką w poprawnej formie gramatycznej po polsku. Upewnij się, że każde działanie jest jasno opisane, a odpowiedź jest zgodna z treścią zadania.\n",
      "\n",
      "2025/05/01 20:56:32 INFO dspy.teleprompt.mipro_optimizer_v2: 19: Przeczytaj podany problem matematyczny po polsku, a następnie przedstaw szczegółowe rozumowanie krok po kroku prowadzące do rozwiązania. Na końcu podaj ostateczną odpowiedź w poprawnej formie liczbowej i gramatycznej, z odpowiednią jednostką (np. „10 dzieci”, „40 gałęzi”, „5 kg jabłek”).\n",
      "\n",
      "2025/05/01 20:56:32 INFO dspy.teleprompt.mipro_optimizer_v2: 20: Jesteś nauczycielem matematyki, który pomaga uczniom zrozumieć proste zadania tekstowe. Rozwiązuj podany problem matematyczny po polsku, przedstawiając szczegółowe rozumowanie krok po kroku, a następnie podaj końcową odpowiedź jako liczbę z poprawnie odmienioną jednostką (np. „7 czerwonych jabłek”, „80 km/h”). Dbaj o jasność wyjaśnień i poprawność gramatyczną odpowiedzi.\n",
      "\n",
      "2025/05/01 20:56:32 INFO dspy.teleprompt.mipro_optimizer_v2: 21: Przeczytaj uważnie podany problem matematyczny sformułowany po polsku. Rozwiąż go, przedstawiając szczegółowe rozumowanie krok po kroku, wyjaśniając każdy etap rozwiązania w sposób jasny i logiczny. Na końcu podaj jednoznaczną odpowiedź w odpowiednim formacie: liczba wraz z poprawnie odmienioną jednostką lub nazwą przedmiotu (np. \"5 kg ziemniaków\", \"8 zł\", \"20%\"), zgodnie z zasadami gramatyki języka polskiego. Upewnij się, że zarówno rozumowanie, jak i odpowiedź są kompletne oraz zrozumiałe dla ucznia szkoły podstawowej.\n",
      "\n",
      "2025/05/01 20:56:32 INFO dspy.teleprompt.mipro_optimizer_v2: 22: Jesteś doświadczonym nauczycielem matematyki. Otrzymasz zadanie tekstowe po polsku. Rozwiąż je, przedstawiając szczegółowe rozumowanie krok po kroku, a następnie podaj końcową odpowiedź w formacie: liczba z poprawnie odmienioną jednostką po polsku.\n",
      "\n",
      "2025/05/01 20:56:32 INFO dspy.teleprompt.mipro_optimizer_v2: 23: Wyobraź sobie, że jesteś nauczycielem matematyki, który musi pomóc uczniowi przygotować się do ważnego egzaminu. Twoim zadaniem jest rozwiązać podany problem matematyczny krok po kroku, wyjaśniając każdy etap rozumowania w sposób jasny i zrozumiały po polsku. Na końcu podaj ostateczną odpowiedź, pamiętając o poprawnej gramatycznie formie liczby i jednostki. Upewnij się, że uczeń dzięki Twojemu rozwiązaniu zrozumie, jak dojść do poprawnego wyniku.\n",
      "\n",
      "2025/05/01 20:56:32 INFO dspy.teleprompt.mipro_optimizer_v2: 24: Przeczytaj uważnie przedstawiony problem matematyczny w języku polskim. Następnie rozwiąż go, przedstawiając szczegółowe rozumowanie krok po kroku – wyjaśnij każdy etap obliczeń i logiczne przesłanki prowadzące do wyniku. Na końcu podaj jednoznaczną odpowiedź, zapisaną jako liczba z odpowiednią jednostką w poprawnej formie gramatycznej (np. „5 kg jabłek”, „20%”, „86 zł”). Dbaj o przejrzystość, poprawność rachunków i jasność prezentacji rozwiązania.\n",
      "\n",
      "2025/05/01 20:56:32 INFO dspy.teleprompt.mipro_optimizer_v2: 25: Rozwiąż podany problem matematyczny, przedstawiając szczegółowe rozumowanie krok po kroku, a następnie podaj ostateczną odpowiedź z poprawnie sformułowaną jednostką i zgodną z polską gramatyką.\n",
      "\n",
      "2025/05/01 20:56:32 INFO dspy.teleprompt.mipro_optimizer_v2: 26: Przeczytaj uważnie poniższy problem matematyczny i rozwiąż go, prezentując każdy krok swojego rozumowania w sposób jasny i szczegółowy. Na końcu podaj ostateczną odpowiedź, stosując poprawne jednostki oraz właściwą formę gramatyczną w języku polskim.\n",
      "\n",
      "2025/05/01 20:56:32 INFO dspy.teleprompt.mipro_optimizer_v2: 27: Przeczytaj podany problem matematyczny w języku polskim. Rozwiąż go, przedstawiając szczegółowe rozumowanie krok po kroku, pokazując wszystkie obliczenia lub etapy logiczne prowadzące do rozwiązania. Na końcu podaj ostateczną odpowiedź w formacie liczby wraz z poprawnie odmienioną jednostką (np. „8 zł”, „3 dzieci”, „5 kg jabłek”). Oddziel dokładne rozumowanie od końcowej odpowiedzi.\n",
      "\n",
      "2025/05/01 20:56:32 INFO dspy.teleprompt.mipro_optimizer_v2: 28: Przeczytaj uważnie podany problem matematyczny, a następnie rozwiąż go, przedstawiając szczegółowe rozumowanie krok po kroku. Na końcu podaj ostateczną odpowiedź w postaci liczby z odpowiednią jednostką, zachowując poprawną formę gramatyczną po polsku.\n",
      "\n",
      "2025/05/01 20:56:32 INFO dspy.teleprompt.mipro_optimizer_v2: 29: Przeczytaj uważnie poniższy problem matematyczny. Rozwiąż go, przedstawiając każdy etap swojego rozumowania w jasny i uporządkowany sposób. Na końcu podaj ostateczną odpowiedź, zapisując ją jako liczbę wraz z odpowiednią jednostką lub formą gramatyczną, zgodnie z treścią zadania.\n",
      "\n",
      "2025/05/01 20:56:32 INFO dspy.teleprompt.mipro_optimizer_v2: 30: Jesteś nauczycielem matematyki w polskiej szkole podstawowej. Otrzymujesz krótkie zadania tekstowe z codziennego życia. Twoim zadaniem jest rozwiązać każde zadanie krok po kroku, jasno wyjaśniając swoje rozumowanie, a następnie podać końcową odpowiedź w poprawnej gramatycznie formie z odpowiednią jednostką. Dbaj o przejrzystość wyjaśnień i poprawność językową odpowiedzi.\n",
      "\n",
      "2025/05/01 20:56:32 INFO dspy.teleprompt.mipro_optimizer_v2: 31: Przeczytaj uważnie podany problem matematyczny w języku polskim. Następnie rozwiąż go, opisując szczegółowo każdy krok swojego rozumowania w jasny i logiczny sposób, aby wyjaśnić, jak dochodzisz do rozwiązania. Na końcu podaj ostateczną odpowiedź w odpowiedniej formie gramatycznej i z poprawną jednostką (jeśli dotyczy), oddzielając wyraźnie część z rozumowaniem od końcowej odpowiedzi. Dbaj o przejrzystość wywodu i poprawność językową zarówno w rozumowaniu, jak i odpowiedzi.\n",
      "\n",
      "2025/05/01 20:56:32 INFO dspy.teleprompt.mipro_optimizer_v2: 32: Przeczytaj podany problem matematyczny w języku polskim. Następnie szczegółowo opisz każdy etap rozumowania prowadzący do rozwiązania, wyjaśniając krok po kroku, jak dochodzisz do odpowiedzi. Na końcu podaj ostateczną odpowiedź jako liczbę wraz z poprawnie odmienioną jednostką (np. „5 jabłek”, „8 zł”, „10 dzieci”), zgodnie z zasadami gramatyki języka polskiego. Dbaj o to, aby rozwiązanie było jasne, logiczne i kompletne, a odpowiedź precyzyjna i zgodna z treścią zadania.\n",
      "\n",
      "2025/05/01 20:56:32 INFO dspy.teleprompt.mipro_optimizer_v2: 33: Wyobraź sobie, że jesteś nauczycielem matematyki podczas ważnego egzaminu, a Twoim zadaniem jest nie tylko udzielić poprawnej odpowiedzi, ale także wytłumaczyć uczniom każdy krok rozwiązania, aby mogli zrozumieć tok rozumowania. Otrzymujesz zadanie tekstowe z matematyki — rozwiąż je bardzo szczegółowo, prezentując rozumowanie krok po kroku, a na końcu podaj jednoznaczną odpowiedź z poprawnie odmienioną jednostką. Pamiętaj, że od Twojego wyjaśnienia zależy zrozumienie zadania przez uczniów i ich końcowy sukces na egzaminie!\n",
      "\n",
      "2025/05/01 20:56:32 INFO dspy.teleprompt.mipro_optimizer_v2: 34: Przeczytaj uważnie podany problem matematyczny po polsku. Wyjaśnij szczegółowo każdy etap rozumowania prowadzący do rozwiązania, wykonując wszystkie niezbędne obliczenia krok po kroku. Na końcu podaj jednoznaczną odpowiedź w formie liczby z poprawnie odmienioną jednostką (np. „5 jabłek”, „8 zł”, „3 gałęzie”). Dbaj o przejrzystość i poprawność językową całego rozwiązania.\n",
      "\n",
      "2025/05/01 20:56:32 INFO dspy.teleprompt.mipro_optimizer_v2: 35: Przeczytaj uważnie podany problem matematyczny i rozwiąż go, przedstawiając szczegółowe rozumowanie krok po kroku. Na końcu podaj ostateczną odpowiedź w poprawnej formie liczbowej wraz z odpowiednią jednostką i gramatyką po polsku.\n",
      "\n",
      "2025/05/01 20:56:32 INFO dspy.teleprompt.mipro_optimizer_v2: 36: Przeczytaj uważnie podany problem matematyczny, a następnie przedstaw szczegółowe rozumowanie krok po kroku prowadzące do rozwiązania. Na końcu podaj ostateczną odpowiedź jako liczbę z odpowiednią jednostką, zachowując poprawność gramatyczną w języku polskim.\n",
      "\n",
      "2025/05/01 20:56:32 INFO dspy.teleprompt.mipro_optimizer_v2: 37: Przeczytaj uważnie podany problem matematyczny w języku polskim. Rozwiąż go, przedstawiając szczegółowe rozumowanie krok po kroku, które jasno wyjaśnia każdy etap obliczeń i prowadzi do rozwiązania. Następnie podaj końcową odpowiedź jako liczbę z odpowiednią jednostką w poprawnej formie gramatycznej po polsku (np. „8 zł”, „2 kg jabłek”, „10 dzieci”). Upewnij się, że zarówno rozumowanie, jak i odpowiedź są precyzyjne, przejrzyste i poprawne językowo.\n",
      "\n",
      "2025/05/01 20:56:32 INFO dspy.teleprompt.mipro_optimizer_v2: \n",
      "\n",
      "2025/05/01 20:56:32 INFO dspy.teleprompt.mipro_optimizer_v2: ==> STEP 3: FINDING OPTIMAL PROMPT PARAMETERS <==\n",
      "2025/05/01 20:56:32 INFO dspy.teleprompt.mipro_optimizer_v2: We will evaluate the program over a series of trials with different combinations of instructions and few-shot examples to find the optimal combination using Bayesian Optimization.\n",
      "\n",
      "2025/05/01 20:56:32 INFO dspy.teleprompt.mipro_optimizer_v2: == Trial 1 / 50 - Full Evaluation of Default Program ==\n"
     ]
    },
    {
     "name": "stdout",
     "output_type": "stream",
     "text": [
      "Average Metric: 25.00 / 32 (78.1%): 100%|██████████| 32/32 [00:00<00:00, 2640.37it/s]"
     ]
    },
    {
     "name": "stderr",
     "output_type": "stream",
     "text": [
      "2025/05/01 20:56:32 INFO dspy.evaluate.evaluate: Average Metric: 25.0 / 32 (78.1%)\n",
      "2025/05/01 20:56:32 INFO dspy.teleprompt.mipro_optimizer_v2: Default program score: 78.12\n",
      "\n",
      "2025/05/01 20:56:32 INFO dspy.teleprompt.mipro_optimizer_v2: ===== Trial 2 / 50 =====\n"
     ]
    },
    {
     "name": "stdout",
     "output_type": "stream",
     "text": [
      "\n",
      "Average Metric: 25.00 / 32 (78.1%): 100%|██████████| 32/32 [00:27<00:00,  1.16it/s]"
     ]
    },
    {
     "name": "stderr",
     "output_type": "stream",
     "text": [
      "2025/05/01 20:56:59 INFO dspy.evaluate.evaluate: Average Metric: 25.0 / 32 (78.1%)\n",
      "2025/05/01 20:56:59 INFO dspy.teleprompt.mipro_optimizer_v2: Score: 78.12 with parameters ['Predictor 0: Instruction 26', 'Predictor 0: Few-Shot Set 10'].\n",
      "2025/05/01 20:56:59 INFO dspy.teleprompt.mipro_optimizer_v2: Scores so far: [78.12, 78.12]\n",
      "2025/05/01 20:56:59 INFO dspy.teleprompt.mipro_optimizer_v2: Best score so far: 78.12\n",
      "2025/05/01 20:56:59 INFO dspy.teleprompt.mipro_optimizer_v2: ========================\n",
      "\n",
      "\n",
      "2025/05/01 20:56:59 INFO dspy.teleprompt.mipro_optimizer_v2: ===== Trial 3 / 50 =====\n"
     ]
    },
    {
     "name": "stdout",
     "output_type": "stream",
     "text": [
      "\n",
      "Average Metric: 21.00 / 32 (65.6%): 100%|██████████| 32/32 [00:18<00:00,  1.76it/s]"
     ]
    },
    {
     "name": "stderr",
     "output_type": "stream",
     "text": [
      "2025/05/01 20:57:18 INFO dspy.evaluate.evaluate: Average Metric: 21.0 / 32 (65.6%)\n",
      "2025/05/01 20:57:18 INFO dspy.teleprompt.mipro_optimizer_v2: Score: 65.62 with parameters ['Predictor 0: Instruction 7', 'Predictor 0: Few-Shot Set 15'].\n",
      "2025/05/01 20:57:18 INFO dspy.teleprompt.mipro_optimizer_v2: Scores so far: [78.12, 78.12, 65.62]\n",
      "2025/05/01 20:57:18 INFO dspy.teleprompt.mipro_optimizer_v2: Best score so far: 78.12\n",
      "2025/05/01 20:57:18 INFO dspy.teleprompt.mipro_optimizer_v2: ========================\n",
      "\n",
      "\n",
      "2025/05/01 20:57:18 INFO dspy.teleprompt.mipro_optimizer_v2: ===== Trial 4 / 50 =====\n"
     ]
    },
    {
     "name": "stdout",
     "output_type": "stream",
     "text": [
      "\n",
      "Average Metric: 21.00 / 32 (65.6%): 100%|██████████| 32/32 [00:15<00:00,  2.12it/s]"
     ]
    },
    {
     "name": "stderr",
     "output_type": "stream",
     "text": [
      "2025/05/01 20:57:33 INFO dspy.evaluate.evaluate: Average Metric: 21.0 / 32 (65.6%)\n",
      "2025/05/01 20:57:33 INFO dspy.teleprompt.mipro_optimizer_v2: Score: 65.62 with parameters ['Predictor 0: Instruction 8', 'Predictor 0: Few-Shot Set 20'].\n",
      "2025/05/01 20:57:33 INFO dspy.teleprompt.mipro_optimizer_v2: Scores so far: [78.12, 78.12, 65.62, 65.62]\n",
      "2025/05/01 20:57:33 INFO dspy.teleprompt.mipro_optimizer_v2: Best score so far: 78.12\n",
      "2025/05/01 20:57:33 INFO dspy.teleprompt.mipro_optimizer_v2: ========================\n",
      "\n",
      "\n",
      "2025/05/01 20:57:33 INFO dspy.teleprompt.mipro_optimizer_v2: ===== Trial 5 / 50 =====\n"
     ]
    },
    {
     "name": "stdout",
     "output_type": "stream",
     "text": [
      "\n",
      "Average Metric: 21.00 / 32 (65.6%): 100%|██████████| 32/32 [00:13<00:00,  2.37it/s]"
     ]
    },
    {
     "name": "stderr",
     "output_type": "stream",
     "text": [
      "2025/05/01 20:57:46 INFO dspy.evaluate.evaluate: Average Metric: 21.0 / 32 (65.6%)\n",
      "2025/05/01 20:57:46 INFO dspy.teleprompt.mipro_optimizer_v2: Score: 65.62 with parameters ['Predictor 0: Instruction 7', 'Predictor 0: Few-Shot Set 11'].\n",
      "2025/05/01 20:57:46 INFO dspy.teleprompt.mipro_optimizer_v2: Scores so far: [78.12, 78.12, 65.62, 65.62, 65.62]\n",
      "2025/05/01 20:57:46 INFO dspy.teleprompt.mipro_optimizer_v2: Best score so far: 78.12\n",
      "2025/05/01 20:57:46 INFO dspy.teleprompt.mipro_optimizer_v2: ========================\n",
      "\n",
      "\n",
      "2025/05/01 20:57:46 INFO dspy.teleprompt.mipro_optimizer_v2: ===== Trial 6 / 50 =====\n"
     ]
    },
    {
     "name": "stdout",
     "output_type": "stream",
     "text": [
      "\n",
      "Average Metric: 23.00 / 32 (71.9%): 100%|██████████| 32/32 [00:19<00:00,  1.66it/s]"
     ]
    },
    {
     "name": "stderr",
     "output_type": "stream",
     "text": [
      "2025/05/01 20:58:06 INFO dspy.evaluate.evaluate: Average Metric: 23.0 / 32 (71.9%)\n",
      "2025/05/01 20:58:06 INFO dspy.teleprompt.mipro_optimizer_v2: Score: 71.88 with parameters ['Predictor 0: Instruction 5', 'Predictor 0: Few-Shot Set 20'].\n",
      "2025/05/01 20:58:06 INFO dspy.teleprompt.mipro_optimizer_v2: Scores so far: [78.12, 78.12, 65.62, 65.62, 65.62, 71.88]\n",
      "2025/05/01 20:58:06 INFO dspy.teleprompt.mipro_optimizer_v2: Best score so far: 78.12\n",
      "2025/05/01 20:58:06 INFO dspy.teleprompt.mipro_optimizer_v2: ========================\n",
      "\n",
      "\n",
      "2025/05/01 20:58:06 INFO dspy.teleprompt.mipro_optimizer_v2: ===== Trial 7 / 50 =====\n"
     ]
    },
    {
     "name": "stdout",
     "output_type": "stream",
     "text": [
      "\n",
      "Average Metric: 21.00 / 32 (65.6%): 100%|██████████| 32/32 [00:24<00:00,  1.32it/s]"
     ]
    },
    {
     "name": "stderr",
     "output_type": "stream",
     "text": [
      "2025/05/01 20:58:30 INFO dspy.evaluate.evaluate: Average Metric: 21.0 / 32 (65.6%)\n",
      "2025/05/01 20:58:30 INFO dspy.teleprompt.mipro_optimizer_v2: Score: 65.62 with parameters ['Predictor 0: Instruction 21', 'Predictor 0: Few-Shot Set 0'].\n",
      "2025/05/01 20:58:30 INFO dspy.teleprompt.mipro_optimizer_v2: Scores so far: [78.12, 78.12, 65.62, 65.62, 65.62, 71.88, 65.62]\n",
      "2025/05/01 20:58:30 INFO dspy.teleprompt.mipro_optimizer_v2: Best score so far: 78.12\n",
      "2025/05/01 20:58:30 INFO dspy.teleprompt.mipro_optimizer_v2: ========================\n",
      "\n",
      "\n",
      "2025/05/01 20:58:30 INFO dspy.teleprompt.mipro_optimizer_v2: ===== Trial 8 / 50 =====\n"
     ]
    },
    {
     "name": "stdout",
     "output_type": "stream",
     "text": [
      "\n",
      "Average Metric: 21.00 / 32 (65.6%): 100%|██████████| 32/32 [00:18<00:00,  1.75it/s]"
     ]
    },
    {
     "name": "stderr",
     "output_type": "stream",
     "text": [
      "2025/05/01 20:58:48 INFO dspy.evaluate.evaluate: Average Metric: 21.0 / 32 (65.6%)\n",
      "2025/05/01 20:58:48 INFO dspy.teleprompt.mipro_optimizer_v2: Score: 65.62 with parameters ['Predictor 0: Instruction 34', 'Predictor 0: Few-Shot Set 9'].\n",
      "2025/05/01 20:58:48 INFO dspy.teleprompt.mipro_optimizer_v2: Scores so far: [78.12, 78.12, 65.62, 65.62, 65.62, 71.88, 65.62, 65.62]\n",
      "2025/05/01 20:58:48 INFO dspy.teleprompt.mipro_optimizer_v2: Best score so far: 78.12\n",
      "2025/05/01 20:58:48 INFO dspy.teleprompt.mipro_optimizer_v2: ========================\n",
      "\n",
      "\n",
      "2025/05/01 20:58:48 INFO dspy.teleprompt.mipro_optimizer_v2: ===== Trial 9 / 50 =====\n"
     ]
    },
    {
     "name": "stdout",
     "output_type": "stream",
     "text": [
      "\n",
      "Average Metric: 23.00 / 32 (71.9%): 100%|██████████| 32/32 [00:17<00:00,  1.88it/s]"
     ]
    },
    {
     "name": "stderr",
     "output_type": "stream",
     "text": [
      "2025/05/01 20:59:05 INFO dspy.evaluate.evaluate: Average Metric: 23.0 / 32 (71.9%)\n",
      "2025/05/01 20:59:05 INFO dspy.teleprompt.mipro_optimizer_v2: Score: 71.88 with parameters ['Predictor 0: Instruction 32', 'Predictor 0: Few-Shot Set 3'].\n",
      "2025/05/01 20:59:05 INFO dspy.teleprompt.mipro_optimizer_v2: Scores so far: [78.12, 78.12, 65.62, 65.62, 65.62, 71.88, 65.62, 65.62, 71.88]\n",
      "2025/05/01 20:59:05 INFO dspy.teleprompt.mipro_optimizer_v2: Best score so far: 78.12\n",
      "2025/05/01 20:59:05 INFO dspy.teleprompt.mipro_optimizer_v2: ========================\n",
      "\n",
      "\n",
      "2025/05/01 20:59:05 INFO dspy.teleprompt.mipro_optimizer_v2: ===== Trial 10 / 50 =====\n"
     ]
    },
    {
     "name": "stdout",
     "output_type": "stream",
     "text": [
      "\n",
      "Average Metric: 23.00 / 32 (71.9%): 100%|██████████| 32/32 [00:15<00:00,  2.04it/s]"
     ]
    },
    {
     "name": "stderr",
     "output_type": "stream",
     "text": [
      "2025/05/01 20:59:21 INFO dspy.evaluate.evaluate: Average Metric: 23.0 / 32 (71.9%)\n",
      "2025/05/01 20:59:21 INFO dspy.teleprompt.mipro_optimizer_v2: Score: 71.88 with parameters ['Predictor 0: Instruction 21', 'Predictor 0: Few-Shot Set 26'].\n",
      "2025/05/01 20:59:21 INFO dspy.teleprompt.mipro_optimizer_v2: Scores so far: [78.12, 78.12, 65.62, 65.62, 65.62, 71.88, 65.62, 65.62, 71.88, 71.88]\n",
      "2025/05/01 20:59:21 INFO dspy.teleprompt.mipro_optimizer_v2: Best score so far: 78.12\n",
      "2025/05/01 20:59:21 INFO dspy.teleprompt.mipro_optimizer_v2: =========================\n",
      "\n",
      "\n",
      "2025/05/01 20:59:21 INFO dspy.teleprompt.mipro_optimizer_v2: ===== Trial 11 / 50 =====\n"
     ]
    },
    {
     "name": "stdout",
     "output_type": "stream",
     "text": [
      "\n",
      "Average Metric: 26.00 / 32 (81.2%): 100%|██████████| 32/32 [00:15<00:00,  2.08it/s]"
     ]
    },
    {
     "name": "stderr",
     "output_type": "stream",
     "text": [
      "2025/05/01 20:59:36 INFO dspy.evaluate.evaluate: Average Metric: 26.0 / 32 (81.2%)\n",
      "2025/05/01 20:59:36 INFO dspy.teleprompt.mipro_optimizer_v2: \u001b[92mBest full score so far!\u001b[0m Score: 81.25\n",
      "2025/05/01 20:59:36 INFO dspy.teleprompt.mipro_optimizer_v2: Score: 81.25 with parameters ['Predictor 0: Instruction 0', 'Predictor 0: Few-Shot Set 35'].\n",
      "2025/05/01 20:59:36 INFO dspy.teleprompt.mipro_optimizer_v2: Scores so far: [78.12, 78.12, 65.62, 65.62, 65.62, 71.88, 65.62, 65.62, 71.88, 71.88, 81.25]\n",
      "2025/05/01 20:59:36 INFO dspy.teleprompt.mipro_optimizer_v2: Best score so far: 81.25\n",
      "2025/05/01 20:59:36 INFO dspy.teleprompt.mipro_optimizer_v2: =========================\n",
      "\n",
      "\n",
      "2025/05/01 20:59:36 INFO dspy.teleprompt.mipro_optimizer_v2: ===== Trial 12 / 50 =====\n"
     ]
    },
    {
     "name": "stdout",
     "output_type": "stream",
     "text": [
      "\n",
      "Average Metric: 24.00 / 32 (75.0%): 100%|██████████| 32/32 [00:16<00:00,  1.92it/s]"
     ]
    },
    {
     "name": "stderr",
     "output_type": "stream",
     "text": [
      "2025/05/01 20:59:53 INFO dspy.evaluate.evaluate: Average Metric: 24.0 / 32 (75.0%)\n",
      "2025/05/01 20:59:53 INFO dspy.teleprompt.mipro_optimizer_v2: Score: 75.0 with parameters ['Predictor 0: Instruction 0', 'Predictor 0: Few-Shot Set 17'].\n",
      "2025/05/01 20:59:53 INFO dspy.teleprompt.mipro_optimizer_v2: Scores so far: [78.12, 78.12, 65.62, 65.62, 65.62, 71.88, 65.62, 65.62, 71.88, 71.88, 81.25, 75.0]\n",
      "2025/05/01 20:59:53 INFO dspy.teleprompt.mipro_optimizer_v2: Best score so far: 81.25\n",
      "2025/05/01 20:59:53 INFO dspy.teleprompt.mipro_optimizer_v2: =========================\n",
      "\n",
      "\n",
      "2025/05/01 20:59:53 INFO dspy.teleprompt.mipro_optimizer_v2: ===== Trial 13 / 50 =====\n"
     ]
    },
    {
     "name": "stdout",
     "output_type": "stream",
     "text": [
      "\n",
      "Average Metric: 22.00 / 32 (68.8%): 100%|██████████| 32/32 [00:12<00:00,  2.65it/s]"
     ]
    },
    {
     "name": "stderr",
     "output_type": "stream",
     "text": [
      "2025/05/01 21:00:05 INFO dspy.evaluate.evaluate: Average Metric: 22.0 / 32 (68.8%)\n",
      "2025/05/01 21:00:05 INFO dspy.teleprompt.mipro_optimizer_v2: Score: 68.75 with parameters ['Predictor 0: Instruction 24', 'Predictor 0: Few-Shot Set 35'].\n",
      "2025/05/01 21:00:05 INFO dspy.teleprompt.mipro_optimizer_v2: Scores so far: [78.12, 78.12, 65.62, 65.62, 65.62, 71.88, 65.62, 65.62, 71.88, 71.88, 81.25, 75.0, 68.75]\n",
      "2025/05/01 21:00:05 INFO dspy.teleprompt.mipro_optimizer_v2: Best score so far: 81.25\n",
      "2025/05/01 21:00:05 INFO dspy.teleprompt.mipro_optimizer_v2: =========================\n",
      "\n",
      "\n",
      "2025/05/01 21:00:05 INFO dspy.teleprompt.mipro_optimizer_v2: ===== Trial 14 / 50 =====\n"
     ]
    },
    {
     "name": "stdout",
     "output_type": "stream",
     "text": [
      "\n",
      "Average Metric: 25.00 / 32 (78.1%): 100%|██████████| 32/32 [00:13<00:00,  2.43it/s]"
     ]
    },
    {
     "name": "stderr",
     "output_type": "stream",
     "text": [
      "2025/05/01 21:00:18 INFO dspy.evaluate.evaluate: Average Metric: 25.0 / 32 (78.1%)\n",
      "2025/05/01 21:00:18 INFO dspy.teleprompt.mipro_optimizer_v2: Score: 78.12 with parameters ['Predictor 0: Instruction 0', 'Predictor 0: Few-Shot Set 9'].\n",
      "2025/05/01 21:00:18 INFO dspy.teleprompt.mipro_optimizer_v2: Scores so far: [78.12, 78.12, 65.62, 65.62, 65.62, 71.88, 65.62, 65.62, 71.88, 71.88, 81.25, 75.0, 68.75, 78.12]\n",
      "2025/05/01 21:00:18 INFO dspy.teleprompt.mipro_optimizer_v2: Best score so far: 81.25\n",
      "2025/05/01 21:00:18 INFO dspy.teleprompt.mipro_optimizer_v2: =========================\n",
      "\n",
      "\n",
      "2025/05/01 21:00:18 INFO dspy.teleprompt.mipro_optimizer_v2: ===== Trial 15 / 50 =====\n"
     ]
    },
    {
     "name": "stdout",
     "output_type": "stream",
     "text": [
      "\n",
      "Average Metric: 25.00 / 32 (78.1%): 100%|██████████| 32/32 [00:19<00:00,  1.61it/s]"
     ]
    },
    {
     "name": "stderr",
     "output_type": "stream",
     "text": [
      "2025/05/01 21:00:38 INFO dspy.evaluate.evaluate: Average Metric: 25.0 / 32 (78.1%)\n",
      "2025/05/01 21:00:38 INFO dspy.teleprompt.mipro_optimizer_v2: Score: 78.12 with parameters ['Predictor 0: Instruction 1', 'Predictor 0: Few-Shot Set 16'].\n",
      "2025/05/01 21:00:38 INFO dspy.teleprompt.mipro_optimizer_v2: Scores so far: [78.12, 78.12, 65.62, 65.62, 65.62, 71.88, 65.62, 65.62, 71.88, 71.88, 81.25, 75.0, 68.75, 78.12, 78.12]\n",
      "2025/05/01 21:00:38 INFO dspy.teleprompt.mipro_optimizer_v2: Best score so far: 81.25\n",
      "2025/05/01 21:00:38 INFO dspy.teleprompt.mipro_optimizer_v2: =========================\n",
      "\n",
      "\n",
      "2025/05/01 21:00:38 INFO dspy.teleprompt.mipro_optimizer_v2: ===== Trial 16 / 50 =====\n"
     ]
    },
    {
     "name": "stdout",
     "output_type": "stream",
     "text": [
      "\n",
      "Average Metric: 26.00 / 32 (81.2%): 100%|██████████| 32/32 [00:00<00:00, 2575.27it/s]"
     ]
    },
    {
     "name": "stderr",
     "output_type": "stream",
     "text": [
      "2025/05/01 21:00:38 INFO dspy.evaluate.evaluate: Average Metric: 26.0 / 32 (81.2%)\n",
      "2025/05/01 21:00:38 INFO dspy.teleprompt.mipro_optimizer_v2: Score: 81.25 with parameters ['Predictor 0: Instruction 0', 'Predictor 0: Few-Shot Set 35'].\n",
      "2025/05/01 21:00:38 INFO dspy.teleprompt.mipro_optimizer_v2: Scores so far: [78.12, 78.12, 65.62, 65.62, 65.62, 71.88, 65.62, 65.62, 71.88, 71.88, 81.25, 75.0, 68.75, 78.12, 78.12, 81.25]\n",
      "2025/05/01 21:00:38 INFO dspy.teleprompt.mipro_optimizer_v2: Best score so far: 81.25\n",
      "2025/05/01 21:00:38 INFO dspy.teleprompt.mipro_optimizer_v2: =========================\n",
      "\n",
      "\n",
      "2025/05/01 21:00:38 INFO dspy.teleprompt.mipro_optimizer_v2: ===== Trial 17 / 50 =====\n"
     ]
    },
    {
     "name": "stdout",
     "output_type": "stream",
     "text": [
      "\n",
      "Average Metric: 23.00 / 32 (71.9%): 100%|██████████| 32/32 [00:16<00:00,  1.98it/s]"
     ]
    },
    {
     "name": "stderr",
     "output_type": "stream",
     "text": [
      "2025/05/01 21:00:55 INFO dspy.evaluate.evaluate: Average Metric: 23.0 / 32 (71.9%)\n",
      "2025/05/01 21:00:55 INFO dspy.teleprompt.mipro_optimizer_v2: Score: 71.88 with parameters ['Predictor 0: Instruction 14', 'Predictor 0: Few-Shot Set 35'].\n",
      "2025/05/01 21:00:55 INFO dspy.teleprompt.mipro_optimizer_v2: Scores so far: [78.12, 78.12, 65.62, 65.62, 65.62, 71.88, 65.62, 65.62, 71.88, 71.88, 81.25, 75.0, 68.75, 78.12, 78.12, 81.25, 71.88]\n",
      "2025/05/01 21:00:55 INFO dspy.teleprompt.mipro_optimizer_v2: Best score so far: 81.25\n",
      "2025/05/01 21:00:55 INFO dspy.teleprompt.mipro_optimizer_v2: =========================\n",
      "\n",
      "\n",
      "2025/05/01 21:00:55 INFO dspy.teleprompt.mipro_optimizer_v2: ===== Trial 18 / 50 =====\n"
     ]
    },
    {
     "name": "stdout",
     "output_type": "stream",
     "text": [
      "\n",
      "Average Metric: 23.00 / 32 (71.9%): 100%|██████████| 32/32 [00:18<00:00,  1.72it/s]"
     ]
    },
    {
     "name": "stderr",
     "output_type": "stream",
     "text": [
      "2025/05/01 21:01:13 INFO dspy.evaluate.evaluate: Average Metric: 23.0 / 32 (71.9%)\n",
      "2025/05/01 21:01:13 INFO dspy.teleprompt.mipro_optimizer_v2: Score: 71.88 with parameters ['Predictor 0: Instruction 33', 'Predictor 0: Few-Shot Set 2'].\n",
      "2025/05/01 21:01:13 INFO dspy.teleprompt.mipro_optimizer_v2: Scores so far: [78.12, 78.12, 65.62, 65.62, 65.62, 71.88, 65.62, 65.62, 71.88, 71.88, 81.25, 75.0, 68.75, 78.12, 78.12, 81.25, 71.88, 71.88]\n",
      "2025/05/01 21:01:13 INFO dspy.teleprompt.mipro_optimizer_v2: Best score so far: 81.25\n",
      "2025/05/01 21:01:13 INFO dspy.teleprompt.mipro_optimizer_v2: =========================\n",
      "\n",
      "\n",
      "2025/05/01 21:01:13 INFO dspy.teleprompt.mipro_optimizer_v2: ===== Trial 19 / 50 =====\n"
     ]
    },
    {
     "name": "stdout",
     "output_type": "stream",
     "text": [
      "\n",
      "Average Metric: 25.00 / 32 (78.1%): 100%|██████████| 32/32 [00:18<00:00,  1.70it/s]"
     ]
    },
    {
     "name": "stderr",
     "output_type": "stream",
     "text": [
      "2025/05/01 21:01:32 INFO dspy.evaluate.evaluate: Average Metric: 25.0 / 32 (78.1%)\n",
      "2025/05/01 21:01:32 INFO dspy.teleprompt.mipro_optimizer_v2: Score: 78.12 with parameters ['Predictor 0: Instruction 31', 'Predictor 0: Few-Shot Set 35'].\n",
      "2025/05/01 21:01:32 INFO dspy.teleprompt.mipro_optimizer_v2: Scores so far: [78.12, 78.12, 65.62, 65.62, 65.62, 71.88, 65.62, 65.62, 71.88, 71.88, 81.25, 75.0, 68.75, 78.12, 78.12, 81.25, 71.88, 71.88, 78.12]\n",
      "2025/05/01 21:01:32 INFO dspy.teleprompt.mipro_optimizer_v2: Best score so far: 81.25\n",
      "2025/05/01 21:01:32 INFO dspy.teleprompt.mipro_optimizer_v2: =========================\n",
      "\n",
      "\n",
      "2025/05/01 21:01:32 INFO dspy.teleprompt.mipro_optimizer_v2: ===== Trial 20 / 50 =====\n"
     ]
    },
    {
     "name": "stdout",
     "output_type": "stream",
     "text": [
      "\n",
      "Average Metric: 21.00 / 32 (65.6%): 100%|██████████| 32/32 [00:15<00:00,  2.06it/s]"
     ]
    },
    {
     "name": "stderr",
     "output_type": "stream",
     "text": [
      "2025/05/01 21:01:48 INFO dspy.evaluate.evaluate: Average Metric: 21.0 / 32 (65.6%)\n",
      "2025/05/01 21:01:48 INFO dspy.teleprompt.mipro_optimizer_v2: Score: 65.62 with parameters ['Predictor 0: Instruction 13', 'Predictor 0: Few-Shot Set 37'].\n",
      "2025/05/01 21:01:48 INFO dspy.teleprompt.mipro_optimizer_v2: Scores so far: [78.12, 78.12, 65.62, 65.62, 65.62, 71.88, 65.62, 65.62, 71.88, 71.88, 81.25, 75.0, 68.75, 78.12, 78.12, 81.25, 71.88, 71.88, 78.12, 65.62]\n",
      "2025/05/01 21:01:48 INFO dspy.teleprompt.mipro_optimizer_v2: Best score so far: 81.25\n",
      "2025/05/01 21:01:48 INFO dspy.teleprompt.mipro_optimizer_v2: =========================\n",
      "\n",
      "\n",
      "2025/05/01 21:01:48 INFO dspy.teleprompt.mipro_optimizer_v2: ===== Trial 21 / 50 =====\n"
     ]
    },
    {
     "name": "stdout",
     "output_type": "stream",
     "text": [
      "\n",
      "Average Metric: 26.00 / 32 (81.2%): 100%|██████████| 32/32 [00:00<00:00, 2857.82it/s]"
     ]
    },
    {
     "name": "stderr",
     "output_type": "stream",
     "text": [
      "2025/05/01 21:01:48 INFO dspy.evaluate.evaluate: Average Metric: 26.0 / 32 (81.2%)\n",
      "2025/05/01 21:01:48 INFO dspy.teleprompt.mipro_optimizer_v2: Score: 81.25 with parameters ['Predictor 0: Instruction 0', 'Predictor 0: Few-Shot Set 35'].\n",
      "2025/05/01 21:01:48 INFO dspy.teleprompt.mipro_optimizer_v2: Scores so far: [78.12, 78.12, 65.62, 65.62, 65.62, 71.88, 65.62, 65.62, 71.88, 71.88, 81.25, 75.0, 68.75, 78.12, 78.12, 81.25, 71.88, 71.88, 78.12, 65.62, 81.25]\n",
      "2025/05/01 21:01:48 INFO dspy.teleprompt.mipro_optimizer_v2: Best score so far: 81.25\n",
      "2025/05/01 21:01:48 INFO dspy.teleprompt.mipro_optimizer_v2: =========================\n",
      "\n",
      "\n",
      "2025/05/01 21:01:48 INFO dspy.teleprompt.mipro_optimizer_v2: ===== Trial 22 / 50 =====\n"
     ]
    },
    {
     "name": "stdout",
     "output_type": "stream",
     "text": [
      "\n",
      "Average Metric: 26.00 / 32 (81.2%): 100%|██████████| 32/32 [00:14<00:00,  2.21it/s]"
     ]
    },
    {
     "name": "stderr",
     "output_type": "stream",
     "text": [
      "2025/05/01 21:02:02 INFO dspy.evaluate.evaluate: Average Metric: 26.0 / 32 (81.2%)\n",
      "2025/05/01 21:02:02 INFO dspy.teleprompt.mipro_optimizer_v2: Score: 81.25 with parameters ['Predictor 0: Instruction 30', 'Predictor 0: Few-Shot Set 35'].\n",
      "2025/05/01 21:02:02 INFO dspy.teleprompt.mipro_optimizer_v2: Scores so far: [78.12, 78.12, 65.62, 65.62, 65.62, 71.88, 65.62, 65.62, 71.88, 71.88, 81.25, 75.0, 68.75, 78.12, 78.12, 81.25, 71.88, 71.88, 78.12, 65.62, 81.25, 81.25]\n",
      "2025/05/01 21:02:02 INFO dspy.teleprompt.mipro_optimizer_v2: Best score so far: 81.25\n",
      "2025/05/01 21:02:02 INFO dspy.teleprompt.mipro_optimizer_v2: =========================\n",
      "\n",
      "\n",
      "2025/05/01 21:02:02 INFO dspy.teleprompt.mipro_optimizer_v2: ===== Trial 23 / 50 =====\n"
     ]
    },
    {
     "name": "stdout",
     "output_type": "stream",
     "text": [
      "\n",
      "Average Metric: 25.00 / 32 (78.1%): 100%|██████████| 32/32 [00:33<00:00,  1.06s/it]"
     ]
    },
    {
     "name": "stderr",
     "output_type": "stream",
     "text": [
      "2025/05/01 21:02:36 INFO dspy.evaluate.evaluate: Average Metric: 25.0 / 32 (78.1%)\n",
      "2025/05/01 21:02:36 INFO dspy.teleprompt.mipro_optimizer_v2: Score: 78.12 with parameters ['Predictor 0: Instruction 0', 'Predictor 0: Few-Shot Set 22'].\n",
      "2025/05/01 21:02:36 INFO dspy.teleprompt.mipro_optimizer_v2: Scores so far: [78.12, 78.12, 65.62, 65.62, 65.62, 71.88, 65.62, 65.62, 71.88, 71.88, 81.25, 75.0, 68.75, 78.12, 78.12, 81.25, 71.88, 71.88, 78.12, 65.62, 81.25, 81.25, 78.12]\n",
      "2025/05/01 21:02:36 INFO dspy.teleprompt.mipro_optimizer_v2: Best score so far: 81.25\n",
      "2025/05/01 21:02:36 INFO dspy.teleprompt.mipro_optimizer_v2: =========================\n",
      "\n",
      "\n",
      "2025/05/01 21:02:36 INFO dspy.teleprompt.mipro_optimizer_v2: ===== Trial 24 / 50 =====\n"
     ]
    },
    {
     "name": "stdout",
     "output_type": "stream",
     "text": [
      "\n",
      "Average Metric: 26.00 / 32 (81.2%): 100%|██████████| 32/32 [00:00<00:00, 2584.64it/s]"
     ]
    },
    {
     "name": "stderr",
     "output_type": "stream",
     "text": [
      "2025/05/01 21:02:36 INFO dspy.evaluate.evaluate: Average Metric: 26.0 / 32 (81.2%)\n",
      "2025/05/01 21:02:36 INFO dspy.teleprompt.mipro_optimizer_v2: Score: 81.25 with parameters ['Predictor 0: Instruction 0', 'Predictor 0: Few-Shot Set 35'].\n",
      "2025/05/01 21:02:36 INFO dspy.teleprompt.mipro_optimizer_v2: Scores so far: [78.12, 78.12, 65.62, 65.62, 65.62, 71.88, 65.62, 65.62, 71.88, 71.88, 81.25, 75.0, 68.75, 78.12, 78.12, 81.25, 71.88, 71.88, 78.12, 65.62, 81.25, 81.25, 78.12, 81.25]\n",
      "2025/05/01 21:02:36 INFO dspy.teleprompt.mipro_optimizer_v2: Best score so far: 81.25\n",
      "2025/05/01 21:02:36 INFO dspy.teleprompt.mipro_optimizer_v2: =========================\n",
      "\n",
      "\n",
      "2025/05/01 21:02:36 INFO dspy.teleprompt.mipro_optimizer_v2: ===== Trial 25 / 50 =====\n"
     ]
    },
    {
     "name": "stdout",
     "output_type": "stream",
     "text": [
      "\n",
      "Average Metric: 25.00 / 32 (78.1%): 100%|██████████| 32/32 [00:13<00:00,  2.31it/s]"
     ]
    },
    {
     "name": "stderr",
     "output_type": "stream",
     "text": [
      "2025/05/01 21:02:50 INFO dspy.evaluate.evaluate: Average Metric: 25.0 / 32 (78.1%)\n",
      "2025/05/01 21:02:50 INFO dspy.teleprompt.mipro_optimizer_v2: Score: 78.12 with parameters ['Predictor 0: Instruction 3', 'Predictor 0: Few-Shot Set 1'].\n",
      "2025/05/01 21:02:50 INFO dspy.teleprompt.mipro_optimizer_v2: Scores so far: [78.12, 78.12, 65.62, 65.62, 65.62, 71.88, 65.62, 65.62, 71.88, 71.88, 81.25, 75.0, 68.75, 78.12, 78.12, 81.25, 71.88, 71.88, 78.12, 65.62, 81.25, 81.25, 78.12, 81.25, 78.12]\n",
      "2025/05/01 21:02:50 INFO dspy.teleprompt.mipro_optimizer_v2: Best score so far: 81.25\n",
      "2025/05/01 21:02:50 INFO dspy.teleprompt.mipro_optimizer_v2: =========================\n",
      "\n",
      "\n",
      "2025/05/01 21:02:50 INFO dspy.teleprompt.mipro_optimizer_v2: ===== Trial 26 / 50 =====\n"
     ]
    },
    {
     "name": "stdout",
     "output_type": "stream",
     "text": [
      "\n",
      "Average Metric: 22.00 / 32 (68.8%): 100%|██████████| 32/32 [00:14<00:00,  2.28it/s]"
     ]
    },
    {
     "name": "stderr",
     "output_type": "stream",
     "text": [
      "2025/05/01 21:03:04 INFO dspy.evaluate.evaluate: Average Metric: 22.0 / 32 (68.8%)\n",
      "2025/05/01 21:03:04 INFO dspy.teleprompt.mipro_optimizer_v2: Score: 68.75 with parameters ['Predictor 0: Instruction 17', 'Predictor 0: Few-Shot Set 18'].\n",
      "2025/05/01 21:03:04 INFO dspy.teleprompt.mipro_optimizer_v2: Scores so far: [78.12, 78.12, 65.62, 65.62, 65.62, 71.88, 65.62, 65.62, 71.88, 71.88, 81.25, 75.0, 68.75, 78.12, 78.12, 81.25, 71.88, 71.88, 78.12, 65.62, 81.25, 81.25, 78.12, 81.25, 78.12, 68.75]\n",
      "2025/05/01 21:03:04 INFO dspy.teleprompt.mipro_optimizer_v2: Best score so far: 81.25\n",
      "2025/05/01 21:03:04 INFO dspy.teleprompt.mipro_optimizer_v2: =========================\n",
      "\n",
      "\n",
      "2025/05/01 21:03:04 INFO dspy.teleprompt.mipro_optimizer_v2: ===== Trial 27 / 50 =====\n"
     ]
    },
    {
     "name": "stdout",
     "output_type": "stream",
     "text": [
      "\n",
      "Average Metric: 22.00 / 32 (68.8%): 100%|██████████| 32/32 [00:13<00:00,  2.40it/s]"
     ]
    },
    {
     "name": "stderr",
     "output_type": "stream",
     "text": [
      "2025/05/01 21:03:17 INFO dspy.evaluate.evaluate: Average Metric: 22.0 / 32 (68.8%)\n",
      "2025/05/01 21:03:17 INFO dspy.teleprompt.mipro_optimizer_v2: Score: 68.75 with parameters ['Predictor 0: Instruction 12', 'Predictor 0: Few-Shot Set 7'].\n",
      "2025/05/01 21:03:17 INFO dspy.teleprompt.mipro_optimizer_v2: Scores so far: [78.12, 78.12, 65.62, 65.62, 65.62, 71.88, 65.62, 65.62, 71.88, 71.88, 81.25, 75.0, 68.75, 78.12, 78.12, 81.25, 71.88, 71.88, 78.12, 65.62, 81.25, 81.25, 78.12, 81.25, 78.12, 68.75, 68.75]\n",
      "2025/05/01 21:03:17 INFO dspy.teleprompt.mipro_optimizer_v2: Best score so far: 81.25\n",
      "2025/05/01 21:03:17 INFO dspy.teleprompt.mipro_optimizer_v2: =========================\n",
      "\n",
      "\n",
      "2025/05/01 21:03:17 INFO dspy.teleprompt.mipro_optimizer_v2: ===== Trial 28 / 50 =====\n"
     ]
    },
    {
     "name": "stdout",
     "output_type": "stream",
     "text": [
      "\n",
      "Average Metric: 22.00 / 32 (68.8%): 100%|██████████| 32/32 [00:14<00:00,  2.25it/s]"
     ]
    },
    {
     "name": "stderr",
     "output_type": "stream",
     "text": [
      "2025/05/01 21:03:32 INFO dspy.evaluate.evaluate: Average Metric: 22.0 / 32 (68.8%)\n",
      "2025/05/01 21:03:32 INFO dspy.teleprompt.mipro_optimizer_v2: Score: 68.75 with parameters ['Predictor 0: Instruction 2', 'Predictor 0: Few-Shot Set 25'].\n",
      "2025/05/01 21:03:32 INFO dspy.teleprompt.mipro_optimizer_v2: Scores so far: [78.12, 78.12, 65.62, 65.62, 65.62, 71.88, 65.62, 65.62, 71.88, 71.88, 81.25, 75.0, 68.75, 78.12, 78.12, 81.25, 71.88, 71.88, 78.12, 65.62, 81.25, 81.25, 78.12, 81.25, 78.12, 68.75, 68.75, 68.75]\n",
      "2025/05/01 21:03:32 INFO dspy.teleprompt.mipro_optimizer_v2: Best score so far: 81.25\n",
      "2025/05/01 21:03:32 INFO dspy.teleprompt.mipro_optimizer_v2: =========================\n",
      "\n",
      "\n",
      "2025/05/01 21:03:32 INFO dspy.teleprompt.mipro_optimizer_v2: ===== Trial 29 / 50 =====\n"
     ]
    },
    {
     "name": "stdout",
     "output_type": "stream",
     "text": [
      "\n",
      "Average Metric: 21.00 / 32 (65.6%): 100%|██████████| 32/32 [00:14<00:00,  2.17it/s]"
     ]
    },
    {
     "name": "stderr",
     "output_type": "stream",
     "text": [
      "2025/05/01 21:03:47 INFO dspy.evaluate.evaluate: Average Metric: 21.0 / 32 (65.6%)\n",
      "2025/05/01 21:03:47 INFO dspy.teleprompt.mipro_optimizer_v2: Score: 65.62 with parameters ['Predictor 0: Instruction 16', 'Predictor 0: Few-Shot Set 4'].\n",
      "2025/05/01 21:03:47 INFO dspy.teleprompt.mipro_optimizer_v2: Scores so far: [78.12, 78.12, 65.62, 65.62, 65.62, 71.88, 65.62, 65.62, 71.88, 71.88, 81.25, 75.0, 68.75, 78.12, 78.12, 81.25, 71.88, 71.88, 78.12, 65.62, 81.25, 81.25, 78.12, 81.25, 78.12, 68.75, 68.75, 68.75, 65.62]\n",
      "2025/05/01 21:03:47 INFO dspy.teleprompt.mipro_optimizer_v2: Best score so far: 81.25\n",
      "2025/05/01 21:03:47 INFO dspy.teleprompt.mipro_optimizer_v2: =========================\n",
      "\n",
      "\n",
      "2025/05/01 21:03:47 INFO dspy.teleprompt.mipro_optimizer_v2: ===== Trial 30 / 50 =====\n"
     ]
    },
    {
     "name": "stdout",
     "output_type": "stream",
     "text": [
      "\n",
      "Average Metric: 23.00 / 32 (71.9%): 100%|██████████| 32/32 [00:12<00:00,  2.52it/s]"
     ]
    },
    {
     "name": "stderr",
     "output_type": "stream",
     "text": [
      "2025/05/01 21:03:59 INFO dspy.evaluate.evaluate: Average Metric: 23.0 / 32 (71.9%)\n",
      "2025/05/01 21:03:59 INFO dspy.teleprompt.mipro_optimizer_v2: Score: 71.88 with parameters ['Predictor 0: Instruction 28', 'Predictor 0: Few-Shot Set 30'].\n",
      "2025/05/01 21:03:59 INFO dspy.teleprompt.mipro_optimizer_v2: Scores so far: [78.12, 78.12, 65.62, 65.62, 65.62, 71.88, 65.62, 65.62, 71.88, 71.88, 81.25, 75.0, 68.75, 78.12, 78.12, 81.25, 71.88, 71.88, 78.12, 65.62, 81.25, 81.25, 78.12, 81.25, 78.12, 68.75, 68.75, 68.75, 65.62, 71.88]\n",
      "2025/05/01 21:03:59 INFO dspy.teleprompt.mipro_optimizer_v2: Best score so far: 81.25\n",
      "2025/05/01 21:03:59 INFO dspy.teleprompt.mipro_optimizer_v2: =========================\n",
      "\n",
      "\n",
      "2025/05/01 21:03:59 INFO dspy.teleprompt.mipro_optimizer_v2: ===== Trial 31 / 50 =====\n"
     ]
    },
    {
     "name": "stdout",
     "output_type": "stream",
     "text": [
      "\n",
      "Average Metric: 23.00 / 32 (71.9%): 100%|██████████| 32/32 [00:12<00:00,  2.54it/s]"
     ]
    },
    {
     "name": "stderr",
     "output_type": "stream",
     "text": [
      "2025/05/01 21:04:12 INFO dspy.evaluate.evaluate: Average Metric: 23.0 / 32 (71.9%)\n",
      "2025/05/01 21:04:12 INFO dspy.teleprompt.mipro_optimizer_v2: Score: 71.88 with parameters ['Predictor 0: Instruction 15', 'Predictor 0: Few-Shot Set 12'].\n",
      "2025/05/01 21:04:12 INFO dspy.teleprompt.mipro_optimizer_v2: Scores so far: [78.12, 78.12, 65.62, 65.62, 65.62, 71.88, 65.62, 65.62, 71.88, 71.88, 81.25, 75.0, 68.75, 78.12, 78.12, 81.25, 71.88, 71.88, 78.12, 65.62, 81.25, 81.25, 78.12, 81.25, 78.12, 68.75, 68.75, 68.75, 65.62, 71.88, 71.88]\n",
      "2025/05/01 21:04:12 INFO dspy.teleprompt.mipro_optimizer_v2: Best score so far: 81.25\n",
      "2025/05/01 21:04:12 INFO dspy.teleprompt.mipro_optimizer_v2: =========================\n",
      "\n",
      "\n",
      "2025/05/01 21:04:12 INFO dspy.teleprompt.mipro_optimizer_v2: ===== Trial 32 / 50 =====\n"
     ]
    },
    {
     "name": "stdout",
     "output_type": "stream",
     "text": [
      "\n",
      "Average Metric: 22.00 / 32 (68.8%): 100%|██████████| 32/32 [00:12<00:00,  2.48it/s]"
     ]
    },
    {
     "name": "stderr",
     "output_type": "stream",
     "text": [
      "2025/05/01 21:04:25 INFO dspy.evaluate.evaluate: Average Metric: 22.0 / 32 (68.8%)\n",
      "2025/05/01 21:04:25 INFO dspy.teleprompt.mipro_optimizer_v2: Score: 68.75 with parameters ['Predictor 0: Instruction 23', 'Predictor 0: Few-Shot Set 27'].\n",
      "2025/05/01 21:04:25 INFO dspy.teleprompt.mipro_optimizer_v2: Scores so far: [78.12, 78.12, 65.62, 65.62, 65.62, 71.88, 65.62, 65.62, 71.88, 71.88, 81.25, 75.0, 68.75, 78.12, 78.12, 81.25, 71.88, 71.88, 78.12, 65.62, 81.25, 81.25, 78.12, 81.25, 78.12, 68.75, 68.75, 68.75, 65.62, 71.88, 71.88, 68.75]\n",
      "2025/05/01 21:04:25 INFO dspy.teleprompt.mipro_optimizer_v2: Best score so far: 81.25\n",
      "2025/05/01 21:04:25 INFO dspy.teleprompt.mipro_optimizer_v2: =========================\n",
      "\n",
      "\n",
      "2025/05/01 21:04:25 INFO dspy.teleprompt.mipro_optimizer_v2: ===== Trial 33 / 50 =====\n"
     ]
    },
    {
     "name": "stdout",
     "output_type": "stream",
     "text": [
      "\n",
      "Average Metric: 24.00 / 32 (75.0%): 100%|██████████| 32/32 [00:14<00:00,  2.23it/s]"
     ]
    },
    {
     "name": "stderr",
     "output_type": "stream",
     "text": [
      "2025/05/01 21:04:39 INFO dspy.evaluate.evaluate: Average Metric: 24.0 / 32 (75.0%)\n",
      "2025/05/01 21:04:39 INFO dspy.teleprompt.mipro_optimizer_v2: Score: 75.0 with parameters ['Predictor 0: Instruction 18', 'Predictor 0: Few-Shot Set 29'].\n",
      "2025/05/01 21:04:39 INFO dspy.teleprompt.mipro_optimizer_v2: Scores so far: [78.12, 78.12, 65.62, 65.62, 65.62, 71.88, 65.62, 65.62, 71.88, 71.88, 81.25, 75.0, 68.75, 78.12, 78.12, 81.25, 71.88, 71.88, 78.12, 65.62, 81.25, 81.25, 78.12, 81.25, 78.12, 68.75, 68.75, 68.75, 65.62, 71.88, 71.88, 68.75, 75.0]\n",
      "2025/05/01 21:04:39 INFO dspy.teleprompt.mipro_optimizer_v2: Best score so far: 81.25\n",
      "2025/05/01 21:04:39 INFO dspy.teleprompt.mipro_optimizer_v2: =========================\n",
      "\n",
      "\n",
      "2025/05/01 21:04:39 INFO dspy.teleprompt.mipro_optimizer_v2: ===== Trial 34 / 50 =====\n"
     ]
    },
    {
     "name": "stdout",
     "output_type": "stream",
     "text": [
      "\n",
      "Average Metric: 23.00 / 32 (71.9%): 100%|██████████| 32/32 [00:16<00:00,  1.92it/s]"
     ]
    },
    {
     "name": "stderr",
     "output_type": "stream",
     "text": [
      "2025/05/01 21:04:56 INFO dspy.evaluate.evaluate: Average Metric: 23.0 / 32 (71.9%)\n",
      "2025/05/01 21:04:56 INFO dspy.teleprompt.mipro_optimizer_v2: Score: 71.88 with parameters ['Predictor 0: Instruction 30', 'Predictor 0: Few-Shot Set 8'].\n",
      "2025/05/01 21:04:56 INFO dspy.teleprompt.mipro_optimizer_v2: Scores so far: [78.12, 78.12, 65.62, 65.62, 65.62, 71.88, 65.62, 65.62, 71.88, 71.88, 81.25, 75.0, 68.75, 78.12, 78.12, 81.25, 71.88, 71.88, 78.12, 65.62, 81.25, 81.25, 78.12, 81.25, 78.12, 68.75, 68.75, 68.75, 65.62, 71.88, 71.88, 68.75, 75.0, 71.88]\n",
      "2025/05/01 21:04:56 INFO dspy.teleprompt.mipro_optimizer_v2: Best score so far: 81.25\n",
      "2025/05/01 21:04:56 INFO dspy.teleprompt.mipro_optimizer_v2: =========================\n",
      "\n",
      "\n",
      "2025/05/01 21:04:56 INFO dspy.teleprompt.mipro_optimizer_v2: ===== Trial 35 / 50 =====\n"
     ]
    },
    {
     "name": "stdout",
     "output_type": "stream",
     "text": [
      "\n",
      "Average Metric: 24.00 / 32 (75.0%): 100%|██████████| 32/32 [00:16<00:00,  1.98it/s]"
     ]
    },
    {
     "name": "stderr",
     "output_type": "stream",
     "text": [
      "2025/05/01 21:05:12 INFO dspy.evaluate.evaluate: Average Metric: 24.0 / 32 (75.0%)\n",
      "2025/05/01 21:05:12 INFO dspy.teleprompt.mipro_optimizer_v2: Score: 75.0 with parameters ['Predictor 0: Instruction 9', 'Predictor 0: Few-Shot Set 36'].\n",
      "2025/05/01 21:05:12 INFO dspy.teleprompt.mipro_optimizer_v2: Scores so far: [78.12, 78.12, 65.62, 65.62, 65.62, 71.88, 65.62, 65.62, 71.88, 71.88, 81.25, 75.0, 68.75, 78.12, 78.12, 81.25, 71.88, 71.88, 78.12, 65.62, 81.25, 81.25, 78.12, 81.25, 78.12, 68.75, 68.75, 68.75, 65.62, 71.88, 71.88, 68.75, 75.0, 71.88, 75.0]\n",
      "2025/05/01 21:05:12 INFO dspy.teleprompt.mipro_optimizer_v2: Best score so far: 81.25\n",
      "2025/05/01 21:05:12 INFO dspy.teleprompt.mipro_optimizer_v2: =========================\n",
      "\n",
      "\n",
      "2025/05/01 21:05:12 INFO dspy.teleprompt.mipro_optimizer_v2: ===== Trial 36 / 50 =====\n"
     ]
    },
    {
     "name": "stdout",
     "output_type": "stream",
     "text": [
      "\n",
      "Average Metric: 24.00 / 32 (75.0%): 100%|██████████| 32/32 [00:17<00:00,  1.80it/s]"
     ]
    },
    {
     "name": "stderr",
     "output_type": "stream",
     "text": [
      "2025/05/01 21:05:30 INFO dspy.evaluate.evaluate: Average Metric: 24.0 / 32 (75.0%)\n",
      "2025/05/01 21:05:30 INFO dspy.teleprompt.mipro_optimizer_v2: Score: 75.0 with parameters ['Predictor 0: Instruction 20', 'Predictor 0: Few-Shot Set 21'].\n",
      "2025/05/01 21:05:30 INFO dspy.teleprompt.mipro_optimizer_v2: Scores so far: [78.12, 78.12, 65.62, 65.62, 65.62, 71.88, 65.62, 65.62, 71.88, 71.88, 81.25, 75.0, 68.75, 78.12, 78.12, 81.25, 71.88, 71.88, 78.12, 65.62, 81.25, 81.25, 78.12, 81.25, 78.12, 68.75, 68.75, 68.75, 65.62, 71.88, 71.88, 68.75, 75.0, 71.88, 75.0, 75.0]\n",
      "2025/05/01 21:05:30 INFO dspy.teleprompt.mipro_optimizer_v2: Best score so far: 81.25\n",
      "2025/05/01 21:05:30 INFO dspy.teleprompt.mipro_optimizer_v2: =========================\n",
      "\n",
      "\n",
      "2025/05/01 21:05:30 INFO dspy.teleprompt.mipro_optimizer_v2: ===== Trial 37 / 50 =====\n"
     ]
    },
    {
     "name": "stdout",
     "output_type": "stream",
     "text": [
      "\n",
      "Average Metric: 26.00 / 32 (81.2%): 100%|██████████| 32/32 [00:11<00:00,  2.90it/s]"
     ]
    },
    {
     "name": "stderr",
     "output_type": "stream",
     "text": [
      "2025/05/01 21:05:41 INFO dspy.evaluate.evaluate: Average Metric: 26.0 / 32 (81.2%)\n",
      "2025/05/01 21:05:41 INFO dspy.teleprompt.mipro_optimizer_v2: Score: 81.25 with parameters ['Predictor 0: Instruction 36', 'Predictor 0: Few-Shot Set 13'].\n",
      "2025/05/01 21:05:41 INFO dspy.teleprompt.mipro_optimizer_v2: Scores so far: [78.12, 78.12, 65.62, 65.62, 65.62, 71.88, 65.62, 65.62, 71.88, 71.88, 81.25, 75.0, 68.75, 78.12, 78.12, 81.25, 71.88, 71.88, 78.12, 65.62, 81.25, 81.25, 78.12, 81.25, 78.12, 68.75, 68.75, 68.75, 65.62, 71.88, 71.88, 68.75, 75.0, 71.88, 75.0, 75.0, 81.25]\n",
      "2025/05/01 21:05:41 INFO dspy.teleprompt.mipro_optimizer_v2: Best score so far: 81.25\n",
      "2025/05/01 21:05:41 INFO dspy.teleprompt.mipro_optimizer_v2: =========================\n",
      "\n",
      "\n",
      "2025/05/01 21:05:41 INFO dspy.teleprompt.mipro_optimizer_v2: ===== Trial 38 / 50 =====\n"
     ]
    },
    {
     "name": "stdout",
     "output_type": "stream",
     "text": [
      "\n",
      "Average Metric: 25.00 / 32 (78.1%): 100%|██████████| 32/32 [00:16<00:00,  1.98it/s]"
     ]
    },
    {
     "name": "stderr",
     "output_type": "stream",
     "text": [
      "2025/05/01 21:05:57 INFO dspy.evaluate.evaluate: Average Metric: 25.0 / 32 (78.1%)\n",
      "2025/05/01 21:05:57 INFO dspy.teleprompt.mipro_optimizer_v2: Score: 78.12 with parameters ['Predictor 0: Instruction 9', 'Predictor 0: Few-Shot Set 35'].\n",
      "2025/05/01 21:05:57 INFO dspy.teleprompt.mipro_optimizer_v2: Scores so far: [78.12, 78.12, 65.62, 65.62, 65.62, 71.88, 65.62, 65.62, 71.88, 71.88, 81.25, 75.0, 68.75, 78.12, 78.12, 81.25, 71.88, 71.88, 78.12, 65.62, 81.25, 81.25, 78.12, 81.25, 78.12, 68.75, 68.75, 68.75, 65.62, 71.88, 71.88, 68.75, 75.0, 71.88, 75.0, 75.0, 81.25, 78.12]\n",
      "2025/05/01 21:05:57 INFO dspy.teleprompt.mipro_optimizer_v2: Best score so far: 81.25\n",
      "2025/05/01 21:05:57 INFO dspy.teleprompt.mipro_optimizer_v2: =========================\n",
      "\n",
      "\n",
      "2025/05/01 21:05:57 INFO dspy.teleprompt.mipro_optimizer_v2: ===== Trial 39 / 50 =====\n"
     ]
    },
    {
     "name": "stdout",
     "output_type": "stream",
     "text": [
      "\n",
      "Average Metric: 22.00 / 32 (68.8%): 100%|██████████| 32/32 [00:17<00:00,  1.80it/s]"
     ]
    },
    {
     "name": "stderr",
     "output_type": "stream",
     "text": [
      "2025/05/01 21:06:15 INFO dspy.evaluate.evaluate: Average Metric: 22.0 / 32 (68.8%)\n",
      "2025/05/01 21:06:15 INFO dspy.teleprompt.mipro_optimizer_v2: Score: 68.75 with parameters ['Predictor 0: Instruction 25', 'Predictor 0: Few-Shot Set 14'].\n",
      "2025/05/01 21:06:15 INFO dspy.teleprompt.mipro_optimizer_v2: Scores so far: [78.12, 78.12, 65.62, 65.62, 65.62, 71.88, 65.62, 65.62, 71.88, 71.88, 81.25, 75.0, 68.75, 78.12, 78.12, 81.25, 71.88, 71.88, 78.12, 65.62, 81.25, 81.25, 78.12, 81.25, 78.12, 68.75, 68.75, 68.75, 65.62, 71.88, 71.88, 68.75, 75.0, 71.88, 75.0, 75.0, 81.25, 78.12, 68.75]\n",
      "2025/05/01 21:06:15 INFO dspy.teleprompt.mipro_optimizer_v2: Best score so far: 81.25\n",
      "2025/05/01 21:06:15 INFO dspy.teleprompt.mipro_optimizer_v2: =========================\n",
      "\n",
      "\n",
      "2025/05/01 21:06:15 INFO dspy.teleprompt.mipro_optimizer_v2: ===== Trial 40 / 50 =====\n"
     ]
    },
    {
     "name": "stdout",
     "output_type": "stream",
     "text": [
      "\n",
      "Average Metric: 26.00 / 32 (81.2%): 100%|██████████| 32/32 [00:00<00:00, 1691.12it/s]"
     ]
    },
    {
     "name": "stderr",
     "output_type": "stream",
     "text": [
      "2025/05/01 21:06:15 INFO dspy.evaluate.evaluate: Average Metric: 26.0 / 32 (81.2%)\n",
      "2025/05/01 21:06:15 INFO dspy.teleprompt.mipro_optimizer_v2: Score: 81.25 with parameters ['Predictor 0: Instruction 30', 'Predictor 0: Few-Shot Set 35'].\n",
      "2025/05/01 21:06:15 INFO dspy.teleprompt.mipro_optimizer_v2: Scores so far: [78.12, 78.12, 65.62, 65.62, 65.62, 71.88, 65.62, 65.62, 71.88, 71.88, 81.25, 75.0, 68.75, 78.12, 78.12, 81.25, 71.88, 71.88, 78.12, 65.62, 81.25, 81.25, 78.12, 81.25, 78.12, 68.75, 68.75, 68.75, 65.62, 71.88, 71.88, 68.75, 75.0, 71.88, 75.0, 75.0, 81.25, 78.12, 68.75, 81.25]\n",
      "2025/05/01 21:06:15 INFO dspy.teleprompt.mipro_optimizer_v2: Best score so far: 81.25\n",
      "2025/05/01 21:06:15 INFO dspy.teleprompt.mipro_optimizer_v2: =========================\n",
      "\n",
      "\n",
      "2025/05/01 21:06:15 INFO dspy.teleprompt.mipro_optimizer_v2: ===== Trial 41 / 50 =====\n"
     ]
    },
    {
     "name": "stdout",
     "output_type": "stream",
     "text": [
      "\n",
      "Average Metric: 25.00 / 32 (78.1%): 100%|██████████| 32/32 [00:15<00:00,  2.02it/s]"
     ]
    },
    {
     "name": "stderr",
     "output_type": "stream",
     "text": [
      "2025/05/01 21:06:31 INFO dspy.evaluate.evaluate: Average Metric: 25.0 / 32 (78.1%)\n",
      "2025/05/01 21:06:31 INFO dspy.teleprompt.mipro_optimizer_v2: Score: 78.12 with parameters ['Predictor 0: Instruction 37', 'Predictor 0: Few-Shot Set 6'].\n",
      "2025/05/01 21:06:31 INFO dspy.teleprompt.mipro_optimizer_v2: Scores so far: [78.12, 78.12, 65.62, 65.62, 65.62, 71.88, 65.62, 65.62, 71.88, 71.88, 81.25, 75.0, 68.75, 78.12, 78.12, 81.25, 71.88, 71.88, 78.12, 65.62, 81.25, 81.25, 78.12, 81.25, 78.12, 68.75, 68.75, 68.75, 65.62, 71.88, 71.88, 68.75, 75.0, 71.88, 75.0, 75.0, 81.25, 78.12, 68.75, 81.25, 78.12]\n",
      "2025/05/01 21:06:31 INFO dspy.teleprompt.mipro_optimizer_v2: Best score so far: 81.25\n",
      "2025/05/01 21:06:31 INFO dspy.teleprompt.mipro_optimizer_v2: =========================\n",
      "\n",
      "\n",
      "2025/05/01 21:06:31 INFO dspy.teleprompt.mipro_optimizer_v2: ===== Trial 42 / 50 =====\n"
     ]
    },
    {
     "name": "stdout",
     "output_type": "stream",
     "text": [
      "\n",
      "Average Metric: 25.00 / 32 (78.1%): 100%|██████████| 32/32 [00:13<00:00,  2.31it/s]"
     ]
    },
    {
     "name": "stderr",
     "output_type": "stream",
     "text": [
      "2025/05/01 21:06:45 INFO dspy.evaluate.evaluate: Average Metric: 25.0 / 32 (78.1%)\n",
      "2025/05/01 21:06:45 INFO dspy.teleprompt.mipro_optimizer_v2: Score: 78.12 with parameters ['Predictor 0: Instruction 0', 'Predictor 0: Few-Shot Set 31'].\n",
      "2025/05/01 21:06:45 INFO dspy.teleprompt.mipro_optimizer_v2: Scores so far: [78.12, 78.12, 65.62, 65.62, 65.62, 71.88, 65.62, 65.62, 71.88, 71.88, 81.25, 75.0, 68.75, 78.12, 78.12, 81.25, 71.88, 71.88, 78.12, 65.62, 81.25, 81.25, 78.12, 81.25, 78.12, 68.75, 68.75, 68.75, 65.62, 71.88, 71.88, 68.75, 75.0, 71.88, 75.0, 75.0, 81.25, 78.12, 68.75, 81.25, 78.12, 78.12]\n",
      "2025/05/01 21:06:45 INFO dspy.teleprompt.mipro_optimizer_v2: Best score so far: 81.25\n",
      "2025/05/01 21:06:45 INFO dspy.teleprompt.mipro_optimizer_v2: =========================\n",
      "\n",
      "\n",
      "2025/05/01 21:06:45 INFO dspy.teleprompt.mipro_optimizer_v2: ===== Trial 43 / 50 =====\n"
     ]
    },
    {
     "name": "stdout",
     "output_type": "stream",
     "text": [
      "\n",
      "Average Metric: 26.00 / 32 (81.2%): 100%|██████████| 32/32 [00:00<00:00, 2490.31it/s]"
     ]
    },
    {
     "name": "stderr",
     "output_type": "stream",
     "text": [
      "2025/05/01 21:06:45 INFO dspy.evaluate.evaluate: Average Metric: 26.0 / 32 (81.2%)\n",
      "2025/05/01 21:06:45 INFO dspy.teleprompt.mipro_optimizer_v2: Score: 81.25 with parameters ['Predictor 0: Instruction 0', 'Predictor 0: Few-Shot Set 35'].\n",
      "2025/05/01 21:06:45 INFO dspy.teleprompt.mipro_optimizer_v2: Scores so far: [78.12, 78.12, 65.62, 65.62, 65.62, 71.88, 65.62, 65.62, 71.88, 71.88, 81.25, 75.0, 68.75, 78.12, 78.12, 81.25, 71.88, 71.88, 78.12, 65.62, 81.25, 81.25, 78.12, 81.25, 78.12, 68.75, 68.75, 68.75, 65.62, 71.88, 71.88, 68.75, 75.0, 71.88, 75.0, 75.0, 81.25, 78.12, 68.75, 81.25, 78.12, 78.12, 81.25]\n",
      "2025/05/01 21:06:45 INFO dspy.teleprompt.mipro_optimizer_v2: Best score so far: 81.25\n",
      "2025/05/01 21:06:45 INFO dspy.teleprompt.mipro_optimizer_v2: =========================\n",
      "\n",
      "\n",
      "2025/05/01 21:06:45 INFO dspy.teleprompt.mipro_optimizer_v2: ===== Trial 44 / 50 =====\n"
     ]
    },
    {
     "name": "stdout",
     "output_type": "stream",
     "text": [
      "\n",
      "Average Metric: 25.00 / 32 (78.1%): 100%|██████████| 32/32 [00:14<00:00,  2.18it/s]"
     ]
    },
    {
     "name": "stderr",
     "output_type": "stream",
     "text": [
      "2025/05/01 21:07:00 INFO dspy.evaluate.evaluate: Average Metric: 25.0 / 32 (78.1%)\n",
      "2025/05/01 21:07:00 INFO dspy.teleprompt.mipro_optimizer_v2: Score: 78.12 with parameters ['Predictor 0: Instruction 8', 'Predictor 0: Few-Shot Set 5'].\n",
      "2025/05/01 21:07:00 INFO dspy.teleprompt.mipro_optimizer_v2: Scores so far: [78.12, 78.12, 65.62, 65.62, 65.62, 71.88, 65.62, 65.62, 71.88, 71.88, 81.25, 75.0, 68.75, 78.12, 78.12, 81.25, 71.88, 71.88, 78.12, 65.62, 81.25, 81.25, 78.12, 81.25, 78.12, 68.75, 68.75, 68.75, 65.62, 71.88, 71.88, 68.75, 75.0, 71.88, 75.0, 75.0, 81.25, 78.12, 68.75, 81.25, 78.12, 78.12, 81.25, 78.12]\n",
      "2025/05/01 21:07:00 INFO dspy.teleprompt.mipro_optimizer_v2: Best score so far: 81.25\n",
      "2025/05/01 21:07:00 INFO dspy.teleprompt.mipro_optimizer_v2: =========================\n",
      "\n",
      "\n",
      "2025/05/01 21:07:00 INFO dspy.teleprompt.mipro_optimizer_v2: ===== Trial 45 / 50 =====\n"
     ]
    },
    {
     "name": "stdout",
     "output_type": "stream",
     "text": [
      "\n",
      "Average Metric: 20.00 / 32 (62.5%): 100%|██████████| 32/32 [00:17<00:00,  1.84it/s]"
     ]
    },
    {
     "name": "stderr",
     "output_type": "stream",
     "text": [
      "2025/05/01 21:07:17 INFO dspy.evaluate.evaluate: Average Metric: 20.0 / 32 (62.5%)\n",
      "2025/05/01 21:07:17 INFO dspy.teleprompt.mipro_optimizer_v2: Score: 62.5 with parameters ['Predictor 0: Instruction 22', 'Predictor 0: Few-Shot Set 34'].\n",
      "2025/05/01 21:07:17 INFO dspy.teleprompt.mipro_optimizer_v2: Scores so far: [78.12, 78.12, 65.62, 65.62, 65.62, 71.88, 65.62, 65.62, 71.88, 71.88, 81.25, 75.0, 68.75, 78.12, 78.12, 81.25, 71.88, 71.88, 78.12, 65.62, 81.25, 81.25, 78.12, 81.25, 78.12, 68.75, 68.75, 68.75, 65.62, 71.88, 71.88, 68.75, 75.0, 71.88, 75.0, 75.0, 81.25, 78.12, 68.75, 81.25, 78.12, 78.12, 81.25, 78.12, 62.5]\n",
      "2025/05/01 21:07:17 INFO dspy.teleprompt.mipro_optimizer_v2: Best score so far: 81.25\n",
      "2025/05/01 21:07:17 INFO dspy.teleprompt.mipro_optimizer_v2: =========================\n",
      "\n",
      "\n",
      "2025/05/01 21:07:17 INFO dspy.teleprompt.mipro_optimizer_v2: ===== Trial 46 / 50 =====\n"
     ]
    },
    {
     "name": "stdout",
     "output_type": "stream",
     "text": [
      "\n",
      "Average Metric: 25.00 / 32 (78.1%): 100%|██████████| 32/32 [00:16<00:00,  1.95it/s]"
     ]
    },
    {
     "name": "stderr",
     "output_type": "stream",
     "text": [
      "2025/05/01 21:07:33 INFO dspy.evaluate.evaluate: Average Metric: 25.0 / 32 (78.1%)\n",
      "2025/05/01 21:07:33 INFO dspy.teleprompt.mipro_optimizer_v2: Score: 78.12 with parameters ['Predictor 0: Instruction 27', 'Predictor 0: Few-Shot Set 33'].\n",
      "2025/05/01 21:07:33 INFO dspy.teleprompt.mipro_optimizer_v2: Scores so far: [78.12, 78.12, 65.62, 65.62, 65.62, 71.88, 65.62, 65.62, 71.88, 71.88, 81.25, 75.0, 68.75, 78.12, 78.12, 81.25, 71.88, 71.88, 78.12, 65.62, 81.25, 81.25, 78.12, 81.25, 78.12, 68.75, 68.75, 68.75, 65.62, 71.88, 71.88, 68.75, 75.0, 71.88, 75.0, 75.0, 81.25, 78.12, 68.75, 81.25, 78.12, 78.12, 81.25, 78.12, 62.5, 78.12]\n",
      "2025/05/01 21:07:33 INFO dspy.teleprompt.mipro_optimizer_v2: Best score so far: 81.25\n",
      "2025/05/01 21:07:33 INFO dspy.teleprompt.mipro_optimizer_v2: =========================\n",
      "\n",
      "\n",
      "2025/05/01 21:07:33 INFO dspy.teleprompt.mipro_optimizer_v2: ===== Trial 47 / 50 =====\n"
     ]
    },
    {
     "name": "stdout",
     "output_type": "stream",
     "text": [
      "\n",
      "Average Metric: 24.00 / 32 (75.0%): 100%|██████████| 32/32 [00:12<00:00,  2.59it/s]"
     ]
    },
    {
     "name": "stderr",
     "output_type": "stream",
     "text": [
      "2025/05/01 21:07:46 INFO dspy.evaluate.evaluate: Average Metric: 24.0 / 32 (75.0%)\n",
      "2025/05/01 21:07:46 INFO dspy.teleprompt.mipro_optimizer_v2: Score: 75.0 with parameters ['Predictor 0: Instruction 29', 'Predictor 0: Few-Shot Set 24'].\n",
      "2025/05/01 21:07:46 INFO dspy.teleprompt.mipro_optimizer_v2: Scores so far: [78.12, 78.12, 65.62, 65.62, 65.62, 71.88, 65.62, 65.62, 71.88, 71.88, 81.25, 75.0, 68.75, 78.12, 78.12, 81.25, 71.88, 71.88, 78.12, 65.62, 81.25, 81.25, 78.12, 81.25, 78.12, 68.75, 68.75, 68.75, 65.62, 71.88, 71.88, 68.75, 75.0, 71.88, 75.0, 75.0, 81.25, 78.12, 68.75, 81.25, 78.12, 78.12, 81.25, 78.12, 62.5, 78.12, 75.0]\n",
      "2025/05/01 21:07:46 INFO dspy.teleprompt.mipro_optimizer_v2: Best score so far: 81.25\n",
      "2025/05/01 21:07:46 INFO dspy.teleprompt.mipro_optimizer_v2: =========================\n",
      "\n",
      "\n",
      "2025/05/01 21:07:46 INFO dspy.teleprompt.mipro_optimizer_v2: ===== Trial 48 / 50 =====\n"
     ]
    },
    {
     "name": "stdout",
     "output_type": "stream",
     "text": [
      "\n",
      "Average Metric: 28.00 / 32 (87.5%): 100%|██████████| 32/32 [00:11<00:00,  2.79it/s]"
     ]
    },
    {
     "name": "stderr",
     "output_type": "stream",
     "text": [
      "2025/05/01 21:07:57 INFO dspy.evaluate.evaluate: Average Metric: 28.0 / 32 (87.5%)\n",
      "2025/05/01 21:07:57 INFO dspy.teleprompt.mipro_optimizer_v2: \u001b[92mBest full score so far!\u001b[0m Score: 87.5\n",
      "2025/05/01 21:07:57 INFO dspy.teleprompt.mipro_optimizer_v2: Score: 87.5 with parameters ['Predictor 0: Instruction 6', 'Predictor 0: Few-Shot Set 28'].\n",
      "2025/05/01 21:07:57 INFO dspy.teleprompt.mipro_optimizer_v2: Scores so far: [78.12, 78.12, 65.62, 65.62, 65.62, 71.88, 65.62, 65.62, 71.88, 71.88, 81.25, 75.0, 68.75, 78.12, 78.12, 81.25, 71.88, 71.88, 78.12, 65.62, 81.25, 81.25, 78.12, 81.25, 78.12, 68.75, 68.75, 68.75, 65.62, 71.88, 71.88, 68.75, 75.0, 71.88, 75.0, 75.0, 81.25, 78.12, 68.75, 81.25, 78.12, 78.12, 81.25, 78.12, 62.5, 78.12, 75.0, 87.5]\n",
      "2025/05/01 21:07:57 INFO dspy.teleprompt.mipro_optimizer_v2: Best score so far: 87.5\n",
      "2025/05/01 21:07:57 INFO dspy.teleprompt.mipro_optimizer_v2: =========================\n",
      "\n",
      "\n",
      "2025/05/01 21:07:57 INFO dspy.teleprompt.mipro_optimizer_v2: ===== Trial 49 / 50 =====\n"
     ]
    },
    {
     "name": "stdout",
     "output_type": "stream",
     "text": [
      "\n",
      "Average Metric: 23.00 / 32 (71.9%): 100%|██████████| 32/32 [00:14<00:00,  2.15it/s]"
     ]
    },
    {
     "name": "stderr",
     "output_type": "stream",
     "text": [
      "2025/05/01 21:08:12 INFO dspy.evaluate.evaluate: Average Metric: 23.0 / 32 (71.9%)\n",
      "2025/05/01 21:08:12 INFO dspy.teleprompt.mipro_optimizer_v2: Score: 71.88 with parameters ['Predictor 0: Instruction 4', 'Predictor 0: Few-Shot Set 26'].\n",
      "2025/05/01 21:08:12 INFO dspy.teleprompt.mipro_optimizer_v2: Scores so far: [78.12, 78.12, 65.62, 65.62, 65.62, 71.88, 65.62, 65.62, 71.88, 71.88, 81.25, 75.0, 68.75, 78.12, 78.12, 81.25, 71.88, 71.88, 78.12, 65.62, 81.25, 81.25, 78.12, 81.25, 78.12, 68.75, 68.75, 68.75, 65.62, 71.88, 71.88, 68.75, 75.0, 71.88, 75.0, 75.0, 81.25, 78.12, 68.75, 81.25, 78.12, 78.12, 81.25, 78.12, 62.5, 78.12, 75.0, 87.5, 71.88]\n",
      "2025/05/01 21:08:12 INFO dspy.teleprompt.mipro_optimizer_v2: Best score so far: 87.5\n",
      "2025/05/01 21:08:12 INFO dspy.teleprompt.mipro_optimizer_v2: =========================\n",
      "\n",
      "\n",
      "2025/05/01 21:08:12 INFO dspy.teleprompt.mipro_optimizer_v2: ===== Trial 50 / 50 =====\n"
     ]
    },
    {
     "name": "stdout",
     "output_type": "stream",
     "text": [
      "\n",
      "Average Metric: 24.00 / 32 (75.0%): 100%|██████████| 32/32 [00:22<00:00,  1.44it/s]"
     ]
    },
    {
     "name": "stderr",
     "output_type": "stream",
     "text": [
      "2025/05/01 21:08:35 INFO dspy.evaluate.evaluate: Average Metric: 24.0 / 32 (75.0%)\n",
      "2025/05/01 21:08:35 INFO dspy.teleprompt.mipro_optimizer_v2: Score: 75.0 with parameters ['Predictor 0: Instruction 6', 'Predictor 0: Few-Shot Set 37'].\n",
      "2025/05/01 21:08:35 INFO dspy.teleprompt.mipro_optimizer_v2: Scores so far: [78.12, 78.12, 65.62, 65.62, 65.62, 71.88, 65.62, 65.62, 71.88, 71.88, 81.25, 75.0, 68.75, 78.12, 78.12, 81.25, 71.88, 71.88, 78.12, 65.62, 81.25, 81.25, 78.12, 81.25, 78.12, 68.75, 68.75, 68.75, 65.62, 71.88, 71.88, 68.75, 75.0, 71.88, 75.0, 75.0, 81.25, 78.12, 68.75, 81.25, 78.12, 78.12, 81.25, 78.12, 62.5, 78.12, 75.0, 87.5, 71.88, 75.0]\n",
      "2025/05/01 21:08:35 INFO dspy.teleprompt.mipro_optimizer_v2: Best score so far: 87.5\n",
      "2025/05/01 21:08:35 INFO dspy.teleprompt.mipro_optimizer_v2: =========================\n",
      "\n",
      "\n",
      "2025/05/01 21:08:35 INFO dspy.teleprompt.mipro_optimizer_v2: ===== Trial 51 / 50 =====\n"
     ]
    },
    {
     "name": "stdout",
     "output_type": "stream",
     "text": [
      "\n",
      "Average Metric: 26.00 / 32 (81.2%): 100%|██████████| 32/32 [00:14<00:00,  2.21it/s]"
     ]
    },
    {
     "name": "stderr",
     "output_type": "stream",
     "text": [
      "2025/05/01 21:08:49 INFO dspy.evaluate.evaluate: Average Metric: 26.0 / 32 (81.2%)\n",
      "2025/05/01 21:08:49 INFO dspy.teleprompt.mipro_optimizer_v2: Score: 81.25 with parameters ['Predictor 0: Instruction 19', 'Predictor 0: Few-Shot Set 10'].\n",
      "2025/05/01 21:08:49 INFO dspy.teleprompt.mipro_optimizer_v2: Scores so far: [78.12, 78.12, 65.62, 65.62, 65.62, 71.88, 65.62, 65.62, 71.88, 71.88, 81.25, 75.0, 68.75, 78.12, 78.12, 81.25, 71.88, 71.88, 78.12, 65.62, 81.25, 81.25, 78.12, 81.25, 78.12, 68.75, 68.75, 68.75, 65.62, 71.88, 71.88, 68.75, 75.0, 71.88, 75.0, 75.0, 81.25, 78.12, 68.75, 81.25, 78.12, 78.12, 81.25, 78.12, 62.5, 78.12, 75.0, 87.5, 71.88, 75.0, 81.25]\n",
      "2025/05/01 21:08:49 INFO dspy.teleprompt.mipro_optimizer_v2: Best score so far: 87.5\n",
      "2025/05/01 21:08:49 INFO dspy.teleprompt.mipro_optimizer_v2: =========================\n",
      "\n",
      "\n",
      "2025/05/01 21:08:49 INFO dspy.teleprompt.mipro_optimizer_v2: Returning best identified program with score 87.5!\n"
     ]
    },
    {
     "name": "stdout",
     "output_type": "stream",
     "text": [
      "\n",
      "Problem testowy:\n",
      "W sklepie internetowym koszulka kosztuje 79 zł, a dostawa 12 zł. Jeśli kupimy 3 koszulki, to ile zapłacimy łącznie z dostawą?\n",
      "\n",
      "Rozumowanie:\n",
      "Najpierw obliczam koszt 3 koszulek: 3 × 79 zł = 237 zł. Następnie dodaję koszt dostawy: 237 zł + 12 zł = 249 zł.\n",
      "\n",
      "Odpowiedź:\n",
      "249 zł\n"
     ]
    }
   ],
   "source": [
    "# Tworzymy optymalizator ('teleprompter') z wykorzystaniem MIPROv2\n",
    "teleprompter = dspy.teleprompt.MIPROv2(\n",
    "    metric=validate_answer,\n",
    "    max_bootstrapped_demos=4,\n",
    "    max_labeled_demos=4,\n",
    "    auto='heavy'\n",
    ")\n",
    "\n",
    "# Optymalizujemy moduł na danych treningowych\n",
    "optimized_solver_instruction_demos = teleprompter.compile(\n",
    "    SimpleMathSolver(),\n",
    "    trainset=train_data\n",
    ")\n",
    "\n",
    "# Testowanie zoptymalizowanego modelu\n",
    "test_problem = \"W sklepie internetowym koszulka kosztuje 79 zł, a dostawa 12 zł. Jeśli kupimy 3 koszulki, to ile zapłacimy łącznie z dostawą?\"\n",
    "result = optimized_solver_instruction_demos(problem=test_problem)\n",
    "\n",
    "print(\"Problem testowy:\")\n",
    "print(test_problem)\n",
    "print(\"\\nRozumowanie:\")\n",
    "print(result.reasoning)\n",
    "print(\"\\nOdpowiedź:\")\n",
    "print(result.answer)"
   ]
  },
  {
   "cell_type": "code",
   "execution_count": 50,
   "id": "c6298e58",
   "metadata": {},
   "outputs": [
    {
     "data": {
      "text/plain": [
       "Predict(StringSignature(problem -> reasoning, answer\n",
       "    instructions='Przeczytaj uważnie podany problem matematyczny w języku polskim. Następnie rozwiąż go, przedstawiając szczegółowe rozumowanie krok po kroku, jasno wyjaśniając każdy etap obliczeń i założeń. Na końcu podaj ostateczną odpowiedź w formie liczby z odpowiednią jednostką (jeśli dotyczy), dbając o poprawność gramatyczną i zgodność z treścią zadania. Oddziel część z rozumowaniem od końcowej odpowiedzi.'\n",
       "    problem = Field(annotation=str required=True json_schema_extra={'desc': 'Problem obliczeniowy do rozwiązania', '__dspy_field_type': 'input', 'prefix': 'Problem:'})\n",
       "    reasoning = Field(annotation=str required=True json_schema_extra={'desc': 'Szczegółowe rozumowanie krok po kroku', '__dspy_field_type': 'output', 'prefix': 'Reasoning:'})\n",
       "    answer = Field(annotation=str required=True json_schema_extra={'desc': \"Końcowa odpowiedź na problem. Format to liczba z jednostką (w przypadku jednostek odmienialnych musi być podana w formie poprawnej gramatycznie, np. '2 kg jabłek', '5%' lub '8 zł').\", '__dspy_field_type': 'output', 'prefix': 'Answer:'})\n",
       "))"
      ]
     },
     "execution_count": 50,
     "metadata": {},
     "output_type": "execute_result"
    }
   ],
   "source": [
    "# Sygnatura dla predyktora\n",
    "optimized_solver_instruction_demos.predictors()[0]"
   ]
  },
  {
   "cell_type": "code",
   "execution_count": 51,
   "id": "bf7a64fc",
   "metadata": {},
   "outputs": [
    {
     "data": {
      "text/plain": [
       "[Example({'augmented': True, 'problem': 'Bilet do kina kosztuje 22 zł dla osoby dorosłej i 14 zł dla dziecka. Ile zapłaci rodzina składająca się z 2 dorosłych i 3 dzieci?', 'reasoning': 'Najpierw obliczam koszt biletów dla dorosłych: 2 osoby dorosłe × 22 zł = 44 zł.\\nNastępnie obliczam koszt biletów dla dzieci: 3 dzieci × 14 zł = 42 zł.\\nTeraz sumuję oba wyniki: 44 zł + 42 zł = 86 zł.', 'answer': '86 zł'}) (input_keys=None),\n",
       " Example({'problem': 'Jeśli 5 koszy zawiera po 8 jabłek każdy, to ile jest wszystkich jabłek?', 'reasoning': 'Aby obliczyć całkowitą liczbę jabłek, mnożę liczbę koszy przez liczbę jabłek w każdym koszu: 5 koszy × 8 jabłek = 40 jabłek.', 'answer': '40 jabłek'}) (input_keys={'problem'}),\n",
       " Example({'problem': 'Samochód przejechał 240 km w 3 godziny. Jaka była jego średnia prędkość?', 'reasoning': 'Aby obliczyć średnią prędkość, dzielę przebytą odległość przez czas: 240 km ÷ 3 h = 80 km/h.', 'answer': '80 km/h'}) (input_keys={'problem'}),\n",
       " Example({'problem': 'Na stole leży 10 jabłek. Jeśli 3 z nich są zielone, a reszta czerwona, ile jabłek jest czerwonych?', 'reasoning': 'Obliczam liczbę czerwonych jabłek: 10 jabłek - 3 zielone = 7 czerwonych.', 'answer': '7 czerwonych jabłek'}) (input_keys={'problem'})]"
      ]
     },
     "execution_count": 51,
     "metadata": {},
     "output_type": "execute_result"
    }
   ],
   "source": [
    "# Wybrane przykłady few-shot\n",
    "optimized_solver_instruction_demos.predictors()[0].demos"
   ]
  },
  {
   "cell_type": "code",
   "execution_count": 52,
   "id": "4b460c04",
   "metadata": {},
   "outputs": [
    {
     "name": "stdout",
     "output_type": "stream",
     "text": [
      "\n",
      "\n",
      "\n",
      "\n",
      "\u001b[34m[2025-05-01T21:08:52.645072]\u001b[0m\n",
      "\n",
      "\u001b[31mSystem message:\u001b[0m\n",
      "\n",
      "Your input fields are:\n",
      "1. `problem` (str): Problem obliczeniowy do rozwiązania\n",
      "Your output fields are:\n",
      "1. `reasoning` (str): Szczegółowe rozumowanie krok po kroku\n",
      "2. `answer` (str): Końcowa odpowiedź na problem. Format to liczba z jednostką (w przypadku jednostek odmienialnych musi być podana w formie poprawnej gramatycznie, np. '2 kg jabłek', '5%' lub '8 zł').\n",
      "All interactions will be structured in the following way, with the appropriate values filled in.\n",
      "\n",
      "[[ ## problem ## ]]\n",
      "{problem}\n",
      "\n",
      "[[ ## reasoning ## ]]\n",
      "{reasoning}\n",
      "\n",
      "[[ ## answer ## ]]\n",
      "{answer}\n",
      "\n",
      "[[ ## completed ## ]]\n",
      "In adhering to this structure, your objective is: \n",
      "        Przeczytaj uważnie podany problem matematyczny w języku polskim. Następnie rozwiąż go, przedstawiając szczegółowe rozumowanie krok po kroku, jasno wyjaśniając każdy etap obliczeń i założeń. Na końcu podaj ostateczną odpowiedź w formie liczby z odpowiednią jednostką (jeśli dotyczy), dbając o poprawność gramatyczną i zgodność z treścią zadania. Oddziel część z rozumowaniem od końcowej odpowiedzi.\n",
      "\n",
      "\n",
      "\u001b[31mUser message:\u001b[0m\n",
      "\n",
      "[[ ## problem ## ]]\n",
      "Bilet do kina kosztuje 22 zł dla osoby dorosłej i 14 zł dla dziecka. Ile zapłaci rodzina składająca się z 2 dorosłych i 3 dzieci?\n",
      "\n",
      "\n",
      "\u001b[31mAssistant message:\u001b[0m\n",
      "\n",
      "[[ ## reasoning ## ]]\n",
      "Najpierw obliczam koszt biletów dla dorosłych: 2 osoby dorosłe × 22 zł = 44 zł.\n",
      "Następnie obliczam koszt biletów dla dzieci: 3 dzieci × 14 zł = 42 zł.\n",
      "Teraz sumuję oba wyniki: 44 zł + 42 zł = 86 zł.\n",
      "\n",
      "[[ ## answer ## ]]\n",
      "86 zł\n",
      "\n",
      "\n",
      "\u001b[31mUser message:\u001b[0m\n",
      "\n",
      "[[ ## problem ## ]]\n",
      "Jeśli 5 koszy zawiera po 8 jabłek każdy, to ile jest wszystkich jabłek?\n",
      "\n",
      "\n",
      "\u001b[31mAssistant message:\u001b[0m\n",
      "\n",
      "[[ ## reasoning ## ]]\n",
      "Aby obliczyć całkowitą liczbę jabłek, mnożę liczbę koszy przez liczbę jabłek w każdym koszu: 5 koszy × 8 jabłek = 40 jabłek.\n",
      "\n",
      "[[ ## answer ## ]]\n",
      "40 jabłek\n",
      "\n",
      "\n",
      "\u001b[31mUser message:\u001b[0m\n",
      "\n",
      "[[ ## problem ## ]]\n",
      "Samochód przejechał 240 km w 3 godziny. Jaka była jego średnia prędkość?\n",
      "\n",
      "\n",
      "\u001b[31mAssistant message:\u001b[0m\n",
      "\n",
      "[[ ## reasoning ## ]]\n",
      "Aby obliczyć średnią prędkość, dzielę przebytą odległość przez czas: 240 km ÷ 3 h = 80 km/h.\n",
      "\n",
      "[[ ## answer ## ]]\n",
      "80 km/h\n",
      "\n",
      "\n",
      "\u001b[31mUser message:\u001b[0m\n",
      "\n",
      "[[ ## problem ## ]]\n",
      "Na stole leży 10 jabłek. Jeśli 3 z nich są zielone, a reszta czerwona, ile jabłek jest czerwonych?\n",
      "\n",
      "\n",
      "\u001b[31mAssistant message:\u001b[0m\n",
      "\n",
      "[[ ## reasoning ## ]]\n",
      "Obliczam liczbę czerwonych jabłek: 10 jabłek - 3 zielone = 7 czerwonych.\n",
      "\n",
      "[[ ## answer ## ]]\n",
      "7 czerwonych jabłek\n",
      "\n",
      "\n",
      "\u001b[31mUser message:\u001b[0m\n",
      "\n",
      "[[ ## problem ## ]]\n",
      "W sklepie internetowym koszulka kosztuje 79 zł, a dostawa 12 zł. Jeśli kupimy 3 koszulki, to ile zapłacimy łącznie z dostawą?\n",
      "\n",
      "Respond with the corresponding output fields, starting with the field `[[ ## reasoning ## ]]`, then `[[ ## answer ## ]]`, and then ending with the marker for `[[ ## completed ## ]]`.\n",
      "\n",
      "\n",
      "\u001b[31mResponse:\u001b[0m\n",
      "\n",
      "\u001b[32m[[ ## reasoning ## ]]\n",
      "Najpierw obliczam koszt 3 koszulek: 3 × 79 zł = 237 zł. Następnie dodaję koszt dostawy: 237 zł + 12 zł = 249 zł.\n",
      "\n",
      "[[ ## answer ## ]]\n",
      "249 zł\n",
      "\n",
      "[[ ## completed ## ]]\u001b[0m\n",
      "\n",
      "\n",
      "\n",
      "\n",
      "\n"
     ]
    }
   ],
   "source": [
    "# wyświetlmy przykładowy prompt\n",
    "dspy.inspect_history(n=1)"
   ]
  },
  {
   "cell_type": "markdown",
   "id": "e8255016",
   "metadata": {},
   "source": [
    "## Dodatkowe zasoby\n",
    "\n",
    "- [Oficjalna dokumentacja DSPy](https://dspy-docs.vercel.app/)\n",
    "- [Repozytorium GitHub](https://github.com/stanfordnlp/dspy)\n",
    "- [Artykuł naukowy o DSPy](https://arxiv.org/abs/2310.03714)"
   ]
  },
  {
   "cell_type": "markdown",
   "id": "b3d107a1",
   "metadata": {},
   "source": []
  }
 ],
 "metadata": {
  "kernelspec": {
   "display_name": "genai_venv",
   "language": "python",
   "name": "python3"
  },
  "language_info": {
   "codemirror_mode": {
    "name": "ipython",
    "version": 3
   },
   "file_extension": ".py",
   "mimetype": "text/x-python",
   "name": "python",
   "nbconvert_exporter": "python",
   "pygments_lexer": "ipython3",
   "version": "3.11.2"
  }
 },
 "nbformat": 4,
 "nbformat_minor": 5
}
