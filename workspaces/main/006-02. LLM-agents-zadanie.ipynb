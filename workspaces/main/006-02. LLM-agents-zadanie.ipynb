{
 "cells": [
  {
   "cell_type": "markdown",
   "id": "9e935512",
   "metadata": {},
   "source": [
    "# Zadanie - Agent generujący obrazy\n",
    "\n",
    "## Wprowadzenie\n",
    "\n",
    "W ramach tego zadania stworzysz agenta AI, który będzie generował obrazy na podstawie tekstu wprowadzonego przez użytkownika. Agent będzie korzystał z biblioteki Pydantic AI do obsługi zapytań i wykorzysta model Stable Diffusion 3.5 do generowania obrazów.\n",
    "\n",
    "## Cel zadania\n",
    "\n",
    "Celem zadania jest stworzenie agenta, który:\n",
    "\n",
    "1. Przyjmie od użytkownika tekstowy opis obrazu\n",
    "2. Na podstawie opisu wygeneruje zarówno pozytywny, jak i negatywny prompt dla modelu obrazowego\n",
    "3. Wykorzysta tool do generowania obrazu przy użyciu modelu Stable Diffusion 3.5\n",
    "4. Zapisze wygenerowany obraz w katalogu `006-02. Agents-zadanie-working_dir` z nazwą odpowiadającą treści obrazu\n",
    "5. Zwróci użytkownikowi informację o wygenerowanym obrazie i jego lokalizacji\n",
    "\n",
    "## Wymagania techniczne\n",
    "\n",
    "1. Wykorzystaj bibliotekę `pydantic_ai` do stworzenia agenta\n",
    "2. Agent niech korzysta z GPT-4.1\n",
    "3. Do generowania obrazów użyj modelu `stabilityai/stable-diffusion-3.5-large` poprzez `InferenceClient()` z biblioteki `huggingface_hub`\n",
    "4. Tool generujący obrazy powinien akceptować następujące parametry:\n",
    "   - Tekstowy opis obrazu - prompt\n",
    "   - Tekstowy opis elementów niepożądanych - negative prompt\n",
    "   - Opcjonalnie: szerokość i wysokość obrazu (domyślnie 800x592)\n",
    "\n",
    "## Wskazówki\n",
    "\n",
    "1. Przykład korzystania z Pydantic AI znajduje się w pliku `006-01. LLM-agents.ipynb`\n",
    "2. Przykład wykorzystania Stable Diffusion 3.5 znajduje się w pliku `002-01. Stable Diffusion.ipynb`"
   ]
  },
  {
   "cell_type": "markdown",
   "id": "c92b5ec3",
   "metadata": {},
   "source": []
  }
 ],
 "metadata": {
  "language_info": {
   "name": "python"
  }
 },
 "nbformat": 4,
 "nbformat_minor": 5
}
