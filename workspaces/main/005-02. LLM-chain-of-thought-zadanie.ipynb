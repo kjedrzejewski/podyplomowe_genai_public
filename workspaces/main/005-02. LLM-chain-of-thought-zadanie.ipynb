{
 "cells": [
  {
   "cell_type": "markdown",
   "id": "44488901",
   "metadata": {},
   "source": [
    "# Chain of Thought - Zadanie\n",
    "\n",
    "W tym zadaniu będziesz pracować z techniką **Chain of Thought** (łańcuch myśli), która pozwala LLMom rozwiązywać złożone problemy poprzez rozbicie ich na sekwencję logicznych kroków myślowych.\n",
    "\n",
    "## Cel zadania\n",
    "\n",
    "Twoim zadaniem jest stworzenie rozwiązania, które wykorzystuje technikę chain-of-thought w połączeniu z **structured outputs** do rozwiązywania zagadek logicznych. Twoje rozwiązanie powinno:\n",
    "\n",
    "1. Przyjmować dowolną zagadkę jako wejście (przykład znajduje się w zmiennej `zagadka`)\n",
    "2. Rozwiązqć zagadkę techniką chain-of-thought, gdzie model rozwiązuje problem krok po kroku\n",
    "3. Wymuszać strukturę rozumowania poprzez zastosowanie modeli Pydantic (structured outputs jak w `004-01. LLM-structured_outputs.ipynb`)\n",
    "4. Działać dla różnych typów zagadek (nie tylko dla konkretnej zagadki z przykładu)"
   ]
  },
  {
   "cell_type": "code",
   "execution_count": null,
   "id": "0ee21c43",
   "metadata": {},
   "outputs": [],
   "source": [
    "zagadka = \"\"\"\n",
    "Anna, Bartek, Cecylia i Damian stoją w kolejce. Wiemy, że:\n",
    "1. Bartek stoi gdzieś przed Cecylią.\n",
    "2. Damian nie stoi na pierwszym ani ostatnim miejscu.\n",
    "3. Anna nie stoi bezpośrednio obok Bartka.\n",
    "4. Anna nie stoi bezpośrednio obok Damiana.\n",
    "\n",
    "W jakiej kolejności stoją?\n",
    "\"\"\""
   ]
  }
 ],
 "metadata": {
  "language_info": {
   "name": "python"
  }
 },
 "nbformat": 4,
 "nbformat_minor": 5
}
