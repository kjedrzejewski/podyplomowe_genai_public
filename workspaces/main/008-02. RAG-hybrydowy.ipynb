{
 "cells": [
  {
   "cell_type": "markdown",
   "id": "65652baa",
   "metadata": {},
   "source": [
    "# RAG Hybrydowy z Weaviate\n",
    "\n",
    "W tym notebooku zaimplementujemy hybrydowy system RAG (Retrieval-Augmented Generation) używając Weaviate jako bazy wektorowej oraz wyszukiwarki opartej o BM25. Wykorzystamy dane z ulotek lekarstw znajdujące się w folderze \"008-02. RAG-data/drug-data\".\n",
    "\n",
    "W tym przypadku hybrydowy RAG łączy wyszukiwanie wektorowe z wyszukiwaniem keywordowym (opartym o słowa kluczowe, BM25), co pozwala na lepsze dopasowanie wyników wyszukiwania."
   ]
  },
  {
   "cell_type": "markdown",
   "id": "548a6ae3",
   "metadata": {},
   "source": [
    "## Import wymaganych bibliotek"
   ]
  },
  {
   "cell_type": "code",
   "execution_count": null,
   "id": "88ee5aa9",
   "metadata": {},
   "outputs": [],
   "source": [
    "import os\n",
    "import glob\n",
    "from typing import List\n",
    "import weaviate\n",
    "from weaviate.connect import ConnectionParams\n",
    "from weaviate.classes.init import AdditionalConfig, Timeout\n",
    "import weaviate.classes as wvc\n",
    "from pydantic import BaseModel, Field\n",
    "from tqdm import tqdm\n",
    "from enum import Enum\n",
    "from openai import OpenAI\n",
    "import glob\n",
    "import pickle"
   ]
  },
  {
   "cell_type": "markdown",
   "id": "64ddbaec",
   "metadata": {},
   "source": [
    "## Połączenie z API Open AI"
   ]
  },
  {
   "cell_type": "code",
   "execution_count": null,
   "id": "06d14d63",
   "metadata": {},
   "outputs": [],
   "source": [
    "api_key = os.getenv('OPENAI_API_KEY')\n",
    "openai_client = OpenAI(api_key=api_key)"
   ]
  },
  {
   "cell_type": "markdown",
   "id": "2d51e4e9",
   "metadata": {},
   "source": [
    "## Definicja modeli Pydantic\n",
    "\n",
    "Użyjemy Pydantic do definicji schematów dla ekstrakcji sekcji ulotki."
   ]
  },
  {
   "cell_type": "code",
   "execution_count": null,
   "id": "42f55ef8",
   "metadata": {},
   "outputs": [],
   "source": [
    "class DrugSectionType(str, Enum):\n",
    "    \"\"\"Typy sekcji w ulotkach leków\"\"\"\n",
    "    SKŁAD = \"SKŁAD\"\n",
    "    WSKAZANIA = \"WSKAZANIA\"\n",
    "    DAWKOWANIE = \"DAWKOWANIE\"\n",
    "    PRZECIWWSKAZANIA = \"PRZECIWWSKAZANIA\"\n",
    "    ŚRODKI_OSTROŻNOŚCI = \"ŚRODKI OSTROŻNOŚCI\"\n",
    "    DZIAŁANIA_NIEPOŻĄDANE = \"DZIAŁANIA NIEPOŻĄDANE\"\n",
    "    PRZECHOWYWANIE = \"PRZECHOWYWANIE\"\n",
    "    PRODUCENT = \"PRODUCENT\"\n",
    "    CENA = \"CENA\"\n",
    "    INTERAKCJE = \"INTERAKCJE\"\n",
    "    INNE = \"INNE\"\n",
    "    \n",
    "    @classmethod\n",
    "    def from_text(cls, text: str) -> 'DrugSectionType':\n",
    "        \"\"\"Konwertuje tekst na odpowiadający typ sekcji\"\"\"\n",
    "        text = text.strip().upper()\n",
    "        \n",
    "        if \"SKŁAD\" in text:\n",
    "            return cls.SKŁAD\n",
    "        elif \"WSKAZANIA\" in text:\n",
    "            return cls.WSKAZANIA\n",
    "        elif \"DAWKOWANIE\" in text:\n",
    "            return cls.DAWKOWANIE\n",
    "        elif \"PRZECIWWSKAZANIA\" in text:\n",
    "            return cls.PRZECIWWSKAZANIA\n",
    "        elif \"ŚRODKI_OSTROŻNOŚCI\" in text:\n",
    "            return cls.ŚRODKI_OSTROŻNOŚCI\n",
    "        elif \"DZIAŁANIA_NIEPOŻĄDANE\" in text:\n",
    "            return cls.DZIAŁANIA_NIEPOŻĄDANE\n",
    "        elif \"PRZECHOWYWANIE\" in text:\n",
    "            return cls.PRZECHOWYWANIE\n",
    "        elif \"PRODUCENT\" in text:\n",
    "            return cls.PRODUCENT\n",
    "        elif \"CENA\" in text:\n",
    "            return cls.CENA\n",
    "        elif \"INTERAKCJE\" in text:\n",
    "            return cls.INTERAKCJE\n",
    "        else:\n",
    "            return cls.INNE"
   ]
  },
  {
   "cell_type": "code",
   "execution_count": null,
   "id": "6d1d0945",
   "metadata": {},
   "outputs": [],
   "source": [
    "class DrugSection(BaseModel):\n",
    "    \"\"\"Model dla pojedynczej sekcji informacji o leku\"\"\"\n",
    "    section_name: DrugSectionType = Field(..., description=\"Nazwa sekcji (SKŁAD, WSKAZANIA, DAWKOWANIE, PRZECIWWSKAZANIA, ŚRODKI_OSTROŻNOŚCI, DZIAŁANIA_NIEPOŻĄDANE, PRZECHOWYWANIE, PRODUCENT, CENA, INTERAKCJE, INNE)\")\n",
    "    content: str = Field(..., description=\"Treść sekcji zawierająca informacje o tym aspekcie leku\")\n",
    "    questions: List[str] = Field(..., description=\"Lista 2-30 pytań, na które odpowiada dana sekcja. Pytania muszą być różnorodne i dotyczyć różnych aspektów leku, i wymieniać lek z nazwy.\")\n",
    "\n",
    "class DrugLeaflet(BaseModel):\n",
    "    \"\"\"Model dla całej ulotki leku podzielonej na sekcje z pytaniami\"\"\"\n",
    "    drug_name: str = Field(..., description=\"Pełna nazwa leku wraz z dawką i postacią\")\n",
    "    sections: List[DrugSection] = Field(..., description=\"Lista sekcji zawierających informacje o leku wraz z pytaniami\")"
   ]
  },
  {
   "cell_type": "markdown",
   "id": "7c885941",
   "metadata": {},
   "source": [
    "## Funkcje do przetwarzania danych o lekach"
   ]
  },
  {
   "cell_type": "code",
   "execution_count": null,
   "id": "40923007",
   "metadata": {},
   "outputs": [],
   "source": [
    "def read_drug_leaflet(file_path):\n",
    "    \"\"\"Odczytuje plik z ulotką leku\"\"\"\n",
    "    with open(file_path, 'r', encoding='utf-8') as file:\n",
    "        content = file.read()\n",
    "    return content\n",
    "\n",
    "def extract_sections_and_questions_with_llm(content):\n",
    "    \"\"\"Ekstrahuje sekcje z ulotki leku i generuje pytania za pomocą GPT-4.1-mini (jedno zapytanie)\"\"\"\n",
    "    # Define system and user prompts with triple quotes for better readability\n",
    "    system_prompt = \"\"\"\n",
    "        Jesteś ekspertem w analizowaniu ulotek leków. Twoim zadaniem jest \n",
    "        wyekstrahować poszczególne sekcje z ulotki leku i dla każdej sekcji wygenerować zestaw pytań, \n",
    "        na które ta sekcja odpowiada. Upewnij się, że treść każdej sekcji jest kompletna i nie zawiera \n",
    "        elementów formatowania.\n",
    "        \n",
    "        Dla każdej sekcji wygeneruj 2-30 różnorodnych pytań, które mogą zadać \n",
    "        pacjenci lub lekarze. Pytania powinny być konkretne i wymieniać lek z nazwy, a najlepiej też odwoływać się \n",
    "        do jednego z faktów z treści, której dotyczą, np.:\n",
    "        - Jakie są składniki leku X?\n",
    "        - Czy lek x może być stosowany dłużej niż 3 dni?\n",
    "        - Czy lek X można stosować w ciąży?\n",
    "        - Czy lek X może powodować mdłości?\n",
    "    \"\"\"\n",
    "    \n",
    "    user_prompt = f\"\"\"\n",
    "        Oto ulotka leku. Wyekstrahuj wszystkie sekcje, ich treść, oraz \n",
    "        stwórz dla każdej sekcji listę pytań, na które ta sekcja odpowiada:\n",
    "        ---\n",
    "        {content}\n",
    "    \"\"\"\n",
    "    \n",
    "    # Make the API call\n",
    "    response = openai_client.beta.chat.completions.parse(\n",
    "        model=\"gpt-4.1-mini\",\n",
    "        response_format=DrugLeaflet,\n",
    "        messages=[\n",
    "            {\"role\": \"system\", \"content\": system_prompt},\n",
    "            {\"role\": \"user\", \"content\": user_prompt}\n",
    "        ],\n",
    "        temperature=0.4,\n",
    "        max_tokens=32768\n",
    "    )\n",
    "    \n",
    "    return response.choices[0].message.parsed"
   ]
  },
  {
   "cell_type": "markdown",
   "id": "56c0be9b",
   "metadata": {},
   "source": [
    "### Test generowania sekcji i pytań"
   ]
  },
  {
   "cell_type": "code",
   "execution_count": null,
   "id": "7fcfb6ab",
   "metadata": {},
   "outputs": [],
   "source": [
    "drug_files = glob.glob(\"008-02. RAG-data/drug-data/*.txt\")\n",
    "\n",
    "test_file = drug_files[0]\n",
    "file_name = os.path.basename(test_file)\n",
    "\n",
    "print(f\"Testowanie na pliku: {file_name}\")\n",
    "\n",
    "# Odczytaj ulotkę leku\n",
    "content = read_drug_leaflet(test_file)\n",
    "print(f\"Zawartość ulotki (pierwsze 200 znaków): {content[:200]}...\\n\")\n",
    "\n",
    "# Ekstrahuj sekcje i generuj dla nich pytania za pomocą LLMa\n",
    "print(\"Ekstrahowanie sekcji za pomocą LLMa...\")\n",
    "leaflet = extract_sections_and_questions_with_llm(content)\n",
    "\n",
    "print(leaflet.model_dump_json(indent=4))"
   ]
  },
  {
   "cell_type": "markdown",
   "id": "bb0c9291",
   "metadata": {},
   "source": [
    "## Przetworzenie danych na format do załadowania do Weaviate\n",
    "\n",
    "Funkcja przetwarzająca ulotki na dane do załadowania do bazy Weaviate"
   ]
  },
  {
   "cell_type": "code",
   "execution_count": null,
   "id": "cdfa6bf4",
   "metadata": {},
   "outputs": [],
   "source": [
    "# Inicjalizacja globalnych zmiennych\n",
    "all_data_objects = []\n",
    "processed_files = set()\n",
    "\n",
    "\n",
    "def create_drug_info_object(drug_name, section_name, content, questions):\n",
    "    \"\"\"Tworzy obiekt informacji o leku do zapisania w Weaviate\"\"\"\n",
    "    return {\n",
    "        \"drug_name\": drug_name,\n",
    "        \"section_name\": section_name,\n",
    "        \"content\": content,\n",
    "        \"questions\": questions\n",
    "    }\n",
    "\n",
    "def process_drug_leaflets_to_data_objects():\n",
    "    \"\"\"Przetwarza ulotki leków na data_objecty we właściwym formacie do załadowania do Weaviate.\n",
    "    Pomija pliki, które zostały już przetworzone w poprzednich wywołaniach.\n",
    "    Aktualizuje globalne zmienne all_data_objects i processed_files.\n",
    "    \"\"\"\n",
    "    global all_data_objects, processed_files\n",
    "    \n",
    "    drug_files = glob.glob(\"008-02. RAG-data/drug-data/*.txt\")\n",
    "    files_to_process = [file for file in drug_files if file not in processed_files]\n",
    "    \n",
    "    if not files_to_process:\n",
    "        print(\"Wszystkie pliki zostały już przetworzone.\")\n",
    "        return\n",
    "    \n",
    "    # Użycie tqdm do wizualizacji postępu\n",
    "    for file_path in tqdm(files_to_process, desc=\"Przetwarzanie ulotek leków\"):\n",
    "        # Odczytaj ulotkę leku\n",
    "        content = read_drug_leaflet(file_path)\n",
    "        \n",
    "        # Ekstrahuj sekcje\n",
    "        leaflet = extract_sections_and_questions_with_llm(content)\n",
    "        \n",
    "        # Przetwarzanie każdej sekcji\n",
    "        for section in tqdm(leaflet.sections, desc=f\"Sekcje {leaflet.drug_name}\", leave=False):\n",
    "            # Utwórz obiekt danych\n",
    "            data_object = create_drug_info_object(\n",
    "                drug_name=leaflet.drug_name,\n",
    "                section_name=section.section_name.value,\n",
    "                content=section.content,\n",
    "                questions=section.questions\n",
    "            )\n",
    "            \n",
    "            # Dodajemy obiekt do listy\n",
    "            all_data_objects.append(data_object)\n",
    "        \n",
    "        # Oznaczamy plik jako przetworzony\n",
    "        processed_files.add(file_path)\n",
    "    \n",
    "    print(f\"Zakończono przetwarzanie. Łącznie {len(all_data_objects)} obiektów danych w pamięci.\")"
   ]
  },
  {
   "cell_type": "code",
   "execution_count": null,
   "id": "760fcf37",
   "metadata": {},
   "outputs": [],
   "source": [
    "process_drug_leaflets_to_data_objects()"
   ]
  },
  {
   "cell_type": "code",
   "execution_count": null,
   "id": "5b7695a3",
   "metadata": {},
   "outputs": [],
   "source": [
    "\n",
    "all_data_objects"
   ]
  },
  {
   "cell_type": "code",
   "execution_count": null,
   "id": "4fd199a3",
   "metadata": {},
   "outputs": [],
   "source": [
    "with open(\"008-02. RAG-data/drug-data.pkl\", \"wb\") as f:\n",
    "    pickle.dump(all_data_objects, f)"
   ]
  },
  {
   "cell_type": "code",
   "execution_count": null,
   "id": "954b730a",
   "metadata": {},
   "outputs": [],
   "source": [
    "with open(\"008-02. RAG-data/drug-data.pkl\", \"rb\") as f:\n",
    "    all_data_objects = pickle.load(f)"
   ]
  },
  {
   "cell_type": "markdown",
   "id": "4deb4a92",
   "metadata": {},
   "source": [
    "## Połączenie z serwerem Weaviate"
   ]
  },
  {
   "cell_type": "code",
   "execution_count": null,
   "id": "4d4474ef",
   "metadata": {},
   "outputs": [],
   "source": [
    "# Określenie adresu serwera Weaviate\n",
    "weaviate_host = \"weaviate\" # skonfigurowany w docker-compose\n",
    "weaviate_port_http = 8080\n",
    "weaviate_port_grpc = 50051\n",
    "\n",
    "# Próba połączenia z serwerem Weaviate\n",
    "weaviate_client = weaviate.WeaviateClient(\n",
    "    connection_params=ConnectionParams.from_params(\n",
    "        http_host=weaviate_host,\n",
    "        http_port=weaviate_port_http,\n",
    "        http_secure=False,  # Używamy nieszyfrowanego połączenia HTTP\n",
    "        grpc_host=weaviate_host,\n",
    "        grpc_port=weaviate_port_grpc,\n",
    "        grpc_secure=False,  # Używamy nieszyfrowanego połączenia gRPC\n",
    "    ),\n",
    "    # Bez klucza API, ponieważ łączymy się do lokalnego serwera\n",
    "    additional_config=AdditionalConfig(\n",
    "        timeout=Timeout(init=30, query=60, insert=120),  # Wartości w sekundach\n",
    "    ),\n",
    "    skip_init_checks=False\n",
    ")\n",
    "\n",
    "# Jawne połączenie z serwerem\n",
    "weaviate_client.connect()\n",
    "print(\"Połączono z serwerem Weaviate.\")"
   ]
  },
  {
   "cell_type": "markdown",
   "id": "a5905da8",
   "metadata": {},
   "source": [
    "## Definicja schemy Weaviate dla danych lekarstw\n",
    "\n",
    "Stworzymy klasę `DrugInfo` w Weaviate do przechowywania informacji o lekach."
   ]
  },
  {
   "cell_type": "code",
   "execution_count": null,
   "id": "660a8d78",
   "metadata": {},
   "outputs": [],
   "source": [
    "weaviate_client.collections.list_all()"
   ]
  },
  {
   "cell_type": "code",
   "execution_count": null,
   "id": "66c9e5e5",
   "metadata": {},
   "outputs": [],
   "source": [
    "# usunięcie istniejącej kolekcji, jeśli istnieje\n",
    "weaviate_client.collections.delete(\"DrugInfo\")"
   ]
  },
  {
   "cell_type": "code",
   "execution_count": null,
   "id": "7a745cdb",
   "metadata": {},
   "outputs": [],
   "source": [
    "# Tworzenie kolekcji dla informacji o lekach\n",
    "drug_info_collection = weaviate_client.collections.create(\n",
    "    name=\"DrugInfo\",\n",
    "    description=\"Informacje o leku pochodzące z ulotki\",\n",
    "    vectorizer_config=weaviate.classes.config.Configure.Vectorizer.text2vec_transformers(),\n",
    "    properties=[\n",
    "        weaviate.classes.config.Property(\n",
    "            name=\"drug_name\",\n",
    "            data_type=weaviate.classes.config.DataType.TEXT,\n",
    "            description=\"Nazwa leku\",\n",
    "            skip_vectorization=True, # nie wektoryzujemy nazwy leku\n",
    "            index_filterable=True,\n",
    "            index_searchable=True,\n",
    "            tokenization=weaviate.classes.config.Tokenization.TRIGRAM # tokenizacja w 3-gramy, dzięki czemu możemy dopasować formy fleksyjne\n",
    "            # Np. 'paracetamol' zostanie podzielony na: \"par\", \"ara\", \"rac\", \"ace\", \"cet\", \"eta\", \"tam\", \"amo\", \"mol\"\n",
    "        ),\n",
    "        weaviate.classes.config.Property(\n",
    "            name=\"section_name\",\n",
    "            data_type=weaviate.classes.config.DataType.TEXT,\n",
    "            description=\"Nazwa sekcji ulotki leku\",\n",
    "            skip_vectorization=False,\n",
    "            index_filterable=True,\n",
    "            index_searchable=True\n",
    "        ),\n",
    "        weaviate.classes.config.Property(\n",
    "            name=\"content\",\n",
    "            data_type=weaviate.classes.config.DataType.TEXT,\n",
    "            description=\"Treść sekcji\",\n",
    "            skip_vectorization=False,\n",
    "            index_filterable=True,\n",
    "            index_searchable=True\n",
    "        ),\n",
    "        weaviate.classes.config.Property(\n",
    "            name=\"questions\",\n",
    "            data_type=weaviate.classes.config.DataType.TEXT_ARRAY,\n",
    "            description=\"Pytania, na które odpowiada ten fragment\",\n",
    "            skip_vectorization=False,\n",
    "            index_filterable=True,\n",
    "            index_searchable=True\n",
    "        )\n",
    "    ],\n",
    "    vector_index_config=weaviate.classes.config.Configure.VectorIndex.hnsw(\n",
    "        distance_metric=weaviate.classes.config.VectorDistances.COSINE\n",
    "    )\n",
    ")\n",
    "print(\"Pomyślnie utworzono kolekcję DrugInfo w Weaviate.\")"
   ]
  },
  {
   "cell_type": "markdown",
   "id": "371b1426",
   "metadata": {},
   "source": [
    "## Ładowanie danych lekarstw do Weaviate\n",
    "\n",
    "Funkcja ładująca wszystkie dane o lekach do Weaviate."
   ]
  },
  {
   "cell_type": "code",
   "execution_count": null,
   "id": "df32440b",
   "metadata": {},
   "outputs": [],
   "source": [
    "def load_data_objects_to_weaviate(data_objects=None):\n",
    "    \"\"\"Ładuje data_objecty do Weaviate.\n",
    "    \n",
    "    Args:\n",
    "        data_objects (List, optional): Lista data_objectów do załadowania.\n",
    "    \"\"\"\n",
    "\n",
    "    collection = weaviate_client.collections.get(\"DrugInfo\")\n",
    "    \n",
    "    # Ładowanie danych do Weaviate z użyciem dynamicznego batchingu\n",
    "    with collection.batch.dynamic() as batch:\n",
    "        for data_object in tqdm(data_objects, desc=\"Ładowanie danych do Weaviate\"):\n",
    "            # Dodajemy obiekt do batcha\n",
    "            batch.add_object(properties=data_object)\n",
    "    \n",
    "    print(f\"Zakończono ładowanie {len(data_objects)} obiektów danych do Weaviate.\")"
   ]
  },
  {
   "cell_type": "code",
   "execution_count": null,
   "id": "5ec7be30",
   "metadata": {},
   "outputs": [],
   "source": [
    "load_data_objects_to_weaviate(all_data_objects)"
   ]
  },
  {
   "cell_type": "markdown",
   "id": "8b7bd8b5",
   "metadata": {},
   "source": [
    "## Funkcje do wyszukiwania w RAG-u hybrydowym"
   ]
  },
  {
   "cell_type": "code",
   "execution_count": null,
   "id": "b97f7abf",
   "metadata": {},
   "outputs": [],
   "source": [
    "def hybrid_search(query, limit=10):\n",
    "    \"\"\"Wykonuje hybrydowe wyszukiwanie w Weaviate\n",
    "    \n",
    "    Args:\n",
    "        query: Zapytanie do wyszukania\n",
    "        limit: Liczba wyników do zwrócenia\n",
    "        \n",
    "    Returns:\n",
    "        Lista słowników zawierających znalezione obiekty\n",
    "    \"\"\"\n",
    "    collection = weaviate_client.collections.get(\"DrugInfo\")\n",
    "\n",
    "    query_results = collection.query.hybrid(\n",
    "        query=query,\n",
    "        alpha=0.5,  # 50% wektory, 50% bm25 (słowa kluczowe)\n",
    "        query_properties=[\"drug_name\", \"content\", \"questions\"],\n",
    "        return_metadata=wvc.query.MetadataQuery(score=True, explain_score=True),\n",
    "        limit=limit\n",
    "    )\n",
    "    \n",
    "    # Przekształć wyniki z formatu obiektowego na listę słowników\n",
    "    formatted_results = []\n",
    "    for obj in query_results.objects:\n",
    "        formatted_results.append({\n",
    "            'drug_name': obj.properties.get('drug_name', ''),\n",
    "            'section_name': obj.properties.get('section_name', ''),\n",
    "            'content': obj.properties.get('content', ''),\n",
    "            'questions': obj.properties.get('questions', []),\n",
    "            'score': obj.metadata.score,\n",
    "            'explained_score': obj.metadata.explain_score,\n",
    "        })\n",
    "    \n",
    "    return formatted_results"
   ]
  },
  {
   "cell_type": "code",
   "execution_count": null,
   "id": "69c5253d",
   "metadata": {},
   "outputs": [],
   "source": [
    "hybrid_search(\"skutki uboczne Gastropril\")"
   ]
  },
  {
   "cell_type": "markdown",
   "id": "90dc6148",
   "metadata": {},
   "source": [
    "## Prosta funkcja opakowująca całość RAGa\n",
    "\n",
    "Teraz stworzymy funkcję, która połączy wszystkie komponenty naszego hybrydowego systemu RAG. Funkcja ta pobierze zapytanie użytkownika, wykona wyszukiwanie hybrydowe w bazie Weaviate, a następnie użyje modelu językowego do wygenerowania odpowiedzi na podstawie znalezionych informacji o lekach."
   ]
  },
  {
   "cell_type": "code",
   "execution_count": null,
   "id": "aa2fdc1a",
   "metadata": {},
   "outputs": [],
   "source": [
    "def ask_drug_rag(query, limit=5):\n",
    "    \"\"\"Zadaje pytanie do systemu RAG i wyświetla wyniki wraz z odpowiedzią wygenerowaną przez GPT\"\"\"\n",
    "    results = hybrid_search(query, limit=limit)\n",
    "    \n",
    "    # Przygotowanie kontekstu dla GPT\n",
    "    context = \"\"\n",
    "    for i, result in enumerate(results, 1):\n",
    "        context += f\"\\nŹródło {i}:\\n\"\n",
    "        context += f\"Lek: {result['drug_name']}\\n\"\n",
    "        context += f\"Sekcja: {result['section_name']}\\n\"\n",
    "        context += f\"Treść: {result['content']}\\n\"\n",
    "    \n",
    "    # Definicja promptów\n",
    "    system_prompt = \"Jesteś asystentem medycznym specjalizującym się w informacjach o lekach. \" \\\n",
    "                    \"Odpowiadaj zwięźle, rzeczowo i profesjonalnie, bazując wyłącznie na dostarczonych informacjach. \" \\\n",
    "                    \"Jeśli nie masz wystarczających danych, przyznaj to otwarcie.\"\n",
    "    \n",
    "    user_prompt = f\"Na podstawie poniższych informacji o lekach, odpowiedz na pytanie: {query}\\n\\n{context}\"\n",
    "    \n",
    "    # Generowanie odpowiedzi przez GPT-4.1-mini\n",
    "    response = openai_client.chat.completions.create(\n",
    "        model=\"gpt-4.1\",\n",
    "        messages=[\n",
    "            {\"role\": \"system\", \"content\": system_prompt},\n",
    "            {\"role\": \"user\", \"content\": user_prompt}\n",
    "        ],\n",
    "        temperature=0.1,\n",
    "        max_tokens=5000\n",
    "    )\n",
    "    \n",
    "    return response.choices[0].message.content"
   ]
  },
  {
   "cell_type": "code",
   "execution_count": null,
   "id": "3e46de87",
   "metadata": {},
   "outputs": [],
   "source": [
    "# Przykładowe użycie interfejsu\n",
    "r = ask_drug_rag(\"Jakie są działania niepożądane Gastroprilu? Jak dorośli powinni go dawkować?\", limit=20)\n",
    "print(r)"
   ]
  },
  {
   "cell_type": "code",
   "execution_count": null,
   "id": "6321c58a",
   "metadata": {},
   "outputs": [],
   "source": [
    "r = ask_drug_rag(\"Powiedz mi wszysko co wiesz o Gastroprilu\", limit=20)\n",
    "print(r)"
   ]
  },
  {
   "cell_type": "code",
   "execution_count": null,
   "id": "0b0f6f9d",
   "metadata": {},
   "outputs": [],
   "source": [
    "weaviate_client.close()"
   ]
  },
  {
   "cell_type": "code",
   "execution_count": null,
   "id": "bfceb9f3",
   "metadata": {},
   "outputs": [],
   "source": []
  }
 ],
 "metadata": {
  "kernelspec": {
   "display_name": "genai_venv",
   "language": "python",
   "name": "python3"
  },
  "language_info": {
   "codemirror_mode": {
    "name": "ipython",
    "version": 3
   },
   "file_extension": ".py",
   "mimetype": "text/x-python",
   "name": "python",
   "nbconvert_exporter": "python",
   "pygments_lexer": "ipython3",
   "version": "3.11.2"
  }
 },
 "nbformat": 4,
 "nbformat_minor": 5
}
