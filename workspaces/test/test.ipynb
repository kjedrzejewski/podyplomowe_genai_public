{
 "cells": [
  {
   "cell_type": "markdown",
   "metadata": {},
   "source": [
    "## Korzystanie z API Open AI uywając pakietu _openai_"
   ]
  },
  {
   "cell_type": "code",
   "execution_count": null,
   "metadata": {},
   "outputs": [],
   "source": [
    "from openai import OpenAI\n",
    "import os\n",
    "\n",
    "# Inicjalizacja klienta\n",
    "api_key = os.getenv('OPENAI_API_KEY')\n",
    "client = OpenAI(api_key=api_key) # konfiguracja połączenia z API\n",
    "\n",
    "# Wysłanie zapytania\n",
    "response = client.chat.completions.create(\n",
    "    model=\"gpt-4o\",\n",
    "    messages=[\n",
    "        {\"role\": \"system\", \"content\": \"Jesteś pomocnym asystentem.\"}, # system prompt - konfiguracja roli jaką model ma pełnić\n",
    "        {\"role\": \"user\", \"content\": \"Napisz wiersz o Gen AI\"}, # konkretne polecenie do wykonania\n",
    "    ],\n",
    "    temperature=0.7,\n",
    "    max_tokens=1000\n",
    ")\n",
    "\n",
    "# Wyświetlenie odpowiedzi\n",
    "print(response.choices[0].message.content)"
   ]
  },
  {
   "cell_type": "markdown",
   "metadata": {},
   "source": [
    "## Korzystanie z API Open AI uywając pakietu _langchain_"
   ]
  },
  {
   "cell_type": "code",
   "execution_count": null,
   "metadata": {},
   "outputs": [],
   "source": [
    "from langchain_openai import ChatOpenAI\n",
    "from langchain.schema import SystemMessage, HumanMessage\n",
    "from langchain_core.prompts import ChatPromptTemplate\n",
    "import os\n",
    "\n",
    "# Inicjalizacja klienta\n",
    "api_key = os.getenv('OPENAI_API_KEY')\n",
    "chat_model = ChatOpenAI(\n",
    "    openai_api_key=api_key,\n",
    "    model_name=\"gpt-4o\",\n",
    "    temperature=0.7,\n",
    "    max_tokens=1000\n",
    ")\n",
    "\n",
    "# Wysłanie zapytania\n",
    "prompt = ChatPromptTemplate.from_messages([\n",
    "    (\"system\", \"Jesteś pomocnym asystentem.\"),\n",
    "    (\"human\", \"{prompt}\")\n",
    "])\n",
    "\n",
    "chain = prompt | chat_model\n",
    "\n",
    "result = chain.invoke({\n",
    "    \"prompt\": \"Napisz wiersz o Gen AI\"\n",
    "})\n",
    "\n",
    "\n",
    "\n",
    "# Wyświetlenie odpowiedzi\n",
    "print(\"result.content\")"
   ]
  }
 ],
 "metadata": {
  "kernelspec": {
   "display_name": "genai_venv",
   "language": "python",
   "name": "python3"
  },
  "language_info": {
   "codemirror_mode": {
    "name": "ipython",
    "version": 3
   },
   "file_extension": ".py",
   "mimetype": "text/x-python",
   "name": "python",
   "nbconvert_exporter": "python",
   "pygments_lexer": "ipython3",
   "version": "3.11.2"
  }
 },
 "nbformat": 4,
 "nbformat_minor": 2
}
